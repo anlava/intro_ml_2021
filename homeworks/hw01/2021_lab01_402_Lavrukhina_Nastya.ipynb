{
 "cells": [
  {
   "cell_type": "markdown",
   "source": [
    "# Lab #1. Numpy, Pandas and Matplotlib\n",
    "\n",
    "### Important: do not delete any blocks\n",
    "#### But you may add as many as you need.\n",
    "\n",
    "This aim of this lab is to get you aquainted to very important python modules (libraries):\n",
    "- numpy\n",
    "- pandas\n",
    "- matplotlib\n",
    "\n",
    "Make sure to install these modules before you start.\n",
    "\n",
    "#### About tasks\n",
    "\n",
    "This notebook consists of numerous tasks but please make it look like a whole story: a report with your own code, thoughts and conclusions. In some of these tasks you will have to implement some custom functions, in some of them you will be asked to present some plots and describe them. Please try to make your code as short as possible and your answers as clear as possible.\n",
    "\n",
    "\n",
    "\n",
    "#### Evaluation\n",
    "\n",
    "- Each task has its value, **15 points** in total. If you use some open-source code please make sure to include the url. \n",
    "- There are **Questions** in the tasks, don't skip them. If you skip a question, value of the task becomes 0. \n",
    "- When your answer includes some numbers, make sure to provide some code or calculations that prove your results.\n",
    "- Pay a lot attention to your plots:\n",
    "    - Are they comprehensible? Shapes, colours, sizes?\n",
    "    - Are they titled?\n",
    "    - Are axes labelled?\n",
    "    - Is legend included?\n",
    "\n",
    "#### How to submit\n",
    "- Name your file according to this convention: `2021_lab01_GroupNumber_Surname_Name.ipynb`, for example \n",
    "    - `2021_lab01_404_Sheipak_Sviat.ipynb`\n",
    "    - `2021_lab01_NoGroup_Sheipak_Sviat.ipynb`\n",
    "- Attach your .ipynb to an email with topic `2021_lab01_GroupNumber_Surname_Name.ipynb`\n",
    "- Send it to `cosmic.research.ml@yandex.ru`\n",
    "- Deadline is `2021-09-29 23:00:00 +03:00`\n",
    "\n",
    "#### The Data:\n",
    "- All the datasets you need are here: https://disk.yandex.ru/d/Y9kRkFcH8lOb9w"
   ],
   "metadata": {}
  },
  {
   "cell_type": "markdown",
   "source": [
    "## Part 1. Numpy and plots [2.5 points]\n",
    "\n",
    "`numpy` is a module that helps you to deal with vectors (matrices and tensors too) and it has a lot of cool features."
   ],
   "metadata": {}
  },
  {
   "cell_type": "markdown",
   "source": [
    "Firstly, let's import it:"
   ],
   "metadata": {}
  },
  {
   "cell_type": "code",
   "execution_count": 1,
   "source": [
    "import numpy as np"
   ],
   "outputs": [],
   "metadata": {}
  },
  {
   "cell_type": "markdown",
   "source": [
    "Vectors in numpy are called **arrays**. Create an array from a list:"
   ],
   "metadata": {}
  },
  {
   "cell_type": "code",
   "execution_count": 2,
   "source": [
    "my_list = [1, 2, 3, 4, 5, 6]\n",
    "my_vector = np.array(my_list)\n",
    "print(my_list)\n",
    "print(my_vector)"
   ],
   "outputs": [
    {
     "name": "stdout",
     "output_type": "stream",
     "text": [
      "[1, 2, 3, 4, 5, 6]\n",
      "[1 2 3 4 5 6]\n"
     ]
    }
   ],
   "metadata": {}
  },
  {
   "cell_type": "markdown",
   "source": [
    "You can reshape them:"
   ],
   "metadata": {}
  },
  {
   "cell_type": "code",
   "execution_count": 3,
   "source": [
    "my_vector = my_vector.reshape((2, 3))\n",
    "print(my_vector.shape)\n",
    "print(my_vector)\n",
    "\n",
    "my_vector = my_vector.reshape((6, 1))\n",
    "print(my_vector.shape)\n",
    "print(my_vector)"
   ],
   "outputs": [
    {
     "name": "stdout",
     "output_type": "stream",
     "text": [
      "(2, 3)\n",
      "[[1 2 3]\n",
      " [4 5 6]]\n",
      "(6, 1)\n",
      "[[1]\n",
      " [2]\n",
      " [3]\n",
      " [4]\n",
      " [5]\n",
      " [6]]\n"
     ]
    }
   ],
   "metadata": {}
  },
  {
   "cell_type": "markdown",
   "source": [
    "You don't even have to state all of dimensions explicitly, since they can be derived (use -1):"
   ],
   "metadata": {}
  },
  {
   "cell_type": "code",
   "execution_count": 4,
   "source": [
    "my_vector = my_vector.reshape((3, -1))\n",
    "print(my_vector.shape)\n",
    "print(my_vector)"
   ],
   "outputs": [
    {
     "name": "stdout",
     "output_type": "stream",
     "text": [
      "(3, 2)\n",
      "[[1 2]\n",
      " [3 4]\n",
      " [5 6]]\n"
     ]
    }
   ],
   "metadata": {}
  },
  {
   "cell_type": "markdown",
   "source": [
    "Slices!"
   ],
   "metadata": {}
  },
  {
   "cell_type": "code",
   "execution_count": 5,
   "source": [
    "print(my_vector[0, 1])\n",
    "print(my_vector[:, 1])\n",
    "print(my_vector[:2])\n",
    "print(my_vector[:2,::-1])"
   ],
   "outputs": [
    {
     "name": "stdout",
     "output_type": "stream",
     "text": [
      "2\n",
      "[2 4 6]\n",
      "[[1 2]\n",
      " [3 4]]\n",
      "[[2 1]\n",
      " [4 3]]\n"
     ]
    }
   ],
   "metadata": {}
  },
  {
   "cell_type": "markdown",
   "source": [
    "Arithmetic operations:"
   ],
   "metadata": {}
  },
  {
   "cell_type": "code",
   "execution_count": 6,
   "source": [
    "vector_a = np.arange(10)\n",
    "print(vector_a)\n",
    "print(vector_a - 10)\n",
    "print(vector_a * 100)\n",
    "print(np.array([5, 4]) + np.array([1, 6]))\n",
    "print(np.array([5, 4]) * np.array([1, 6]))"
   ],
   "outputs": [
    {
     "name": "stdout",
     "output_type": "stream",
     "text": [
      "[0 1 2 3 4 5 6 7 8 9]\n",
      "[-10  -9  -8  -7  -6  -5  -4  -3  -2  -1]\n",
      "[  0 100 200 300 400 500 600 700 800 900]\n",
      "[ 6 10]\n",
      "[ 5 24]\n"
     ]
    }
   ],
   "metadata": {}
  },
  {
   "cell_type": "markdown",
   "source": [
    "**Task 1. Basic arrays [0.5 point]** \n",
    "\n",
    "Create a 2-dimensional numpy array `x` of 100 by 2 shape filled with random numbers from $U[0, 1]$"
   ],
   "metadata": {}
  },
  {
   "cell_type": "code",
   "execution_count": 7,
   "source": [
    "x = np.array([np.random.uniform(0, 1, 2) for i in range(100)])\n",
    "\n",
    "assert x.shape == (100, 2), \"Wrong shape\"\n",
    "assert x.min() >= 0 and x.max() <= 1, \"Wrong range\"\n",
    "assert np.abs(x.mean() - 0.5) < 8e-2, \"Wrong distribution or bad luck\"\n",
    "x.mean()"
   ],
   "outputs": [
    {
     "data": {
      "text/plain": "0.5373418128378462"
     },
     "execution_count": 7,
     "metadata": {},
     "output_type": "execute_result"
    }
   ],
   "metadata": {}
  },
  {
   "cell_type": "markdown",
   "source": [
    "Calculate averages: row-wise, column-wise and total. Use `np.mean` and `axis` parameter. Then `print` the `mean_total` rounded to 3 digits after comma (using `format` method)."
   ],
   "metadata": {}
  },
  {
   "cell_type": "code",
   "execution_count": 96,
   "source": [
    "mean_by_row = np.mean(x, axis=1)\n",
    "mean_by_col = np.mean(x, axis=0)\n",
    "mean_total = np.mean(x)\n",
    "\n",
    "assert mean_by_row.shape == (100, )\n",
    "assert mean_by_col.shape == (2, )\n",
    "assert mean_total.shape == ()\n",
    "\n",
    "print(\"The total mean is {:.3f}\".format(mean_total))"
   ],
   "outputs": [
    {
     "output_type": "stream",
     "name": "stdout",
     "text": [
      "The total mean is 0.490\n"
     ]
    }
   ],
   "metadata": {}
  },
  {
   "cell_type": "markdown",
   "source": [
    "**Task 2. Sort 2-dim array [0.5 point]** \n",
    "\n",
    "Create a 1-dimensional numpy array `y` of 100 random **integers** from $U\\{0, 1, 2, 3\\}$"
   ],
   "metadata": {}
  },
  {
   "cell_type": "code",
   "execution_count": 97,
   "source": [
    "y = np.array([np.random.choice([0, 1, 2, 3], 100)]).flatten()\n",
    "\n",
    "assert y.shape == (100,)"
   ],
   "outputs": [],
   "metadata": {}
  },
  {
   "cell_type": "markdown",
   "source": [
    "Import class `Counter` from `collections` module."
   ],
   "metadata": {}
  },
  {
   "cell_type": "code",
   "execution_count": 98,
   "source": [
    "from collections import Counter"
   ],
   "outputs": [],
   "metadata": {}
  },
  {
   "cell_type": "code",
   "execution_count": 99,
   "source": [
    "basic_counter = Counter(y)\n",
    "container_A = dict(basic_counter)\n",
    "container_B = list(basic_counter.items())\n",
    "container_C = np.array(container_B)"
   ],
   "outputs": [],
   "metadata": {}
  },
  {
   "cell_type": "code",
   "execution_count": 100,
   "source": [
    "print(container_A, container_B, container_C)"
   ],
   "outputs": [
    {
     "output_type": "stream",
     "name": "stdout",
     "text": [
      "{2: 18, 1: 25, 3: 21, 0: 36} [(2, 18), (1, 25), (3, 21), (0, 36)] [[ 2 18]\n",
      " [ 1 25]\n",
      " [ 3 21]\n",
      " [ 0 36]]\n"
     ]
    }
   ],
   "metadata": {}
  },
  {
   "cell_type": "markdown",
   "source": [
    "Here are three data structures.\n",
    "\n",
    "**Question:** What is the type of `container_A`? What is the type of `container_B`? What is the type of the elements of `container_C`?"
   ],
   "metadata": {}
  },
  {
   "cell_type": "markdown",
   "source": [
    "**Solution:** Let's have a look at the type of each container:"
   ],
   "metadata": {}
  },
  {
   "cell_type": "code",
   "execution_count": 101,
   "source": [
    "print(type(container_A), type(container_B), type(container_C), type(container_C[0]))"
   ],
   "outputs": [
    {
     "output_type": "stream",
     "name": "stdout",
     "text": [
      "<class 'dict'> <class 'list'> <class 'numpy.ndarray'> <class 'numpy.ndarray'>\n"
     ]
    }
   ],
   "metadata": {}
  },
  {
   "cell_type": "markdown",
   "source": [
    "**Your answer:** container_A has a type 'dict' (dictionary), container_B - 'list' and container_C - 'numpy.ndarray', elements of container_C also is a 'numpy.ndarray'"
   ],
   "metadata": {}
  },
  {
   "cell_type": "markdown",
   "source": [
    "Use `np.sort` to order elements of `container_C` acsending by their first coordinate (pay attention to `axis` parameter)."
   ],
   "metadata": {}
  },
  {
   "cell_type": "markdown",
   "source": [
    "***COMMENT***: Sorry, can't do it with np.sort, only np.argsort ;("
   ],
   "metadata": {}
  },
  {
   "cell_type": "code",
   "execution_count": 102,
   "source": [
    "counter_values = container_C[np.argsort(container_C, axis=0)[:, 0]]\n",
    "\n",
    "assert list(counter_values[:, 0]) == [0, 1, 2, 3], \"Error: Wrong order\"\n",
    "assert min([container_A[x[0]] == x[1] for x in counter_values]), \"Error: Count values shuffled\"\n",
    "print(\"Great!\")"
   ],
   "outputs": [
    {
     "output_type": "stream",
     "name": "stdout",
     "text": [
      "Great!\n"
     ]
    }
   ],
   "metadata": {}
  },
  {
   "cell_type": "markdown",
   "source": [
    "**Task 3. Basic barplot [0.5 points]** \n",
    "\n",
    "Plot a barplot representing how many times each value `0, 1, 2, 3` is encounterd in `y`. Do not forget to:\n",
    "- Add title to the plot\n",
    "- Label the axes\n",
    "- Specify x-ticks \n",
    "\n",
    "You may use `counter_values` you have obtained in a Task 2."
   ],
   "metadata": {}
  },
  {
   "cell_type": "code",
   "execution_count": 103,
   "source": [
    "import matplotlib.pyplot as plt"
   ],
   "outputs": [],
   "metadata": {}
  },
  {
   "cell_type": "code",
   "execution_count": 104,
   "source": [
    "plt.title(\"Value counts in $y$\")\n",
    "plt.bar(counter_values[:, 0], counter_values[:, 1])\n",
    "plt.xticks(counter_values[:, 0])\n",
    "plt.xlabel(\"Value\")\n",
    "plt.ylabel(\"Count\")\n",
    "plt.grid(10)\n",
    "plt.show()"
   ],
   "outputs": [
    {
     "output_type": "display_data",
     "data": {
      "image/png": "[encoded data removed]",
      "text/plain": [
       "<Figure size 432x288 with 1 Axes>"
      ]
     },
     "metadata": {
      "needs_background": "light"
     }
    }
   ],
   "metadata": {}
  },
  {
   "cell_type": "markdown",
   "source": [
    "**Task 4. Concat two numpy arrays [0.5 point]**\n",
    "\n",
    "You have:\n",
    "- `x`: 100 $\\times$ 2\n",
    "- `y`: 100\n",
    "\n",
    "Concatenate them horizontally to get `z`: 100 $\\times$ 3"
   ],
   "metadata": {}
  },
  {
   "cell_type": "code",
   "execution_count": 105,
   "source": [
    "z = np.concatenate((x, y.reshape((100,1))), axis=1)\n",
    "\n",
    "assert z.shape == (100, 3) and np.equal(z[:, :2], x).all() and np.equal(z[:, -1], y).all()"
   ],
   "outputs": [],
   "metadata": {}
  },
  {
   "cell_type": "markdown",
   "source": [
    "**Task 5. Basic Scatter Plot [0.5 point]**\n",
    "\n",
    "You have:\n",
    "- `z`: 100 $\\times$ 3\n",
    "\n",
    "Each row of `z` consists of 3 numbers. Build a scatter plot where each row is represented by a dot: first and second number are coordinates and third number corresponds to dot colour. Don't forget to add a legend."
   ],
   "metadata": {}
  },
  {
   "cell_type": "code",
   "execution_count": 106,
   "source": [
    "plt.figure(figsize=(8, 6))\n",
    "colors = np.unique(z[:, 2])\n",
    "\n",
    "for col in colors:\n",
    "    dots = z[z[:, 2] == col]\n",
    "    plt.scatter(dots[:, 0], dots[:, 1], label=\"z3 = {}\".format(col))\n",
    "    \n",
    "plt.legend(loc=\"upper right\")\n",
    "plt.xlabel('z0')\n",
    "plt.ylabel('z1')\n",
    "plt.show()"
   ],
   "outputs": [
    {
     "output_type": "display_data",
     "data": {
      "image/png": "[encoded data removed]",
      "text/plain": [
       "<Figure size 576x432 with 1 Axes>"
      ]
     },
     "metadata": {
      "needs_background": "light"
     }
    }
   ],
   "metadata": {}
  },
  {
   "cell_type": "markdown",
   "source": [
    "# Part 2. Moscow houses [4.5 points]\n",
    "\n",
    "In this part we start to work with datasets and `pandas` module.\n",
    "You will need to download `moscow_coords.csv` file. It provides a coordinate and an address for some houses in Moscow. The original source of the data: https://data.mos.ru/opendata/60562/data/table?versionNumber=3&releaseNumber=445"
   ],
   "metadata": {}
  },
  {
   "cell_type": "code",
   "execution_count": 107,
   "source": [
    "import pandas as pd"
   ],
   "outputs": [],
   "metadata": {}
  },
  {
   "cell_type": "code",
   "execution_count": 108,
   "source": [
    "coords_db = pd.read_csv(\"data/moscow_coords.csv\")"
   ],
   "outputs": [],
   "metadata": {}
  },
  {
   "cell_type": "code",
   "execution_count": 109,
   "source": [
    "coords_db.head(10)"
   ],
   "outputs": [
    {
     "output_type": "execute_result",
     "data": {
      "text/html": [
       "<div>\n",
       "<style scoped>\n",
       "    .dataframe tbody tr th:only-of-type {\n",
       "        vertical-align: middle;\n",
       "    }\n",
       "\n",
       "    .dataframe tbody tr th {\n",
       "        vertical-align: top;\n",
       "    }\n",
       "\n",
       "    .dataframe thead th {\n",
       "        text-align: right;\n",
       "    }\n",
       "</style>\n",
       "<table border=\"1\" class=\"dataframe\">\n",
       "  <thead>\n",
       "    <tr style=\"text-align: right;\">\n",
       "      <th></th>\n",
       "      <th>ADDRESS</th>\n",
       "      <th>coor_x</th>\n",
       "      <th>coor_y</th>\n",
       "    </tr>\n",
       "  </thead>\n",
       "  <tbody>\n",
       "    <tr>\n",
       "      <th>0</th>\n",
       "      <td>город Москва, Варшавское шоссе, дом 150, строе...</td>\n",
       "      <td>37.601252</td>\n",
       "      <td>55.599249</td>\n",
       "    </tr>\n",
       "    <tr>\n",
       "      <th>1</th>\n",
       "      <td>город Москва, Косинская улица, дом 26А</td>\n",
       "      <td>37.828115</td>\n",
       "      <td>55.717493</td>\n",
       "    </tr>\n",
       "    <tr>\n",
       "      <th>2</th>\n",
       "      <td>город Москва, Гороховский переулок, дом 21</td>\n",
       "      <td>37.668093</td>\n",
       "      <td>55.766224</td>\n",
       "    </tr>\n",
       "    <tr>\n",
       "      <th>3</th>\n",
       "      <td>город Москва, Тагильская улица, дом 4, строени...</td>\n",
       "      <td>37.752887</td>\n",
       "      <td>55.818257</td>\n",
       "    </tr>\n",
       "    <tr>\n",
       "      <th>4</th>\n",
       "      <td>город Москва, Ленинградский проспект, дом 73А,...</td>\n",
       "      <td>37.513546</td>\n",
       "      <td>55.803510</td>\n",
       "    </tr>\n",
       "    <tr>\n",
       "      <th>5</th>\n",
       "      <td>город Москва, улица Вострухина, дом 5А</td>\n",
       "      <td>37.797659</td>\n",
       "      <td>55.720022</td>\n",
       "    </tr>\n",
       "    <tr>\n",
       "      <th>6</th>\n",
       "      <td>город Москва, улица Космонавта Волкова, дом 10...</td>\n",
       "      <td>37.514713</td>\n",
       "      <td>55.815373</td>\n",
       "    </tr>\n",
       "    <tr>\n",
       "      <th>7</th>\n",
       "      <td>город Москва, Балтийская улица, дом 8, строени...</td>\n",
       "      <td>37.517288</td>\n",
       "      <td>55.809580</td>\n",
       "    </tr>\n",
       "    <tr>\n",
       "      <th>8</th>\n",
       "      <td>город Москва, улица Головачёва, дом 3, корпус 2</td>\n",
       "      <td>37.805437</td>\n",
       "      <td>55.675219</td>\n",
       "    </tr>\n",
       "    <tr>\n",
       "      <th>9</th>\n",
       "      <td>город Москва, Климентовский переулок, дом 1, с...</td>\n",
       "      <td>37.631972</td>\n",
       "      <td>55.740967</td>\n",
       "    </tr>\n",
       "  </tbody>\n",
       "</table>\n",
       "</div>"
      ],
      "text/plain": [
       "                                             ADDRESS     coor_x     coor_y\n",
       "0  город Москва, Варшавское шоссе, дом 150, строе...  37.601252  55.599249\n",
       "1             город Москва, Косинская улица, дом 26А  37.828115  55.717493\n",
       "2         город Москва, Гороховский переулок, дом 21  37.668093  55.766224\n",
       "3  город Москва, Тагильская улица, дом 4, строени...  37.752887  55.818257\n",
       "4  город Москва, Ленинградский проспект, дом 73А,...  37.513546  55.803510\n",
       "5             город Москва, улица Вострухина, дом 5А  37.797659  55.720022\n",
       "6  город Москва, улица Космонавта Волкова, дом 10...  37.514713  55.815373\n",
       "7  город Москва, Балтийская улица, дом 8, строени...  37.517288  55.809580\n",
       "8    город Москва, улица Головачёва, дом 3, корпус 2  37.805437  55.675219\n",
       "9  город Москва, Климентовский переулок, дом 1, с...  37.631972  55.740967"
      ]
     },
     "metadata": {},
     "execution_count": 109
    }
   ],
   "metadata": {
    "scrolled": true
   }
  },
  {
   "cell_type": "code",
   "execution_count": 110,
   "source": [
    "print(type(coords_db))\n",
    "print(coords_db.shape)\n",
    "print(coords_db.columns)\n",
    "print(type(coords_db[\"ADDRESS\"]))"
   ],
   "outputs": [
    {
     "output_type": "stream",
     "name": "stdout",
     "text": [
      "<class 'pandas.core.frame.DataFrame'>\n",
      "(406934, 3)\n",
      "Index(['ADDRESS', 'coor_x', 'coor_y'], dtype='object')\n",
      "<class 'pandas.core.series.Series'>\n"
     ]
    }
   ],
   "metadata": {
    "scrolled": true
   }
  },
  {
   "cell_type": "markdown",
   "source": [
    "**Task 1. Address analysis [0.5 point]**\n",
    "\n",
    "As we can see, the dataset has 3 columns: `ADDRESS`, `coor_x` and `coor_y`.\n",
    "Let's focus on `ADDRESS` - the datatype of this column is `str`.\n",
    "\n",
    "Your task is to find and describe addresses that inlcude word `город`* at least two times.\n",
    "\n",
    "**город* - *city* in russian"
   ],
   "metadata": {}
  },
  {
   "cell_type": "markdown",
   "source": [
    "Let's do it step by step:\n",
    "1. Implement a function `tokenize_address`, that takes a string\n",
    "\n",
    "* casts string to lowercase;\n",
    "    \n",
    "* removes all `,` and `.` symbols;\n",
    "    \n",
    "* splits string into a `list` of strings; separation symbol is a whitespace ` `.\n",
    "    \n",
    "2. Implement a function `count_a_token`, that takes a list of strings and counts number of entries of a particular token."
   ],
   "metadata": {}
  },
  {
   "cell_type": "code",
   "execution_count": 111,
   "source": [
    "def tokenize_address(input_string):\n",
    "    \"\"\"\n",
    "    input:\n",
    "    - input_string: str\n",
    "    output:\n",
    "    - list<str> - string split into tokens\n",
    "    \"\"\"\n",
    "    lower_case = input_string.lower()\n",
    "    comma_free_str = lower_case.replace(',', '')\n",
    "    point_free_str = comma_free_str.replace('.', '')\n",
    "    tokenized_str = point_free_str.split()\n",
    "    \n",
    "    return tokenized_str\n",
    "\n",
    "assert tokenize_address(\"A, b. C, and d?\") == [\"a\", \"b\", \"c\", \"and\", \"d?\"], \"Something is wrong\""
   ],
   "outputs": [],
   "metadata": {}
  },
  {
   "cell_type": "code",
   "execution_count": 112,
   "source": [
    "def count_a_token(token_list, lookup_token):\n",
    "    \"\"\"\n",
    "    input:\n",
    "    - token_list: list<str>\n",
    "    - lookup_token: str\n",
    "    output:\n",
    "    - int - how many times lookup_token is encountered in token_list\n",
    "    \"\"\"\n",
    "    result = token_list.count(lookup_token)\n",
    "    \n",
    "    return result"
   ],
   "outputs": [],
   "metadata": {}
  },
  {
   "cell_type": "code",
   "execution_count": 113,
   "source": [
    "test_address = \"город Москва, улица Космонавта Волкова, дом 10.\"\n",
    "tokens = tokenize_address(test_address)\n",
    "print(tokens)\n",
    "print(count_a_token(tokens, \"город\"))\n",
    "\n",
    "assert tokens == [\"город\", \"москва\", \"улица\", \"космонавта\", \"волкова\", \"дом\", \"10\"]\n",
    "assert count_a_token(tokens, \"город\") == 1\n",
    "print(\"Seems fine!\")"
   ],
   "outputs": [
    {
     "output_type": "stream",
     "name": "stdout",
     "text": [
      "['город', 'москва', 'улица', 'космонавта', 'волкова', 'дом', '10']\n",
      "1\n",
      "Seems fine!\n"
     ]
    }
   ],
   "metadata": {}
  },
  {
   "cell_type": "markdown",
   "source": [
    "Now it is time add new column `city_token_cnt` to the dataset. Values in this column should be a result of applying two functions above to a `coords_db[\"ADDRESS\"]`. Note that `coords_db[\"ADDRESS\"]` is a `pandas.Series` object and it has method `apply`."
   ],
   "metadata": {}
  },
  {
   "cell_type": "code",
   "execution_count": 114,
   "source": [
    "coords_db.loc[:, \"city_token_cnt\"] = coords_db[\"ADDRESS\"].apply(lambda x: count_a_token(tokenize_address(x), \"город\"))"
   ],
   "outputs": [],
   "metadata": {}
  },
  {
   "cell_type": "code",
   "execution_count": 115,
   "source": [
    "coords_db.head()"
   ],
   "outputs": [
    {
     "output_type": "execute_result",
     "data": {
      "text/html": [
       "<div>\n",
       "<style scoped>\n",
       "    .dataframe tbody tr th:only-of-type {\n",
       "        vertical-align: middle;\n",
       "    }\n",
       "\n",
       "    .dataframe tbody tr th {\n",
       "        vertical-align: top;\n",
       "    }\n",
       "\n",
       "    .dataframe thead th {\n",
       "        text-align: right;\n",
       "    }\n",
       "</style>\n",
       "<table border=\"1\" class=\"dataframe\">\n",
       "  <thead>\n",
       "    <tr style=\"text-align: right;\">\n",
       "      <th></th>\n",
       "      <th>ADDRESS</th>\n",
       "      <th>coor_x</th>\n",
       "      <th>coor_y</th>\n",
       "      <th>city_token_cnt</th>\n",
       "    </tr>\n",
       "  </thead>\n",
       "  <tbody>\n",
       "    <tr>\n",
       "      <th>0</th>\n",
       "      <td>город Москва, Варшавское шоссе, дом 150, строе...</td>\n",
       "      <td>37.601252</td>\n",
       "      <td>55.599249</td>\n",
       "      <td>1</td>\n",
       "    </tr>\n",
       "    <tr>\n",
       "      <th>1</th>\n",
       "      <td>город Москва, Косинская улица, дом 26А</td>\n",
       "      <td>37.828115</td>\n",
       "      <td>55.717493</td>\n",
       "      <td>1</td>\n",
       "    </tr>\n",
       "    <tr>\n",
       "      <th>2</th>\n",
       "      <td>город Москва, Гороховский переулок, дом 21</td>\n",
       "      <td>37.668093</td>\n",
       "      <td>55.766224</td>\n",
       "      <td>1</td>\n",
       "    </tr>\n",
       "    <tr>\n",
       "      <th>3</th>\n",
       "      <td>город Москва, Тагильская улица, дом 4, строени...</td>\n",
       "      <td>37.752887</td>\n",
       "      <td>55.818257</td>\n",
       "      <td>1</td>\n",
       "    </tr>\n",
       "    <tr>\n",
       "      <th>4</th>\n",
       "      <td>город Москва, Ленинградский проспект, дом 73А,...</td>\n",
       "      <td>37.513546</td>\n",
       "      <td>55.803510</td>\n",
       "      <td>1</td>\n",
       "    </tr>\n",
       "  </tbody>\n",
       "</table>\n",
       "</div>"
      ],
      "text/plain": [
       "                                             ADDRESS     coor_x     coor_y  \\\n",
       "0  город Москва, Варшавское шоссе, дом 150, строе...  37.601252  55.599249   \n",
       "1             город Москва, Косинская улица, дом 26А  37.828115  55.717493   \n",
       "2         город Москва, Гороховский переулок, дом 21  37.668093  55.766224   \n",
       "3  город Москва, Тагильская улица, дом 4, строени...  37.752887  55.818257   \n",
       "4  город Москва, Ленинградский проспект, дом 73А,...  37.513546  55.803510   \n",
       "\n",
       "   city_token_cnt  \n",
       "0               1  \n",
       "1               1  \n",
       "2               1  \n",
       "3               1  \n",
       "4               1  "
      ]
     },
     "metadata": {},
     "execution_count": 115
    }
   ],
   "metadata": {}
  },
  {
   "cell_type": "markdown",
   "source": [
    "And the final step: let's do a `groupby` by column `city_token_cnt` to find out how many addresses have token `город` two times or more."
   ],
   "metadata": {}
  },
  {
   "cell_type": "code",
   "execution_count": 116,
   "source": [
    "stats = coords_db.groupby(by=['city_token_cnt'])"
   ],
   "outputs": [],
   "metadata": {}
  },
  {
   "cell_type": "code",
   "execution_count": 117,
   "source": [
    "stats.count()"
   ],
   "outputs": [
    {
     "output_type": "execute_result",
     "data": {
      "text/html": [
       "<div>\n",
       "<style scoped>\n",
       "    .dataframe tbody tr th:only-of-type {\n",
       "        vertical-align: middle;\n",
       "    }\n",
       "\n",
       "    .dataframe tbody tr th {\n",
       "        vertical-align: top;\n",
       "    }\n",
       "\n",
       "    .dataframe thead th {\n",
       "        text-align: right;\n",
       "    }\n",
       "</style>\n",
       "<table border=\"1\" class=\"dataframe\">\n",
       "  <thead>\n",
       "    <tr style=\"text-align: right;\">\n",
       "      <th></th>\n",
       "      <th>ADDRESS</th>\n",
       "      <th>coor_x</th>\n",
       "      <th>coor_y</th>\n",
       "    </tr>\n",
       "    <tr>\n",
       "      <th>city_token_cnt</th>\n",
       "      <th></th>\n",
       "      <th></th>\n",
       "      <th></th>\n",
       "    </tr>\n",
       "  </thead>\n",
       "  <tbody>\n",
       "    <tr>\n",
       "      <th>0</th>\n",
       "      <td>1790</td>\n",
       "      <td>1790</td>\n",
       "      <td>1790</td>\n",
       "    </tr>\n",
       "    <tr>\n",
       "      <th>1</th>\n",
       "      <td>394061</td>\n",
       "      <td>394061</td>\n",
       "      <td>394061</td>\n",
       "    </tr>\n",
       "    <tr>\n",
       "      <th>2</th>\n",
       "      <td>11083</td>\n",
       "      <td>11083</td>\n",
       "      <td>11083</td>\n",
       "    </tr>\n",
       "  </tbody>\n",
       "</table>\n",
       "</div>"
      ],
      "text/plain": [
       "                ADDRESS  coor_x  coor_y\n",
       "city_token_cnt                         \n",
       "0                  1790    1790    1790\n",
       "1                394061  394061  394061\n",
       "2                 11083   11083   11083"
      ]
     },
     "metadata": {},
     "execution_count": 117
    }
   ],
   "metadata": {}
  },
  {
   "cell_type": "markdown",
   "source": [
    "**Question**: how many addresses have token `город` two times or more?"
   ],
   "metadata": {}
  },
  {
   "cell_type": "markdown",
   "source": [
    "**Your answer**: 11083"
   ],
   "metadata": {}
  },
  {
   "cell_type": "markdown",
   "source": [
    "**Task 2. Count 2-grams [1 point]**\n",
    "\n",
    "For a sequence of tokens `[\"a_1\", \"a_2\", ..., \"a_N\"]` **n-gram** is a subsequence of **n** consecutive tokens.\n",
    "\n",
    "For example: given a sequence of tokens `[\"a\", \"b\", \"c\", \"d\"]` it has:\n",
    "- Four unigrams: `[\"a\"], [\"b\"], [\"c\"], [\"d\"]`\n",
    "- Three 2-grams: `[\"a\", \"b\"], [\"b\", \"c\"], [\"c\", \"d\"]`\n",
    "- Two 3-grams: `[\"a\", \"b\", \"c\"], [\"b\", \"c\", \"d\"]`\n",
    "- One 4-gram: `[\"a\", \"b\", \"c\", \"d\"]`\n",
    "\n",
    "Your task is two find all 2-grams that start with `город` token and count their occurences in all addresses."
   ],
   "metadata": {}
  },
  {
   "cell_type": "markdown",
   "source": [
    "Firstly, impement a function `get_n_grams`:"
   ],
   "metadata": {}
  },
  {
   "cell_type": "code",
   "execution_count": 118,
   "source": [
    "def get_n_grams(input_tokens, n):\n",
    "    \"\"\"\n",
    "    input:\n",
    "    - input_tokens: list<str>\n",
    "    - n: int, size of n-grams\n",
    "    output:\n",
    "    - list<list<str>> - list of n-grams\n",
    "    \"\"\"\n",
    "    input_len = len(input_tokens)\n",
    "    ngrams = []\n",
    "    idx = 0\n",
    "    while idx+n <= input_len:\n",
    "        ngrams.append(input_tokens[idx:idx+n])\n",
    "        idx += 1\n",
    "    return ngrams"
   ],
   "outputs": [],
   "metadata": {}
  },
  {
   "cell_type": "code",
   "execution_count": 119,
   "source": [
    "assert get_n_grams([\"a\", \"b\", \"c\", \"d\"], 1) ==  [['a'], ['b'], ['c'], ['d']]\n",
    "assert get_n_grams([\"a\", \"b\", \"c\", \"d\"], 2) ==  [['a', 'b'], ['b', 'c'], ['c', 'd']]\n",
    "assert get_n_grams([\"a\", \"b\", \"c\", \"d\"], 3) ==  [['a', 'b', 'c'], ['b', 'c', 'd']]\n",
    "assert get_n_grams([\"a\", \"b\", \"c\", \"d\"], 4) ==  [['a', 'b', 'c', 'd']]\n",
    "\n",
    "print(\"OK, seems fine!\")"
   ],
   "outputs": [
    {
     "output_type": "stream",
     "name": "stdout",
     "text": [
      "OK, seems fine!\n"
     ]
    }
   ],
   "metadata": {}
  },
  {
   "cell_type": "markdown",
   "source": [
    "Secondly, define a function that will filter list of n-grams by the first element of an n-gram:"
   ],
   "metadata": {}
  },
  {
   "cell_type": "code",
   "execution_count": 120,
   "source": [
    "def filter_n_grams(n_grams, lookup_token):\n",
    "    \"\"\"\n",
    "    input:\n",
    "    - n_grams: list<list<str>>\n",
    "    - lookup_token: str\n",
    "    output:\n",
    "    - list<list<str>> - sublist of n-grams first token of which is equal to lookup_token\n",
    "    \"\"\"\n",
    "    result = list(filter(lambda x: x[0] == lookup_token, n_grams))\n",
    "    return result"
   ],
   "outputs": [],
   "metadata": {}
  },
  {
   "cell_type": "code",
   "execution_count": 121,
   "source": [
    "assert filter_n_grams([\n",
    "    [\"a\", \"b\"], \n",
    "    [\"a\", \"c\"],\n",
    "    [\"b\", \"d\"],\n",
    "    [\"d\", \"a\"]\n",
    "    ], \n",
    "    \"a\") == [[\"a\", \"b\"], [\"a\", \"c\"]] \n",
    "\n",
    "print(\"Seems fine!\")"
   ],
   "outputs": [
    {
     "output_type": "stream",
     "name": "stdout",
     "text": [
      "Seems fine!\n"
     ]
    }
   ],
   "metadata": {}
  },
  {
   "cell_type": "markdown",
   "source": [
    "Back to our dataset. Leave rows with `city_token_cnt >= 2`"
   ],
   "metadata": {}
  },
  {
   "cell_type": "code",
   "execution_count": 122,
   "source": [
    "sub_db = coords_db[coords_db['city_token_cnt'] >= 2]\n",
    "print(sub_db.shape)\n",
    "sub_db.head(5)"
   ],
   "outputs": [
    {
     "output_type": "stream",
     "name": "stdout",
     "text": [
      "(11083, 4)\n"
     ]
    },
    {
     "output_type": "execute_result",
     "data": {
      "text/html": [
       "<div>\n",
       "<style scoped>\n",
       "    .dataframe tbody tr th:only-of-type {\n",
       "        vertical-align: middle;\n",
       "    }\n",
       "\n",
       "    .dataframe tbody tr th {\n",
       "        vertical-align: top;\n",
       "    }\n",
       "\n",
       "    .dataframe thead th {\n",
       "        text-align: right;\n",
       "    }\n",
       "</style>\n",
       "<table border=\"1\" class=\"dataframe\">\n",
       "  <thead>\n",
       "    <tr style=\"text-align: right;\">\n",
       "      <th></th>\n",
       "      <th>ADDRESS</th>\n",
       "      <th>coor_x</th>\n",
       "      <th>coor_y</th>\n",
       "      <th>city_token_cnt</th>\n",
       "    </tr>\n",
       "  </thead>\n",
       "  <tbody>\n",
       "    <tr>\n",
       "      <th>40</th>\n",
       "      <td>город Москва, город Зеленоград, корпус 1212</td>\n",
       "      <td>37.193861</td>\n",
       "      <td>55.992106</td>\n",
       "      <td>2</td>\n",
       "    </tr>\n",
       "    <tr>\n",
       "      <th>193</th>\n",
       "      <td>город Москва, город Зеленоград, корпус 1459</td>\n",
       "      <td>37.162394</td>\n",
       "      <td>55.984514</td>\n",
       "      <td>2</td>\n",
       "    </tr>\n",
       "    <tr>\n",
       "      <th>220</th>\n",
       "      <td>город Москва, город Зеленоград, корпус 1215</td>\n",
       "      <td>37.190049</td>\n",
       "      <td>55.994432</td>\n",
       "      <td>2</td>\n",
       "    </tr>\n",
       "    <tr>\n",
       "      <th>282</th>\n",
       "      <td>город Москва, город Зеленоград, корпус 1110</td>\n",
       "      <td>37.188728</td>\n",
       "      <td>55.999289</td>\n",
       "      <td>2</td>\n",
       "    </tr>\n",
       "    <tr>\n",
       "      <th>363</th>\n",
       "      <td>город Москва, город Зеленоград, корпус 115</td>\n",
       "      <td>37.204655</td>\n",
       "      <td>56.008116</td>\n",
       "      <td>2</td>\n",
       "    </tr>\n",
       "  </tbody>\n",
       "</table>\n",
       "</div>"
      ],
      "text/plain": [
       "                                         ADDRESS     coor_x     coor_y  \\\n",
       "40   город Москва, город Зеленоград, корпус 1212  37.193861  55.992106   \n",
       "193  город Москва, город Зеленоград, корпус 1459  37.162394  55.984514   \n",
       "220  город Москва, город Зеленоград, корпус 1215  37.190049  55.994432   \n",
       "282  город Москва, город Зеленоград, корпус 1110  37.188728  55.999289   \n",
       "363   город Москва, город Зеленоград, корпус 115  37.204655  56.008116   \n",
       "\n",
       "     city_token_cnt  \n",
       "40                2  \n",
       "193               2  \n",
       "220               2  \n",
       "282               2  \n",
       "363               2  "
      ]
     },
     "metadata": {},
     "execution_count": 122
    }
   ],
   "metadata": {}
  },
  {
   "cell_type": "markdown",
   "source": [
    "Let's build a dict that contains counts of 2-grams: \n",
    "```\n",
    "{\n",
    "    \"город x\": cnt_x,\n",
    "    \"город y\": cnt_y,\n",
    "     ...\n",
    "    \"город N\": cnt_N\n",
    "      \n",
    "}\n",
    "```\n",
    "Note that key is a string `\"город x\"`, not a list `[\"город\", \"x\"]` - list cannot be a key in a dict."
   ],
   "metadata": {}
  },
  {
   "cell_type": "code",
   "execution_count": 123,
   "source": [
    "counter_dict = {}\n",
    "for address in sub_db[\"ADDRESS\"]:\n",
    "    tokens = address.split()\n",
    "    n_grams = get_n_grams(tokens, n=2)\n",
    "    filtered_n_grams = filter_n_grams(n_grams, lookup_token='город')\n",
    "    for x in filtered_n_grams:\n",
    "        key = ' '.join(x)[:-1]\n",
    "        counter_dict[key] = 1 if key not in counter_dict else counter_dict[key] + 1"
   ],
   "outputs": [],
   "metadata": {}
  },
  {
   "cell_type": "code",
   "execution_count": 124,
   "source": [
    "counter_dict"
   ],
   "outputs": [
    {
     "output_type": "execute_result",
     "data": {
      "text/plain": [
       "{'город Москва': 11083,\n",
       " 'город Зеленоград': 3579,\n",
       " 'город Московский': 1351,\n",
       " 'город Троицк': 4193,\n",
       " 'город Щербинка': 1959,\n",
       " 'город Зеленогра': 1}"
      ]
     },
     "metadata": {},
     "execution_count": 124
    }
   ],
   "metadata": {
    "scrolled": false
   }
  },
  {
   "cell_type": "markdown",
   "source": [
    "***COMMENT***: Oh, seems like there is a misspell \"Зеленогра\" in data set =)"
   ],
   "metadata": {}
  },
  {
   "cell_type": "markdown",
   "source": [
    "**Task 3. Garden Ring houses scatterplot [1 points]**\n",
    "\n",
    "We need to find houses that are located near the Garden Ring. There can be a lot of definitions of *near* - but in our case *near* means inside a polygon. Inner and outer polygon points can be found in files: `inner_poly.csv` and `outer_poly.csv` respectively."
   ],
   "metadata": {}
  },
  {
   "cell_type": "code",
   "execution_count": 125,
   "source": [
    "inner_poly = pd.read_csv(\"data/inner_poly.csv\", header=None).values\n",
    "outer_poly = pd.read_csv(\"data/outer_poly.csv\", header=None).values\n",
    "house_points = coords_db[[\"coor_x\", \"coor_y\"]].values"
   ],
   "outputs": [],
   "metadata": {}
  },
  {
   "cell_type": "markdown",
   "source": [
    "Let's scatter plot the points:"
   ],
   "metadata": {}
  },
  {
   "cell_type": "code",
   "execution_count": 126,
   "source": [
    "plt.figure(figsize=(8, 8))\n",
    "plt.title(\"Moscow Houses\")\n",
    "plt.scatter(house_points[:, 0], house_points[:, 1], linewidths=0.001, c=\"grey\")\n",
    "plt.scatter(inner_poly[:, 0], inner_poly[:, 1], linewidths=0.005, c=\"b\")\n",
    "plt.scatter(outer_poly[:, 0], outer_poly[:, 1], linewidths=0.005, c=\"r\")\n",
    "plt.show()"
   ],
   "outputs": [
    {
     "output_type": "display_data",
     "data": {
      "image/png": "[encoded data removed]",
      "text/plain": [
       "<Figure size 576x576 with 1 Axes>"
      ]
     },
     "metadata": {
      "needs_background": "light"
     }
    }
   ],
   "metadata": {}
  },
  {
   "cell_type": "markdown",
   "source": [
    "Ooooops seems a bit wrong. \n",
    "\n",
    "**Question**: why does the plot look so strange? How to fix it?"
   ],
   "metadata": {}
  },
  {
   "cell_type": "markdown",
   "source": [
    "**Your answer:** Because the main part of our values is in the upper right corner, while we have outliers around 0. We should remove the outliers."
   ],
   "metadata": {}
  },
  {
   "cell_type": "markdown",
   "source": [
    "Now fix the `house_points` array, remove a set of points in the bottom left corner:"
   ],
   "metadata": {}
  },
  {
   "cell_type": "code",
   "execution_count": 39,
   "source": [
    "house_points = np.array([x for x in house_points if x.any() != 0])"
   ],
   "outputs": [],
   "metadata": {}
  },
  {
   "cell_type": "markdown",
   "source": [
    "And scatter it again:"
   ],
   "metadata": {}
  },
  {
   "cell_type": "code",
   "execution_count": 40,
   "source": [
    "plt.figure(figsize=(8, 8))\n",
    "plt.title(\"Moscow Houses\")\n",
    "plt.scatter(house_points[:, 0], house_points[:, 1], linewidths=0.001, c=\"grey\")\n",
    "plt.scatter(inner_poly[:, 0], inner_poly[:, 1], linewidths=0.005, c=\"b\")\n",
    "plt.scatter(outer_poly[:, 0], outer_poly[:, 1], linewidths=0.005, c=\"r\")\n",
    "plt.show()"
   ],
   "outputs": [
    {
     "output_type": "display_data",
     "data": {
      "image/png": "[encoded data removed]",
      "text/plain": [
       "<Figure size 576x576 with 1 Axes>"
      ]
     },
     "metadata": {
      "needs_background": "light"
     }
    }
   ],
   "metadata": {}
  },
  {
   "cell_type": "markdown",
   "source": [
    "Let's do a little zoom-in: filter `house_points` and leave points in some **small square** near the garden ring. The choice of the size of the square is up to you, but the outer poly should be inside this square.\n",
    "\n",
    "I have already defined a small square, but you can change its sizes."
   ],
   "metadata": {}
  },
  {
   "cell_type": "code",
   "execution_count": 41,
   "source": [
    "lower_x = 37.56\n",
    "upper_x = 37.68\n",
    "lower_y = 55.70\n",
    "upper_y = 55.80\n",
    "\n",
    "def filter_points_by_square(input_array, lower_x, upper_x, lower_y, upper_y):\n",
    "    result = [item for item in input_array if item[0] >= lower_x and item[0] <= upper_x and item[1] >= lower_y \n",
    "             and item[1] <= upper_y]\n",
    "    return np.array(result)"
   ],
   "outputs": [],
   "metadata": {}
  },
  {
   "cell_type": "code",
   "execution_count": 42,
   "source": [
    "small_square_points = filter_points_by_square(house_points, lower_x, upper_x, lower_y, upper_y)"
   ],
   "outputs": [],
   "metadata": {}
  },
  {
   "cell_type": "code",
   "execution_count": 43,
   "source": [
    "plt.figure(figsize=(8, 8))\n",
    "plt.title(\"Houses in city center\")\n",
    "plt.scatter(small_square_points[:, 0], small_square_points[:, 1], linewidths=0.001, c=\"grey\")\n",
    "plt.scatter(inner_poly[:, 0], inner_poly[:, 1], linewidths=0.005, c=\"b\")\n",
    "plt.scatter(outer_poly[:, 0], outer_poly[:, 1], linewidths=0.005, c=\"r\")\n",
    "plt.show()"
   ],
   "outputs": [
    {
     "output_type": "display_data",
     "data": {
      "image/png": "[encoded data removed]",
      "text/plain": [
       "<Figure size 576x576 with 1 Axes>"
      ]
     },
     "metadata": {
      "needs_background": "light"
     }
    }
   ],
   "metadata": {}
  },
  {
   "cell_type": "markdown",
   "source": [
    "**Task 4. Houses in a polygon [2 points]**\n",
    "\n",
    "Implement a function, that by two coordinates of a point and list of coordinates of the polygon tells whether this point is inside a polygon or not.\n",
    "\n",
    "You may define as many others functions as you want.\n",
    "\n",
    "*Hint: the polygons may be regarded as convex.*"
   ],
   "metadata": {}
  },
  {
   "cell_type": "markdown",
   "source": [
    "**Question:** what algorithm to decide whether the point is inside will you implement? Why is it supposed to work?"
   ],
   "metadata": {}
  },
  {
   "cell_type": "markdown",
   "source": [
    "**Your answer:** I used this page https://towardsdatascience.com/is-the-point-inside-the-polygon-574b86472119 as a reference for writing a code.\n",
    "\n",
    "The main idea is to check if point lies on the same side of all edges of polygon. If it is, than it lies inside the polygon. We can check the side using cross product. But the main trouble is that our polygon isn't convex, for this reason my solution became crutch: i made non-convexity correction (subtracted 7 from number of positive orientations and negative orientations, 7 is an approximate number of edges where convexity is broken, i picked up this value manually). Sorry for bad algorithm :D"
   ],
   "metadata": {}
  },
  {
   "cell_type": "code",
   "execution_count": 44,
   "source": [
    "def substitute_point_in_line(point, polygon_point1, polygon_point2): \n",
    "    result = (point[0] - polygon_point1[0]) * (polygon_point2[1] - polygon_point1[1]) - (point[1] - polygon_point1[1]) * (polygon_point2[0] - polygon_point1[0])\n",
    "    return result"
   ],
   "outputs": [],
   "metadata": {}
  },
  {
   "cell_type": "code",
   "execution_count": 45,
   "source": [
    "def point_is_inside(point, polygon_points):\n",
    "    \"\"\"\n",
    "    input:\n",
    "    - point np.array of (1, 2) shape\n",
    "    - polygon_points np.array of (N, 2) shape\n",
    "    output:\n",
    "    - bool True if point is inside, false if point is outside\n",
    "    \"\"\" \n",
    "    positive = 0\n",
    "    negative = 0\n",
    "\n",
    "    for i in range(len(polygon_points)):\n",
    "        point1 = polygon_points[i]\n",
    "        point2 = polygon_points[(i + 1) % len(polygon_points)]\n",
    "        product = substitute_point_in_line(point, point1, point2)\n",
    "        if product > 0:\n",
    "            positive += 1\n",
    "        if product < 0:\n",
    "            negative += 1\n",
    "\n",
    "    positive -= 7 # non-convexity correction\n",
    "    negative -= 7 # non-convexity correction\n",
    "    \n",
    "    if positive > 0 and negative > 0:\n",
    "        return False\n",
    "        \n",
    "    return True\n",
    " "
   ],
   "outputs": [],
   "metadata": {}
  },
  {
   "cell_type": "markdown",
   "source": [
    "And the final part! \n",
    "\n",
    "Scatter plot `small_square_points` again, but with 3 different colours:\n",
    "- colour 1: points inside inner poly\n",
    "- colour 2: points outside outer poly\n",
    "- colour 3: points between inner and outer polys"
   ],
   "metadata": {}
  },
  {
   "cell_type": "code",
   "execution_count": 46,
   "source": [
    "if_inside_1 = []\n",
    "for point in small_square_points:\n",
    "    res = point_is_inside(point, outer_poly)\n",
    "    if_inside_1.append(res)\n",
    "\n",
    "if_inside_2 = []\n",
    "for point in small_square_points:\n",
    "    res = point_is_inside(point, inner_poly)\n",
    "    if_inside_2.append(res)\n",
    "\n",
    "between_points = np.logical_and(if_inside_1, np.logical_not(if_inside_2))"
   ],
   "outputs": [],
   "metadata": {}
  },
  {
   "cell_type": "code",
   "execution_count": 47,
   "source": [
    "plt.figure(figsize=(8, 8))\n",
    "plt.title(\"Houses in city center\")\n",
    "plt.scatter(small_square_points[:, 0], small_square_points[:, 1], linewidths=0.001, c=\"grey\", label='outer points')\n",
    "plt.scatter(small_square_points[between_points][:, 0], small_square_points[between_points][:, 1], linewidths=0.001, c='pink', label='between')\n",
    "plt.scatter(small_square_points[if_inside_2][:, 0], small_square_points[if_inside_2][:, 1], linewidths=0.001, c='lightblue', label='inside inner')\n",
    "plt.scatter(inner_poly[:, 0], inner_poly[:, 1], linewidths=0.005, c=\"b\")\n",
    "plt.scatter(outer_poly[:, 0], outer_poly[:, 1], linewidths=0.005, c=\"r\")\n",
    "plt.legend()\n",
    "plt.show()"
   ],
   "outputs": [
    {
     "output_type": "display_data",
     "data": {
      "image/png": "[encoded data removed]",
      "text/plain": [
       "<Figure size 576x576 with 1 Axes>"
      ]
     },
     "metadata": {
      "needs_background": "light"
     }
    }
   ],
   "metadata": {}
  },
  {
   "cell_type": "markdown",
   "source": [
    "**Question:** How many points are there between inner and outer polys?"
   ],
   "metadata": {}
  },
  {
   "cell_type": "code",
   "execution_count": 48,
   "source": [
    "between_points = np.logical_and(if_inside_1, np.logical_not(if_inside_2))\n",
    "between_points.sum()"
   ],
   "outputs": [
    {
     "output_type": "execute_result",
     "data": {
      "text/plain": [
       "3214"
      ]
     },
     "metadata": {},
     "execution_count": 48
    }
   ],
   "metadata": {}
  },
  {
   "cell_type": "markdown",
   "source": [
    "**Your answer:** 3214 points (accurate to convex approximation)"
   ],
   "metadata": {}
  },
  {
   "cell_type": "markdown",
   "source": [
    "# Part 3. Titanic Dataset - Stats and Plots [8 points]\n",
    "\n",
    "\n",
    "In this part we are going to analyze the \"Titanic dataset\".\n",
    "The main goal of this task is to describe the data.\n",
    "\n",
    "Here are some tips:\n",
    "- use plots\n",
    "- notice pecualrities in the data\n",
    "- present verbal explanations, don't be too shy\n",
    "\n",
    "**Important** Please pay attention to your plots: titles, axis-labels and legends are necessary.\n",
    "\n",
    "These  tasks involve `numpy`, `pandas` and `matplotlib` - very common python modules. In one task you may use `scipy`."
   ],
   "metadata": {}
  },
  {
   "cell_type": "markdown",
   "source": [
    "#### Input data\n",
    "This task uses 2 files:\n",
    "- `passengers_record.csv` contains some general information on passengers (name, class, age, etc.)\n",
    "- `survival_info.csv` contains binary labels whether passenger survived or not"
   ],
   "metadata": {}
  },
  {
   "cell_type": "code",
   "execution_count": 49,
   "source": [
    "import pandas as pd\n",
    "import matplotlib.pyplot as plt\n",
    "%matplotlib inline"
   ],
   "outputs": [],
   "metadata": {}
  },
  {
   "cell_type": "markdown",
   "source": [
    "**Task 1. [1 point]**\n",
    "\n",
    "Read these files and join them into single dataset (use `passenger_id` as join key). Then provide some description of the dataset: \n",
    "- What are age/gender/class distributions and their averages? How many people belong to each group?\n",
    "- Find the oldest/youngest passangers in every class\n",
    "- Compare survival rates between classes/age groups/genders (configuration of age groups is up to you)"
   ],
   "metadata": {}
  },
  {
   "cell_type": "code",
   "execution_count": 50,
   "source": [
    "passengers_record = pd.read_csv('data/passengers_record.csv')\n",
    "survival_info = pd.read_csv('data/survival_info.csv')\n",
    "\n",
    "assert passengers_record.shape == (891, 11) and survival_info.shape == (891, 2), \"Wrong db shapes\""
   ],
   "outputs": [],
   "metadata": {}
  },
  {
   "cell_type": "code",
   "execution_count": 51,
   "source": [
    "passengers_record.head()"
   ],
   "outputs": [
    {
     "output_type": "execute_result",
     "data": {
      "text/html": [
       "<div>\n",
       "<style scoped>\n",
       "    .dataframe tbody tr th:only-of-type {\n",
       "        vertical-align: middle;\n",
       "    }\n",
       "\n",
       "    .dataframe tbody tr th {\n",
       "        vertical-align: top;\n",
       "    }\n",
       "\n",
       "    .dataframe thead th {\n",
       "        text-align: right;\n",
       "    }\n",
       "</style>\n",
       "<table border=\"1\" class=\"dataframe\">\n",
       "  <thead>\n",
       "    <tr style=\"text-align: right;\">\n",
       "      <th></th>\n",
       "      <th>PassengerId</th>\n",
       "      <th>Pclass</th>\n",
       "      <th>Name</th>\n",
       "      <th>Sex</th>\n",
       "      <th>Age</th>\n",
       "      <th>SibSp</th>\n",
       "      <th>Parch</th>\n",
       "      <th>Ticket</th>\n",
       "      <th>Fare</th>\n",
       "      <th>Cabin</th>\n",
       "      <th>Embarked</th>\n",
       "    </tr>\n",
       "  </thead>\n",
       "  <tbody>\n",
       "    <tr>\n",
       "      <th>0</th>\n",
       "      <td>1</td>\n",
       "      <td>3</td>\n",
       "      <td>Braund, Mr. Owen Harris</td>\n",
       "      <td>male</td>\n",
       "      <td>22.0</td>\n",
       "      <td>1</td>\n",
       "      <td>0</td>\n",
       "      <td>A/5 21171</td>\n",
       "      <td>7.2500</td>\n",
       "      <td>NaN</td>\n",
       "      <td>S</td>\n",
       "    </tr>\n",
       "    <tr>\n",
       "      <th>1</th>\n",
       "      <td>2</td>\n",
       "      <td>1</td>\n",
       "      <td>Cumings, Mrs. John Bradley (Florence Briggs Th...</td>\n",
       "      <td>female</td>\n",
       "      <td>38.0</td>\n",
       "      <td>1</td>\n",
       "      <td>0</td>\n",
       "      <td>PC 17599</td>\n",
       "      <td>71.2833</td>\n",
       "      <td>C85</td>\n",
       "      <td>C</td>\n",
       "    </tr>\n",
       "    <tr>\n",
       "      <th>2</th>\n",
       "      <td>3</td>\n",
       "      <td>3</td>\n",
       "      <td>Heikkinen, Miss. Laina</td>\n",
       "      <td>female</td>\n",
       "      <td>26.0</td>\n",
       "      <td>0</td>\n",
       "      <td>0</td>\n",
       "      <td>STON/O2. 3101282</td>\n",
       "      <td>7.9250</td>\n",
       "      <td>NaN</td>\n",
       "      <td>S</td>\n",
       "    </tr>\n",
       "    <tr>\n",
       "      <th>3</th>\n",
       "      <td>4</td>\n",
       "      <td>1</td>\n",
       "      <td>Futrelle, Mrs. Jacques Heath (Lily May Peel)</td>\n",
       "      <td>female</td>\n",
       "      <td>35.0</td>\n",
       "      <td>1</td>\n",
       "      <td>0</td>\n",
       "      <td>113803</td>\n",
       "      <td>53.1000</td>\n",
       "      <td>C123</td>\n",
       "      <td>S</td>\n",
       "    </tr>\n",
       "    <tr>\n",
       "      <th>4</th>\n",
       "      <td>5</td>\n",
       "      <td>3</td>\n",
       "      <td>Allen, Mr. William Henry</td>\n",
       "      <td>male</td>\n",
       "      <td>35.0</td>\n",
       "      <td>0</td>\n",
       "      <td>0</td>\n",
       "      <td>373450</td>\n",
       "      <td>8.0500</td>\n",
       "      <td>NaN</td>\n",
       "      <td>S</td>\n",
       "    </tr>\n",
       "  </tbody>\n",
       "</table>\n",
       "</div>"
      ],
      "text/plain": [
       "   PassengerId  Pclass                                               Name  \\\n",
       "0            1       3                            Braund, Mr. Owen Harris   \n",
       "1            2       1  Cumings, Mrs. John Bradley (Florence Briggs Th...   \n",
       "2            3       3                             Heikkinen, Miss. Laina   \n",
       "3            4       1       Futrelle, Mrs. Jacques Heath (Lily May Peel)   \n",
       "4            5       3                           Allen, Mr. William Henry   \n",
       "\n",
       "      Sex   Age  SibSp  Parch            Ticket     Fare Cabin Embarked  \n",
       "0    male  22.0      1      0         A/5 21171   7.2500   NaN        S  \n",
       "1  female  38.0      1      0          PC 17599  71.2833   C85        C  \n",
       "2  female  26.0      0      0  STON/O2. 3101282   7.9250   NaN        S  \n",
       "3  female  35.0      1      0            113803  53.1000  C123        S  \n",
       "4    male  35.0      0      0            373450   8.0500   NaN        S  "
      ]
     },
     "metadata": {},
     "execution_count": 51
    }
   ],
   "metadata": {}
  },
  {
   "cell_type": "code",
   "execution_count": 52,
   "source": [
    "survival_info.head()"
   ],
   "outputs": [
    {
     "output_type": "execute_result",
     "data": {
      "text/html": [
       "<div>\n",
       "<style scoped>\n",
       "    .dataframe tbody tr th:only-of-type {\n",
       "        vertical-align: middle;\n",
       "    }\n",
       "\n",
       "    .dataframe tbody tr th {\n",
       "        vertical-align: top;\n",
       "    }\n",
       "\n",
       "    .dataframe thead th {\n",
       "        text-align: right;\n",
       "    }\n",
       "</style>\n",
       "<table border=\"1\" class=\"dataframe\">\n",
       "  <thead>\n",
       "    <tr style=\"text-align: right;\">\n",
       "      <th></th>\n",
       "      <th>PassengerId</th>\n",
       "      <th>Survived</th>\n",
       "    </tr>\n",
       "  </thead>\n",
       "  <tbody>\n",
       "    <tr>\n",
       "      <th>0</th>\n",
       "      <td>1</td>\n",
       "      <td>0</td>\n",
       "    </tr>\n",
       "    <tr>\n",
       "      <th>1</th>\n",
       "      <td>2</td>\n",
       "      <td>1</td>\n",
       "    </tr>\n",
       "    <tr>\n",
       "      <th>2</th>\n",
       "      <td>3</td>\n",
       "      <td>1</td>\n",
       "    </tr>\n",
       "    <tr>\n",
       "      <th>3</th>\n",
       "      <td>4</td>\n",
       "      <td>1</td>\n",
       "    </tr>\n",
       "    <tr>\n",
       "      <th>4</th>\n",
       "      <td>5</td>\n",
       "      <td>0</td>\n",
       "    </tr>\n",
       "  </tbody>\n",
       "</table>\n",
       "</div>"
      ],
      "text/plain": [
       "   PassengerId  Survived\n",
       "0            1         0\n",
       "1            2         1\n",
       "2            3         1\n",
       "3            4         1\n",
       "4            5         0"
      ]
     },
     "metadata": {},
     "execution_count": 52
    }
   ],
   "metadata": {}
  },
  {
   "cell_type": "code",
   "execution_count": 53,
   "source": [
    "db = passengers_record.merge(survival_info, on='PassengerId')"
   ],
   "outputs": [],
   "metadata": {}
  },
  {
   "cell_type": "code",
   "execution_count": 54,
   "source": [
    "plt.figure(figsize=(15, 3))\n",
    "\n",
    "plt.subplot(131)\n",
    "db['Age'].hist()\n",
    "plt.axvline(db['Age'].mean(), color='k', linestyle='dashed', linewidth=1, label='mean')\n",
    "plt.title('Age')\n",
    "plt.legend()\n",
    "\n",
    "plt.subplot(132)\n",
    "db.groupby('Sex')['Sex'].hist()\n",
    "plt.title('Sex')\n",
    "\n",
    "plt.subplot(133)\n",
    "db.groupby('Pclass')['Pclass'].hist()\n",
    "plt.title('Pclass')\n",
    "plt.xticks([1.0, 2.0, 3.0])\n",
    "plt.show()"
   ],
   "outputs": [
    {
     "output_type": "display_data",
     "data": {
      "image/png": "[encoded data removed]",
      "text/plain": [
       "<Figure size 1080x216 with 3 Axes>"
      ]
     },
     "metadata": {
      "needs_background": "light"
     }
    }
   ],
   "metadata": {}
  },
  {
   "cell_type": "code",
   "execution_count": 55,
   "source": [
    "db['Age'].mean()"
   ],
   "outputs": [
    {
     "output_type": "execute_result",
     "data": {
      "text/plain": [
       "29.69911764705882"
      ]
     },
     "metadata": {},
     "execution_count": 55
    }
   ],
   "metadata": {}
  },
  {
   "cell_type": "markdown",
   "source": [
    "We can see that distribution of Age is bell-like, the mean age is 26.7 years. There were 314 females and 577 males on the Titanic. 216 people were in the first class, 184 people were in the second and other 491 were in the third class. 64 people were 0-10 years old, 115 people - 10-20 years old, 385 people - 20-40 years old, 22 people - 40-60 years old, 177 people - 60-80 years old (watch cells in the task about survival rate below)."
   ],
   "metadata": {}
  },
  {
   "cell_type": "code",
   "execution_count": 56,
   "source": [
    "print(\"Amount of people by {}\".format(db.groupby('Sex')['Sex'].count()))\n",
    "print(\"Amount of people by {}\".format(db.groupby('Pclass')['Pclass'].count()))"
   ],
   "outputs": [
    {
     "output_type": "stream",
     "name": "stdout",
     "text": [
      "Amount of people by Sex\n",
      "female    314\n",
      "male      577\n",
      "Name: Sex, dtype: int64\n",
      "Amount of people by Pclass\n",
      "1    216\n",
      "2    184\n",
      "3    491\n",
      "Name: Pclass, dtype: int64\n"
     ]
    }
   ],
   "metadata": {}
  },
  {
   "cell_type": "markdown",
   "source": [
    "Oldest passangers in each class:"
   ],
   "metadata": {}
  },
  {
   "cell_type": "code",
   "execution_count": 57,
   "source": [
    "db.groupby('Pclass')[['Age', 'Name']].max()"
   ],
   "outputs": [
    {
     "output_type": "execute_result",
     "data": {
      "text/html": [
       "<div>\n",
       "<style scoped>\n",
       "    .dataframe tbody tr th:only-of-type {\n",
       "        vertical-align: middle;\n",
       "    }\n",
       "\n",
       "    .dataframe tbody tr th {\n",
       "        vertical-align: top;\n",
       "    }\n",
       "\n",
       "    .dataframe thead th {\n",
       "        text-align: right;\n",
       "    }\n",
       "</style>\n",
       "<table border=\"1\" class=\"dataframe\">\n",
       "  <thead>\n",
       "    <tr style=\"text-align: right;\">\n",
       "      <th></th>\n",
       "      <th>Age</th>\n",
       "      <th>Name</th>\n",
       "    </tr>\n",
       "    <tr>\n",
       "      <th>Pclass</th>\n",
       "      <th></th>\n",
       "      <th></th>\n",
       "    </tr>\n",
       "  </thead>\n",
       "  <tbody>\n",
       "    <tr>\n",
       "      <th>1</th>\n",
       "      <td>80.0</td>\n",
       "      <td>Young, Miss. Marie Grice</td>\n",
       "    </tr>\n",
       "    <tr>\n",
       "      <th>2</th>\n",
       "      <td>70.0</td>\n",
       "      <td>del Carlo, Mr. Sebastiano</td>\n",
       "    </tr>\n",
       "    <tr>\n",
       "      <th>3</th>\n",
       "      <td>74.0</td>\n",
       "      <td>van Melkebeke, Mr. Philemon</td>\n",
       "    </tr>\n",
       "  </tbody>\n",
       "</table>\n",
       "</div>"
      ],
      "text/plain": [
       "         Age                         Name\n",
       "Pclass                                   \n",
       "1       80.0     Young, Miss. Marie Grice\n",
       "2       70.0    del Carlo, Mr. Sebastiano\n",
       "3       74.0  van Melkebeke, Mr. Philemon"
      ]
     },
     "metadata": {},
     "execution_count": 57
    }
   ],
   "metadata": {}
  },
  {
   "cell_type": "markdown",
   "source": [
    "Youngest passangers in each class:"
   ],
   "metadata": {}
  },
  {
   "cell_type": "code",
   "execution_count": 58,
   "source": [
    "db.groupby('Pclass')[['Age', 'Name']].min()"
   ],
   "outputs": [
    {
     "output_type": "execute_result",
     "data": {
      "text/html": [
       "<div>\n",
       "<style scoped>\n",
       "    .dataframe tbody tr th:only-of-type {\n",
       "        vertical-align: middle;\n",
       "    }\n",
       "\n",
       "    .dataframe tbody tr th {\n",
       "        vertical-align: top;\n",
       "    }\n",
       "\n",
       "    .dataframe thead th {\n",
       "        text-align: right;\n",
       "    }\n",
       "</style>\n",
       "<table border=\"1\" class=\"dataframe\">\n",
       "  <thead>\n",
       "    <tr style=\"text-align: right;\">\n",
       "      <th></th>\n",
       "      <th>Age</th>\n",
       "      <th>Name</th>\n",
       "    </tr>\n",
       "    <tr>\n",
       "      <th>Pclass</th>\n",
       "      <th></th>\n",
       "      <th></th>\n",
       "    </tr>\n",
       "  </thead>\n",
       "  <tbody>\n",
       "    <tr>\n",
       "      <th>1</th>\n",
       "      <td>0.92</td>\n",
       "      <td>Allen, Miss. Elisabeth Walton</td>\n",
       "    </tr>\n",
       "    <tr>\n",
       "      <th>2</th>\n",
       "      <td>0.67</td>\n",
       "      <td>Abelson, Mr. Samuel</td>\n",
       "    </tr>\n",
       "    <tr>\n",
       "      <th>3</th>\n",
       "      <td>0.42</td>\n",
       "      <td>Abbing, Mr. Anthony</td>\n",
       "    </tr>\n",
       "  </tbody>\n",
       "</table>\n",
       "</div>"
      ],
      "text/plain": [
       "         Age                           Name\n",
       "Pclass                                     \n",
       "1       0.92  Allen, Miss. Elisabeth Walton\n",
       "2       0.67            Abelson, Mr. Samuel\n",
       "3       0.42            Abbing, Mr. Anthony"
      ]
     },
     "metadata": {},
     "execution_count": 58
    }
   ],
   "metadata": {}
  },
  {
   "cell_type": "markdown",
   "source": [
    "Compare survival rates between classes:"
   ],
   "metadata": {}
  },
  {
   "cell_type": "code",
   "execution_count": 59,
   "source": [
    "db.groupby('Pclass')['Survived'].mean()"
   ],
   "outputs": [
    {
     "output_type": "execute_result",
     "data": {
      "text/plain": [
       "Pclass\n",
       "1    0.629630\n",
       "2    0.472826\n",
       "3    0.242363\n",
       "Name: Survived, dtype: float64"
      ]
     },
     "metadata": {},
     "execution_count": 59
    }
   ],
   "metadata": {}
  },
  {
   "cell_type": "code",
   "execution_count": 60,
   "source": [
    "plt.hist(db[db['Pclass'] == 3]['Survived'], align='mid', hatch='\\\\', label='Pclass 3')\n",
    "plt.hist(db[db['Pclass'] == 1]['Survived'], align='left', hatch='..', label='Pclass 1', alpha=0.5)\n",
    "plt.hist(db[db['Pclass'] == 2]['Survived'], align='right', hatch='', label='Pclass 2', alpha=0.5)\n",
    "plt.xticks([0.0, 1.0], ['died', 'survived'])\n",
    "plt.legend()"
   ],
   "outputs": [
    {
     "output_type": "execute_result",
     "data": {
      "text/plain": [
       "<matplotlib.legend.Legend at 0x136967eb0>"
      ]
     },
     "metadata": {},
     "execution_count": 60
    },
    {
     "output_type": "display_data",
     "data": {
      "image/png": "[encoded data removed]",
      "text/plain": [
       "<Figure size 432x288 with 1 Axes>"
      ]
     },
     "metadata": {
      "needs_background": "light"
     }
    }
   ],
   "metadata": {}
  },
  {
   "cell_type": "markdown",
   "source": [
    "We can see that the biggest survival rate in the first class."
   ],
   "metadata": {}
  },
  {
   "cell_type": "markdown",
   "source": [
    "Compare survival rates between genders:"
   ],
   "metadata": {}
  },
  {
   "cell_type": "code",
   "execution_count": 61,
   "source": [
    "db.groupby('Sex')['Survived'].mean()"
   ],
   "outputs": [
    {
     "output_type": "execute_result",
     "data": {
      "text/plain": [
       "Sex\n",
       "female    0.742038\n",
       "male      0.188908\n",
       "Name: Survived, dtype: float64"
      ]
     },
     "metadata": {},
     "execution_count": 61
    }
   ],
   "metadata": {}
  },
  {
   "cell_type": "code",
   "execution_count": 62,
   "source": [
    "plt.hist(db[db['Sex'] == 'female']['Survived'], align='left', label='female')\n",
    "plt.hist(db[db['Sex'] == 'male']['Survived'], align='right', hatch='\\\\', label='male')\n",
    "plt.xticks([0.0, 1.0], ['died', 'survived'])\n",
    "plt.legend()\n",
    "plt.show()"
   ],
   "outputs": [
    {
     "output_type": "display_data",
     "data": {
      "image/png": "[encoded data removed]",
      "text/plain": [
       "<Figure size 432x288 with 1 Axes>"
      ]
     },
     "metadata": {
      "needs_background": "light"
     }
    }
   ],
   "metadata": {}
  },
  {
   "cell_type": "markdown",
   "source": [
    "We can see that survival rate for female is bigger than for male."
   ],
   "metadata": {}
  },
  {
   "cell_type": "markdown",
   "source": [
    "To compare survival rate between age groups let's make 4 age groups: 0-10, 10-20, 20-40, 40-60, 60-80 (max age at the Titanic). Also we must drop people with unkown age (drop NaN values)."
   ],
   "metadata": {}
  },
  {
   "cell_type": "code",
   "execution_count": 63,
   "source": [
    "bins = [0, 10, 20, 40, 60, 80]\n",
    "age_group = np.digitize(db['Age'], bins, right=True)\n",
    "db['Age group'] = age_group\n",
    "\n",
    "db[db['Age'].notna()].groupby('Age group')['Survived'].mean()"
   ],
   "outputs": [
    {
     "output_type": "execute_result",
     "data": {
      "text/plain": [
       "Age group\n",
       "1    0.593750\n",
       "2    0.382609\n",
       "3    0.397403\n",
       "4    0.390625\n",
       "5    0.227273\n",
       "Name: Survived, dtype: float64"
      ]
     },
     "metadata": {},
     "execution_count": 63
    }
   ],
   "metadata": {}
  },
  {
   "cell_type": "code",
   "execution_count": 64,
   "source": [
    "print(\"Amount of people by {}\".format(db.groupby('Age group')['Age group'].count()))"
   ],
   "outputs": [
    {
     "output_type": "stream",
     "name": "stdout",
     "text": [
      "Amount of people by Age group\n",
      "1     64\n",
      "2    115\n",
      "3    385\n",
      "4    128\n",
      "5     22\n",
      "6    177\n",
      "Name: Age group, dtype: int64\n"
     ]
    }
   ],
   "metadata": {}
  },
  {
   "cell_type": "markdown",
   "source": [
    "We can see that the biggest survival rate is in the group 0-10 years (children)."
   ],
   "metadata": {}
  },
  {
   "cell_type": "markdown",
   "source": [
    "**Task 2. [2 points]**\n",
    "\n",
    "Compare average age per class: can we consider these values to be equal? Use visualisation to prove your point. \n",
    "\n",
    "Can we answer this question using the T-test? Why? Here you may use `scipy.stats`."
   ],
   "metadata": {}
  },
  {
   "cell_type": "code",
   "execution_count": 65,
   "source": [
    "db.groupby('Pclass').mean()['Age']"
   ],
   "outputs": [
    {
     "output_type": "execute_result",
     "data": {
      "text/plain": [
       "Pclass\n",
       "1    38.233441\n",
       "2    29.877630\n",
       "3    25.140620\n",
       "Name: Age, dtype: float64"
      ]
     },
     "metadata": {},
     "execution_count": 65
    }
   ],
   "metadata": {}
  },
  {
   "cell_type": "code",
   "execution_count": 66,
   "source": [
    "db.boxplot(column=['Age'], by='Pclass')"
   ],
   "outputs": [
    {
     "output_type": "execute_result",
     "data": {
      "text/plain": [
       "<AxesSubplot:title={'center':'Age'}, xlabel='Pclass'>"
      ]
     },
     "metadata": {},
     "execution_count": 66
    },
    {
     "output_type": "display_data",
     "data": {
      "image/png": "[encoded data removed]",
      "text/plain": [
       "<Figure size 432x288 with 1 Axes>"
      ]
     },
     "metadata": {
      "needs_background": "light"
     }
    }
   ],
   "metadata": {}
  },
  {
   "cell_type": "markdown",
   "source": [
    "**Answer:** Looking at the values and boxplots above, we can't say that average age per class are equal.\n",
    "\n",
    "To use T-test we must have a normal distributed vales. Let's check it using D’Agostino and Pearson’s test (also drop NaN values before it):"
   ],
   "metadata": {}
  },
  {
   "cell_type": "code",
   "execution_count": 67,
   "source": [
    "plt.figure(figsize=(10, 3))\n",
    "plt.subplot(131)\n",
    "db[db['Pclass'] == 1]['Age'].hist()\n",
    "plt.subplot(132)\n",
    "db[db['Pclass'] == 2]['Age'].hist()\n",
    "plt.subplot(133)\n",
    "db[db['Pclass'] == 3]['Age'].hist()\n",
    "plt.show()"
   ],
   "outputs": [
    {
     "output_type": "display_data",
     "data": {
      "image/png": "[encoded data removed]",
      "text/plain": [
       "<Figure size 720x216 with 3 Axes>"
      ]
     },
     "metadata": {
      "needs_background": "light"
     }
    }
   ],
   "metadata": {}
  },
  {
   "cell_type": "code",
   "execution_count": 68,
   "source": [
    "from scipy import stats\n",
    "\n",
    "for i in range(1,4):\n",
    "    print(stats.normaltest(db[db['Pclass'] == i]['Age'].dropna()))"
   ],
   "outputs": [
    {
     "output_type": "stream",
     "name": "stdout",
     "text": [
      "NormaltestResult(statistic=1.6809586852884995, pvalue=0.4315036357542328)\n",
      "NormaltestResult(statistic=1.1558018368785472, pvalue=0.561074873262309)\n",
      "NormaltestResult(statistic=21.119072465384342, pvalue=2.5944880976350556e-05)\n"
     ]
    }
   ],
   "metadata": {}
  },
  {
   "cell_type": "markdown",
   "source": [
    "We can see that age distribution in pclass 3 didn't pass the test and we reject the hypothesis about its normality. For this reason we can't use T-test to check an equality of averages."
   ],
   "metadata": {}
  },
  {
   "cell_type": "markdown",
   "source": [
    "**Task 3. [2 points]**\n",
    "\n",
    "Use `plt.subplots` to create side-by-side histograms of distributions:\n",
    "- columns: 3 classes\n",
    "- rows: age, fare, sex, survival rate\n",
    "\n",
    "The output is 4 by 3 table of plots."
   ],
   "metadata": {}
  },
  {
   "cell_type": "code",
   "execution_count": 69,
   "source": [
    "plt.figure(figsize=(10, 10))\n",
    "columns = np.unique(db['Pclass'])\n",
    "rows = ['Age', 'Fare', 'Sex', 'Survived']\n",
    "idx = 1\n",
    "\n",
    "n_cols = np.size(columns)\n",
    "n_rows = np.size(rows)\n",
    "\n",
    "for row in rows:\n",
    "    for col in columns:\n",
    "        plt.subplot(n_rows, n_cols, idx)\n",
    "        plt.hist(db[db['Pclass'] == col][row], label=row)\n",
    "        plt.title('Pclass {}'.format(col))\n",
    "        plt.legend()\n",
    "        idx += 1\n",
    "\n",
    "plt.tight_layout()\n",
    "plt.show()"
   ],
   "outputs": [
    {
     "output_type": "display_data",
     "data": {
      "image/png": "[encoded data removed]",
      "text/plain": [
       "<Figure size 720x720 with 12 Axes>"
      ]
     },
     "metadata": {
      "needs_background": "light"
     }
    }
   ],
   "metadata": {}
  },
  {
   "cell_type": "markdown",
   "source": [
    "**Task 4. [1 point]**\n",
    "\n",
    "Find 5 most common **surnames** in passenger list. Try to use `pandas.Series.apply` and lambda-function to extract surnames."
   ],
   "metadata": {}
  },
  {
   "cell_type": "code",
   "execution_count": 70,
   "source": [
    "surnames = db['Name'].apply(lambda x: x.split()[0])\n",
    "surnames.value_counts()[:5]"
   ],
   "outputs": [
    {
     "output_type": "execute_result",
     "data": {
      "text/plain": [
       "Andersson,    9\n",
       "Sage,         7\n",
       "Goodwin,      6\n",
       "Johnson,      6\n",
       "Skoog,        6\n",
       "Name: Name, dtype: int64"
      ]
     },
     "metadata": {},
     "execution_count": 70
    }
   ],
   "metadata": {}
  },
  {
   "cell_type": "markdown",
   "source": [
    "**Task 5. [2 points]**\n",
    "\n",
    "Probably you already have noticed that there are missing values in the dataset. We will try to fix that.\n",
    "1. Omit all the rows, that contain missing values. Is the result plausible? How does this method effect amount of data and values from Task 1 (age histograms, survival rates, etc.?)\n",
    "2. Suggest some better options to handle missing values in the data and check if it distorts the statistics."
   ],
   "metadata": {}
  },
  {
   "cell_type": "code",
   "execution_count": 71,
   "source": [
    "db_dropped = db.dropna()"
   ],
   "outputs": [],
   "metadata": {}
  },
  {
   "cell_type": "code",
   "execution_count": 72,
   "source": [
    "db.isna().sum()"
   ],
   "outputs": [
    {
     "output_type": "execute_result",
     "data": {
      "text/plain": [
       "PassengerId      0\n",
       "Pclass           0\n",
       "Name             0\n",
       "Sex              0\n",
       "Age            177\n",
       "SibSp            0\n",
       "Parch            0\n",
       "Ticket           0\n",
       "Fare             0\n",
       "Cabin          687\n",
       "Embarked         2\n",
       "Survived         0\n",
       "Age group        0\n",
       "dtype: int64"
      ]
     },
     "metadata": {},
     "execution_count": 72
    }
   ],
   "metadata": {}
  },
  {
   "cell_type": "code",
   "execution_count": 73,
   "source": [
    "db_dropped.isna().sum()"
   ],
   "outputs": [
    {
     "output_type": "execute_result",
     "data": {
      "text/plain": [
       "PassengerId    0\n",
       "Pclass         0\n",
       "Name           0\n",
       "Sex            0\n",
       "Age            0\n",
       "SibSp          0\n",
       "Parch          0\n",
       "Ticket         0\n",
       "Fare           0\n",
       "Cabin          0\n",
       "Embarked       0\n",
       "Survived       0\n",
       "Age group      0\n",
       "dtype: int64"
      ]
     },
     "metadata": {},
     "execution_count": 73
    }
   ],
   "metadata": {}
  },
  {
   "cell_type": "markdown",
   "source": [
    "***Answer***: We can see that there are no any NaN values now (cells below). Let's have a look at the data:"
   ],
   "metadata": {}
  },
  {
   "cell_type": "code",
   "execution_count": 74,
   "source": [
    "plt.figure(figsize=(10, 10))\n",
    "columns = np.unique(db['Pclass'])\n",
    "rows = ['Age', 'Fare', 'Sex', 'Survived']\n",
    "idx = 1\n",
    "\n",
    "n_cols = np.size(columns)\n",
    "n_rows = np.size(rows)\n",
    "\n",
    "for row in rows:\n",
    "    for col in columns:\n",
    "        plt.subplot(n_rows, n_cols, idx)\n",
    "        plt.hist(db[db['Pclass'] == col][row], label=row, density=True)\n",
    "        plt.hist(db_dropped[db_dropped['Pclass'] == col][row], label='{} dropped'.format(row),\n",
    "                 density=True, hatch='\\\\')\n",
    "        plt.title('Pclass {}'.format(col))\n",
    "        plt.legend()\n",
    "        idx += 1\n",
    "\n",
    "plt.tight_layout()\n",
    "plt.show()"
   ],
   "outputs": [
    {
     "output_type": "display_data",
     "data": {
      "image/png": "[encoded data removed]",
      "text/plain": [
       "<Figure size 720x720 with 12 Axes>"
      ]
     },
     "metadata": {
      "needs_background": "light"
     }
    }
   ],
   "metadata": {}
  },
  {
   "cell_type": "code",
   "execution_count": 75,
   "source": [
    "plt.figure(figsize=(15, 3))\n",
    "\n",
    "plt.subplot(131)\n",
    "db_dropped['Age'].hist()\n",
    "plt.axvline(db_dropped['Age'].mean(), color='k', linestyle='dashed', linewidth=1, label='mean')\n",
    "plt.title('Age')\n",
    "plt.legend()\n",
    "\n",
    "plt.subplot(132)\n",
    "db_dropped.groupby('Sex')['Sex'].hist()\n",
    "plt.title('Sex')\n",
    "\n",
    "plt.subplot(133)\n",
    "db_dropped.groupby('Pclass')['Pclass'].hist()\n",
    "plt.title('Pclass')\n",
    "plt.xticks([1.0, 2.0, 3.0])\n",
    "plt.show()"
   ],
   "outputs": [
    {
     "output_type": "display_data",
     "data": {
      "image/png": "[encoded data removed]",
      "text/plain": [
       "<Figure size 1080x216 with 3 Axes>"
      ]
     },
     "metadata": {
      "needs_background": "light"
     }
    }
   ],
   "metadata": {}
  },
  {
   "cell_type": "code",
   "execution_count": 76,
   "source": [
    "print(\"Amount of people by {}\".format(db_dropped.groupby('Sex')['Sex'].count()))\n",
    "print(\"Amount of people by {}\".format(db_dropped.groupby('Pclass')['Pclass'].count()))"
   ],
   "outputs": [
    {
     "output_type": "stream",
     "name": "stdout",
     "text": [
      "Amount of people by Sex\n",
      "female    88\n",
      "male      95\n",
      "Name: Sex, dtype: int64\n",
      "Amount of people by Pclass\n",
      "1    158\n",
      "2     15\n",
      "3     10\n",
      "Name: Pclass, dtype: int64\n"
     ]
    }
   ],
   "metadata": {}
  },
  {
   "cell_type": "code",
   "execution_count": 77,
   "source": [
    "db_dropped.groupby('Pclass')[['Age', 'Name']].max()"
   ],
   "outputs": [
    {
     "output_type": "execute_result",
     "data": {
      "text/html": [
       "<div>\n",
       "<style scoped>\n",
       "    .dataframe tbody tr th:only-of-type {\n",
       "        vertical-align: middle;\n",
       "    }\n",
       "\n",
       "    .dataframe tbody tr th {\n",
       "        vertical-align: top;\n",
       "    }\n",
       "\n",
       "    .dataframe thead th {\n",
       "        text-align: right;\n",
       "    }\n",
       "</style>\n",
       "<table border=\"1\" class=\"dataframe\">\n",
       "  <thead>\n",
       "    <tr style=\"text-align: right;\">\n",
       "      <th></th>\n",
       "      <th>Age</th>\n",
       "      <th>Name</th>\n",
       "    </tr>\n",
       "    <tr>\n",
       "      <th>Pclass</th>\n",
       "      <th></th>\n",
       "      <th></th>\n",
       "    </tr>\n",
       "  </thead>\n",
       "  <tbody>\n",
       "    <tr>\n",
       "      <th>1</th>\n",
       "      <td>80.0</td>\n",
       "      <td>Young, Miss. Marie Grice</td>\n",
       "    </tr>\n",
       "    <tr>\n",
       "      <th>2</th>\n",
       "      <td>57.0</td>\n",
       "      <td>Webber, Miss. Susan</td>\n",
       "    </tr>\n",
       "    <tr>\n",
       "      <th>3</th>\n",
       "      <td>42.0</td>\n",
       "      <td>Strom, Mrs. Wilhelm (Elna Matilda Persson)</td>\n",
       "    </tr>\n",
       "  </tbody>\n",
       "</table>\n",
       "</div>"
      ],
      "text/plain": [
       "         Age                                        Name\n",
       "Pclass                                                  \n",
       "1       80.0                    Young, Miss. Marie Grice\n",
       "2       57.0                         Webber, Miss. Susan\n",
       "3       42.0  Strom, Mrs. Wilhelm (Elna Matilda Persson)"
      ]
     },
     "metadata": {},
     "execution_count": 77
    }
   ],
   "metadata": {}
  },
  {
   "cell_type": "code",
   "execution_count": 78,
   "source": [
    "db_dropped.groupby('Pclass')[['Age', 'Name']].min()"
   ],
   "outputs": [
    {
     "output_type": "execute_result",
     "data": {
      "text/html": [
       "<div>\n",
       "<style scoped>\n",
       "    .dataframe tbody tr th:only-of-type {\n",
       "        vertical-align: middle;\n",
       "    }\n",
       "\n",
       "    .dataframe tbody tr th {\n",
       "        vertical-align: top;\n",
       "    }\n",
       "\n",
       "    .dataframe thead th {\n",
       "        text-align: right;\n",
       "    }\n",
       "</style>\n",
       "<table border=\"1\" class=\"dataframe\">\n",
       "  <thead>\n",
       "    <tr style=\"text-align: right;\">\n",
       "      <th></th>\n",
       "      <th>Age</th>\n",
       "      <th>Name</th>\n",
       "    </tr>\n",
       "    <tr>\n",
       "      <th>Pclass</th>\n",
       "      <th></th>\n",
       "      <th></th>\n",
       "    </tr>\n",
       "  </thead>\n",
       "  <tbody>\n",
       "    <tr>\n",
       "      <th>1</th>\n",
       "      <td>0.92</td>\n",
       "      <td>Allen, Miss. Elisabeth Walton</td>\n",
       "    </tr>\n",
       "    <tr>\n",
       "      <th>2</th>\n",
       "      <td>1.00</td>\n",
       "      <td>Ball, Mrs. (Ada E Hall)</td>\n",
       "    </tr>\n",
       "    <tr>\n",
       "      <th>3</th>\n",
       "      <td>2.00</td>\n",
       "      <td>Humblen, Mr. Adolf Mathias Nicolai Olsen</td>\n",
       "    </tr>\n",
       "  </tbody>\n",
       "</table>\n",
       "</div>"
      ],
      "text/plain": [
       "         Age                                      Name\n",
       "Pclass                                                \n",
       "1       0.92             Allen, Miss. Elisabeth Walton\n",
       "2       1.00                   Ball, Mrs. (Ada E Hall)\n",
       "3       2.00  Humblen, Mr. Adolf Mathias Nicolai Olsen"
      ]
     },
     "metadata": {},
     "execution_count": 78
    }
   ],
   "metadata": {}
  },
  {
   "cell_type": "code",
   "execution_count": 79,
   "source": [
    "db_dropped.groupby('Pclass')['Survived'].mean()"
   ],
   "outputs": [
    {
     "output_type": "execute_result",
     "data": {
      "text/plain": [
       "Pclass\n",
       "1    0.670886\n",
       "2    0.800000\n",
       "3    0.500000\n",
       "Name: Survived, dtype: float64"
      ]
     },
     "metadata": {},
     "execution_count": 79
    }
   ],
   "metadata": {}
  },
  {
   "cell_type": "code",
   "execution_count": 80,
   "source": [
    "bins = [0, 10, 20, 40, 60, 80]\n",
    "age_group = np.digitize(db_dropped['Age'], bins, right=True)\n",
    "db_dropped.loc[:, 'Age group'] = age_group\n",
    "\n",
    "db_dropped[db_dropped['Age'].notna()].groupby('Age group')['Survived'].mean()"
   ],
   "outputs": [
    {
     "output_type": "stream",
     "name": "stderr",
     "text": [
      "/Users/anastasialavruhina/intro_ml_2021/homeworks/env/lib/python3.8/site-packages/pandas/core/indexing.py:1773: SettingWithCopyWarning: \n",
      "A value is trying to be set on a copy of a slice from a DataFrame.\n",
      "Try using .loc[row_indexer,col_indexer] = value instead\n",
      "\n",
      "See the caveats in the documentation: https://pandas.pydata.org/pandas-docs/stable/user_guide/indexing.html#returning-a-view-versus-a-copy\n",
      "  self._setitem_single_column(ilocs[0], value, pi)\n"
     ]
    },
    {
     "output_type": "execute_result",
     "data": {
      "text/plain": [
       "Age group\n",
       "1    0.800000\n",
       "2    0.789474\n",
       "3    0.752809\n",
       "4    0.563636\n",
       "5    0.200000\n",
       "Name: Survived, dtype: float64"
      ]
     },
     "metadata": {},
     "execution_count": 80
    }
   ],
   "metadata": {}
  },
  {
   "cell_type": "code",
   "execution_count": 81,
   "source": [
    "db_dropped.groupby('Sex')['Survived'].mean()"
   ],
   "outputs": [
    {
     "output_type": "execute_result",
     "data": {
      "text/plain": [
       "Sex\n",
       "female    0.931818\n",
       "male      0.431579\n",
       "Name: Survived, dtype: float64"
      ]
     },
     "metadata": {},
     "execution_count": 81
    }
   ],
   "metadata": {}
  },
  {
   "cell_type": "markdown",
   "source": [
    "We can see, that now there are less data in distributions than before (it's quite evident, because we dropped all rows with NaN values, therefore we lost data). Because we dropped rows with known age but with NaN values of another features, we have less data to analyze age distribution and therefore all our statistics have changed (look at cells above). It's bad idea to omit all rows with NaN values in this case."
   ],
   "metadata": {}
  },
  {
   "cell_type": "markdown",
   "source": [
    " We have NaN values in the columns Age (177 values), Cabin (687) and Embarked (2). Age - numerical feature, while Embarked and Cabin are categorical. If we have a numerical feature, we can replace NaN values, for example, with mean value or with median value. Median value is more appropriate for the skewed data with outliers. Let's plot boxplot and histogram for Age feature:"
   ],
   "metadata": {}
  },
  {
   "cell_type": "code",
   "execution_count": 82,
   "source": [
    "db.boxplot(column=['Age'])"
   ],
   "outputs": [
    {
     "output_type": "execute_result",
     "data": {
      "text/plain": [
       "<AxesSubplot:>"
      ]
     },
     "metadata": {},
     "execution_count": 82
    },
    {
     "output_type": "display_data",
     "data": {
      "image/png": "[encoded data removed]",
      "text/plain": [
       "<Figure size 432x288 with 1 Axes>"
      ]
     },
     "metadata": {
      "needs_background": "light"
     }
    }
   ],
   "metadata": {}
  },
  {
   "cell_type": "code",
   "execution_count": 83,
   "source": [
    "plt.hist(db['Age'])\n",
    "plt.show()"
   ],
   "outputs": [
    {
     "output_type": "display_data",
     "data": {
      "image/png": "[encoded data removed]",
      "text/plain": [
       "<Figure size 432x288 with 1 Axes>"
      ]
     },
     "metadata": {
      "needs_background": "light"
     }
    }
   ],
   "metadata": {}
  },
  {
   "cell_type": "markdown",
   "source": [
    "We can see on the boxplot above that Age distribution has outliers, but data set isn't really skewed. Let's try mean value to replace NaN."
   ],
   "metadata": {}
  },
  {
   "cell_type": "code",
   "execution_count": 84,
   "source": [
    "db_clean = db.copy()\n",
    "db_clean['Age'] = db_clean['Age'].fillna(db.Age.mean())"
   ],
   "outputs": [],
   "metadata": {}
  },
  {
   "cell_type": "markdown",
   "source": [
    "Now it's time to replace NaN in categorical features. One method is to replace NaN with the most frequent category. We can use it to replace NaN in the feature Embarked, but for the feature Cabin it isn't very appropriate. Let's replace NaN in the Cabin feature in this way: let's pretend that NaN values are the new category of our feature."
   ],
   "metadata": {}
  },
  {
   "cell_type": "code",
   "execution_count": 85,
   "source": [
    "db_clean['Embarked'] = db_clean['Embarked'].fillna(db_clean['Embarked'].value_counts().index[0])\n",
    "db_clean['Cabin'] = db_clean['Cabin'].fillna('Unknown')"
   ],
   "outputs": [],
   "metadata": {}
  },
  {
   "cell_type": "code",
   "execution_count": 86,
   "source": [
    "db_clean.isna().sum()"
   ],
   "outputs": [
    {
     "output_type": "execute_result",
     "data": {
      "text/plain": [
       "PassengerId    0\n",
       "Pclass         0\n",
       "Name           0\n",
       "Sex            0\n",
       "Age            0\n",
       "SibSp          0\n",
       "Parch          0\n",
       "Ticket         0\n",
       "Fare           0\n",
       "Cabin          0\n",
       "Embarked       0\n",
       "Survived       0\n",
       "Age group      0\n",
       "dtype: int64"
      ]
     },
     "metadata": {},
     "execution_count": 86
    }
   ],
   "metadata": {}
  },
  {
   "cell_type": "markdown",
   "source": [
    "Now we don't have any NaN values in our data set. It's time to have a look at our distributions:"
   ],
   "metadata": {}
  },
  {
   "cell_type": "code",
   "execution_count": 87,
   "source": [
    "plt.figure(figsize=(15, 3))\n",
    "plt.subplot(131)\n",
    "\n",
    "db_dropped['Age'].hist(bins=10, density=True, label='dropped')\n",
    "db_clean['Age'].hist(bins=10, density=True, label='clean', hatch='\\\\', alpha=0.5)\n",
    "plt.axvline(db_clean['Age'].mean(), color='k', linestyle='dashed', linewidth=1, label='mean clean')\n",
    "plt.axvline(db_dropped['Age'].mean(), color='k', linestyle='dashed', linewidth=1, label='mean dropped', c='r')\n",
    "plt.legend()\n",
    "plt.title('Age in clean dataset vs dropped')\n",
    "\n",
    "plt.subplot(132)\n",
    "db_clean.groupby('Sex')['Sex'].hist(hatch='\\\\', label='clean', alpha=0.5)\n",
    "db_dropped.groupby('Sex')['Sex'].hist(label = 'dropepd')\n",
    "plt.title('Sex')\n",
    "plt.legend()\n",
    "plt.title('Sex in clean dataset vs dropped')\n",
    "\n",
    "plt.subplot(133)\n",
    "db_clean.groupby('Pclass')['Pclass'].hist(hatch='\\\\', alpha=0.5, label='clean')\n",
    "db_dropped.groupby('Pclass')['Pclass'].hist(label='dropped')\n",
    "plt.title('Pclass in clean dataset vs dropped')\n",
    "plt.xticks([1.0, 2.0, 3.0])\n",
    "plt.legend()\n",
    "plt.show()\n",
    "\n",
    "plt.show()"
   ],
   "outputs": [
    {
     "output_type": "display_data",
     "data": {
      "image/png": "[encoded data removed]",
      "text/plain": [
       "<Figure size 1080x216 with 3 Axes>"
      ]
     },
     "metadata": {
      "needs_background": "light"
     }
    }
   ],
   "metadata": {}
  },
  {
   "cell_type": "code",
   "execution_count": 88,
   "source": [
    "db['Age'].hist(bins=10, density=True, label='original')\n",
    "db_clean['Age'].hist(bins=10, density=True, label='clean', hatch='\\\\', alpha=0.5)\n",
    "plt.axvline(db_clean['Age'].mean(), color='k', linestyle='dashed', linewidth=1, label='mean clean')\n",
    "plt.axvline(db['Age'].mean(), color='k', linestyle='dashed', linewidth=1, label='mean original', c='r')\n",
    "plt.legend()\n",
    "plt.title('Age in clean dataset vs original')"
   ],
   "outputs": [
    {
     "output_type": "execute_result",
     "data": {
      "text/plain": [
       "Text(0.5, 1.0, 'Age in clean dataset vs original')"
      ]
     },
     "metadata": {},
     "execution_count": 88
    },
    {
     "output_type": "display_data",
     "data": {
      "image/png": "[encoded data removed]",
      "text/plain": [
       "<Figure size 432x288 with 1 Axes>"
      ]
     },
     "metadata": {
      "needs_background": "light"
     }
    }
   ],
   "metadata": {}
  },
  {
   "cell_type": "markdown",
   "source": [
    "### Great! Don't forget to submit before the deadline :)"
   ],
   "metadata": {}
  }
 ],
 "metadata": {
  "kernelspec": {
   "name": "env",
   "language": "python",
   "display_name": "env"
  },
  "language_info": {
   "codemirror_mode": {
    "name": "ipython",
    "version": 3
   },
   "file_extension": ".py",
   "mimetype": "text/x-python",
   "name": "python",
   "nbconvert_exporter": "python",
   "pygments_lexer": "ipython3",
   "version": "3.8.7"
  },
  "interpreter": {
   "hash": "812a422833ccd3e36507ae0c7ce3a3bfc57047f4100d8dc47978092f292478b4"
  }
 },
 "nbformat": 4,
 "nbformat_minor": 4
}