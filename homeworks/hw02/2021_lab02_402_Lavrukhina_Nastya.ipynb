{
 "cells": [
  {
   "cell_type": "markdown",
   "metadata": {},
   "source": [
    "# Lab 02. Feature selection and GridSearch\n",
    "\n",
    "\n",
    "In this lab we will tackle two types of tasks: feature selection and hyperparameter tuning.\n",
    "\n",
    "Lectures and seminars you might find useful:\n",
    "- Lectures 1 - 4\n",
    "- Seminars 2 and 3\n",
    "\n",
    "\n",
    "#### Evaluation\n",
    "\n",
    "Each task has its value, **15 points** in total. If you use some open-source code please make sure to include the url.\n",
    "\n",
    "#### How to submit\n",
    "- Name your file according to this convention: `2021_lab02_GroupNumber_Surname_Name.ipynb`, for example \n",
    "    - `2021_lab02_404_Sheipak_Sviat.ipynb`\n",
    "    - `2021_lab02_NoGroup_Sheipak_Sviat.ipynb`\n",
    "- Attach your .ipynb to an email with topic `2021_lab02_GroupNumber_Surname_Name.ipynb`\n",
    "- Send it to `cosmic.research.ml@yandex.ru`\n",
    "- Deadline is ` 2021-10-20 23:00:00 +03:00`\n",
    "\n",
    "#### The Data:\n",
    "- All the datasets you need are here: https://disk.yandex.ru/d/gaagp2G9BsvcFA"
   ]
  },
  {
   "cell_type": "code",
   "execution_count": 1,
   "metadata": {},
   "outputs": [],
   "source": [
    "import numpy as np\n",
    "import pandas as pd\n",
    "import matplotlib.pyplot as plt\n",
    "%matplotlib inline"
   ]
  },
  {
   "cell_type": "markdown",
   "metadata": {},
   "source": [
    "## Part 1. Feature Selection [4 points]\n",
    "\n",
    "In this part of the assignemt you will be offered a task to analyze a dataset and figure out which features are the most important. The first means to solve this problem is to use linear model and examine the weights, another option is to train a logic classifier and see which featires it uses to build the splits. And finally you may use PCA and analyze how new PCA-features are configured."
   ]
  },
  {
   "cell_type": "markdown",
   "metadata": {
    "scrolled": true
   },
   "source": [
    "Firstly, load the data from `feature_selection_sample.txt` and save it into variable `db`."
   ]
  },
  {
   "cell_type": "code",
   "execution_count": 2,
   "metadata": {},
   "outputs": [],
   "source": [
    "input_filename = 'data/feature_selection_sample.txt'\n",
    "db = pd.read_csv(input_filename, sep='\\t', header=None)"
   ]
  },
  {
   "cell_type": "code",
   "execution_count": 3,
   "metadata": {},
   "outputs": [
    {
     "data": {
      "text/html": [
       "<div>\n",
       "<style scoped>\n",
       "    .dataframe tbody tr th:only-of-type {\n",
       "        vertical-align: middle;\n",
       "    }\n",
       "\n",
       "    .dataframe tbody tr th {\n",
       "        vertical-align: top;\n",
       "    }\n",
       "\n",
       "    .dataframe thead th {\n",
       "        text-align: right;\n",
       "    }\n",
       "</style>\n",
       "<table border=\"1\" class=\"dataframe\">\n",
       "  <thead>\n",
       "    <tr style=\"text-align: right;\">\n",
       "      <th></th>\n",
       "      <th>0</th>\n",
       "      <th>1</th>\n",
       "      <th>2</th>\n",
       "      <th>3</th>\n",
       "      <th>4</th>\n",
       "      <th>5</th>\n",
       "      <th>6</th>\n",
       "      <th>7</th>\n",
       "      <th>8</th>\n",
       "      <th>9</th>\n",
       "      <th>10</th>\n",
       "    </tr>\n",
       "  </thead>\n",
       "  <tbody>\n",
       "    <tr>\n",
       "      <th>0</th>\n",
       "      <td>1.550508</td>\n",
       "      <td>19.483747</td>\n",
       "      <td>-0.002987</td>\n",
       "      <td>4.421460</td>\n",
       "      <td>5.541652</td>\n",
       "      <td>0.468138</td>\n",
       "      <td>-0.017365</td>\n",
       "      <td>0.005496</td>\n",
       "      <td>0.931543</td>\n",
       "      <td>-0.033190</td>\n",
       "      <td>15</td>\n",
       "    </tr>\n",
       "    <tr>\n",
       "      <th>1</th>\n",
       "      <td>9.683788</td>\n",
       "      <td>14.336396</td>\n",
       "      <td>-0.027154</td>\n",
       "      <td>5.100489</td>\n",
       "      <td>8.179487</td>\n",
       "      <td>0.573692</td>\n",
       "      <td>-0.024525</td>\n",
       "      <td>0.002686</td>\n",
       "      <td>0.880111</td>\n",
       "      <td>-0.040193</td>\n",
       "      <td>17</td>\n",
       "    </tr>\n",
       "    <tr>\n",
       "      <th>2</th>\n",
       "      <td>4.682631</td>\n",
       "      <td>8.112067</td>\n",
       "      <td>-0.012813</td>\n",
       "      <td>4.680838</td>\n",
       "      <td>1.514920</td>\n",
       "      <td>0.974407</td>\n",
       "      <td>-0.009002</td>\n",
       "      <td>0.007909</td>\n",
       "      <td>0.050082</td>\n",
       "      <td>-0.053341</td>\n",
       "      <td>12</td>\n",
       "    </tr>\n",
       "    <tr>\n",
       "      <th>3</th>\n",
       "      <td>7.768197</td>\n",
       "      <td>2.074808</td>\n",
       "      <td>-0.014950</td>\n",
       "      <td>7.977821</td>\n",
       "      <td>13.602144</td>\n",
       "      <td>0.599069</td>\n",
       "      <td>-0.018800</td>\n",
       "      <td>0.012021</td>\n",
       "      <td>0.632768</td>\n",
       "      <td>-0.035886</td>\n",
       "      <td>16</td>\n",
       "    </tr>\n",
       "    <tr>\n",
       "      <th>4</th>\n",
       "      <td>4.078857</td>\n",
       "      <td>8.307135</td>\n",
       "      <td>-0.004062</td>\n",
       "      <td>9.351602</td>\n",
       "      <td>6.661857</td>\n",
       "      <td>0.193607</td>\n",
       "      <td>-0.019705</td>\n",
       "      <td>0.007799</td>\n",
       "      <td>0.868582</td>\n",
       "      <td>-0.028378</td>\n",
       "      <td>20</td>\n",
       "    </tr>\n",
       "  </tbody>\n",
       "</table>\n",
       "</div>"
      ],
      "text/plain": [
       "         0          1         2         3          4         5         6   \\\n",
       "0  1.550508  19.483747 -0.002987  4.421460   5.541652  0.468138 -0.017365   \n",
       "1  9.683788  14.336396 -0.027154  5.100489   8.179487  0.573692 -0.024525   \n",
       "2  4.682631   8.112067 -0.012813  4.680838   1.514920  0.974407 -0.009002   \n",
       "3  7.768197   2.074808 -0.014950  7.977821  13.602144  0.599069 -0.018800   \n",
       "4  4.078857   8.307135 -0.004062  9.351602   6.661857  0.193607 -0.019705   \n",
       "\n",
       "         7         8         9   10  \n",
       "0  0.005496  0.931543 -0.033190  15  \n",
       "1  0.002686  0.880111 -0.040193  17  \n",
       "2  0.007909  0.050082 -0.053341  12  \n",
       "3  0.012021  0.632768 -0.035886  16  \n",
       "4  0.007799  0.868582 -0.028378  20  "
      ]
     },
     "execution_count": 3,
     "metadata": {},
     "output_type": "execute_result"
    }
   ],
   "source": [
    "db.head()"
   ]
  },
  {
   "cell_type": "markdown",
   "metadata": {},
   "source": [
    "Feature columns are `[0-9]` and the target is `[10]`. Split the table into object and target arrays:"
   ]
  },
  {
   "cell_type": "code",
   "execution_count": 4,
   "metadata": {},
   "outputs": [],
   "source": [
    "X = db.iloc[:, :10]\n",
    "Y = db.iloc[:, 10]"
   ]
  },
  {
   "cell_type": "markdown",
   "metadata": {},
   "source": [
    "Now split the data into train and test"
   ]
  },
  {
   "cell_type": "code",
   "execution_count": 5,
   "metadata": {},
   "outputs": [],
   "source": [
    "from sklearn.model_selection import train_test_split"
   ]
  },
  {
   "cell_type": "code",
   "execution_count": 6,
   "metadata": {},
   "outputs": [],
   "source": [
    "RANDOM_SEED = 42"
   ]
  },
  {
   "cell_type": "code",
   "execution_count": 7,
   "metadata": {},
   "outputs": [],
   "source": [
    "X_train, X_test, Y_train, Y_test = train_test_split(X, Y, test_size=0.1, random_state=RANDOM_SEED)"
   ]
  },
  {
   "cell_type": "markdown",
   "metadata": {},
   "source": [
    "**Task 1.1 [1 point] Linear models**\n",
    "\n",
    "Import `LinearRegression` and define a problem with default parameters."
   ]
  },
  {
   "cell_type": "code",
   "execution_count": 8,
   "metadata": {},
   "outputs": [],
   "source": [
    "from sklearn.linear_model import LinearRegression"
   ]
  },
  {
   "cell_type": "code",
   "execution_count": 9,
   "metadata": {},
   "outputs": [],
   "source": [
    "model_lr = LinearRegression()"
   ]
  },
  {
   "cell_type": "markdown",
   "metadata": {},
   "source": [
    "Train the model and check the quality both on train set and test set. Since we are solving a regression problem, we will use `mean_squared_error` as a quality metric."
   ]
  },
  {
   "cell_type": "code",
   "execution_count": 10,
   "metadata": {},
   "outputs": [],
   "source": [
    "from sklearn.metrics import mean_squared_error"
   ]
  },
  {
   "cell_type": "code",
   "execution_count": 11,
   "metadata": {},
   "outputs": [
    {
     "name": "stdout",
     "output_type": "stream",
     "text": [
      "Linear Regression scores: train: 5.814, test: 6.916\n"
     ]
    }
   ],
   "source": [
    "model_lr.fit(X_train, Y_train)\n",
    "train_pred = model_lr.predict(X_train)\n",
    "test_pred = model_lr.predict(X_test)\n",
    "train_score = mean_squared_error(Y_train, train_pred)\n",
    "test_score = mean_squared_error(Y_test, test_pred)\n",
    "\n",
    "print(\"Linear Regression scores: train: {:.3f}, test: {:3.3f}\".format(train_score, test_score))\n",
    "original_test_score = test_score "
   ]
  },
  {
   "cell_type": "markdown",
   "metadata": {},
   "source": [
    "Extract feature-vector from the trained model (see [this page](https://scikit-learn.org/stable/modules/generated/sklearn.linear_model.LinearRegression.html#sklearn.linear_model.LinearRegression)) and bar-plot them."
   ]
  },
  {
   "cell_type": "code",
   "execution_count": 12,
   "metadata": {},
   "outputs": [
    {
     "name": "stderr",
     "output_type": "stream",
     "text": [
      "No handles with labels found to put in legend.\n"
     ]
    },
    {
     "data": {
      "image/png": "[encoded data removed]",
      "text/plain": [
       "<Figure size 864x288 with 1 Axes>"
      ]
     },
     "metadata": {
      "needs_background": "light"
     },
     "output_type": "display_data"
    }
   ],
   "source": [
    "model_coefs = model_lr.coef_\n",
    "\n",
    "ncoef = model_coefs.shape[0]\n",
    "default_x = np.arange(ncoef)\n",
    "\n",
    "plt.figure(figsize=(12,4))\n",
    "plt.bar(np.arange(ncoef), model_coefs)\n",
    "plt.xticks(default_x)\n",
    "plt.xlabel('Coefficient Index')\n",
    "plt.ylabel('Coefficient Magnitude')\n",
    "plt.legend(loc='upper right')\n",
    "plt.grid()\n",
    "plt.show()"
   ]
  },
  {
   "cell_type": "markdown",
   "metadata": {},
   "source": [
    "According to this plot, what are the most important features?"
   ]
  },
  {
   "cell_type": "markdown",
   "metadata": {},
   "source": [
    "**Your answer here**: the most important features are 6, 7, 9 and 2."
   ]
  },
  {
   "cell_type": "markdown",
   "metadata": {},
   "source": [
    "Save 4 most important feature indexes to a list:"
   ]
  },
  {
   "cell_type": "code",
   "execution_count": 13,
   "metadata": {},
   "outputs": [],
   "source": [
    "important_feature_idx = np.argsort(np.abs(model_coefs))[-4:]"
   ]
  },
  {
   "cell_type": "code",
   "execution_count": 14,
   "metadata": {},
   "outputs": [
    {
     "data": {
      "text/plain": [
       "array([2, 7, 9, 6])"
      ]
     },
     "execution_count": 14,
     "metadata": {},
     "output_type": "execute_result"
    }
   ],
   "source": [
    "important_feature_idx"
   ]
  },
  {
   "cell_type": "markdown",
   "metadata": {},
   "source": [
    "Use these feature indexes to construct new train and test sets with smaller amount of features:"
   ]
  },
  {
   "cell_type": "code",
   "execution_count": 15,
   "metadata": {},
   "outputs": [],
   "source": [
    "X_train_smaller = X_train[important_feature_idx]\n",
    "X_test_smaller = X_test[important_feature_idx]"
   ]
  },
  {
   "cell_type": "markdown",
   "metadata": {},
   "source": [
    "Define a new `LinearRegression` model, train and test it on new sets: "
   ]
  },
  {
   "cell_type": "code",
   "execution_count": 16,
   "metadata": {},
   "outputs": [
    {
     "name": "stdout",
     "output_type": "stream",
     "text": [
      "Smaller LR train score: 22.244, test score: 26.171\n"
     ]
    }
   ],
   "source": [
    "smaller_model = LinearRegression()\n",
    "smaller_model.fit(X_train_smaller, Y_train)\n",
    "train_pred = smaller_model.predict(X_train_smaller)\n",
    "test_pred = smaller_model.predict(X_test_smaller)\n",
    "train_score = mean_squared_error(Y_train, train_pred)\n",
    "test_score = mean_squared_error(Y_test, test_pred)\n",
    "print(\"{} train score: {:.3f}, test score: {:3.3f}\".format('Smaller LR', train_score, test_score))"
   ]
  },
  {
   "cell_type": "markdown",
   "metadata": {},
   "source": [
    "Compare scores of `model_lr` (variable `original_score`) and `smaller_model` (variable `smaller_test_score`). We reduced number of feature but why scores changes so drastically?"
   ]
  },
  {
   "cell_type": "code",
   "execution_count": 17,
   "metadata": {},
   "outputs": [
    {
     "name": "stdout",
     "output_type": "stream",
     "text": [
      "Original LR test score: 6.916, Smaller LR test score: 26.171\n"
     ]
    }
   ],
   "source": [
    "print(\"{} test score: {:.3f}, {} test score: {:.3f}\".format('Original LR', original_test_score, 'Smaller LR', test_score))"
   ]
  },
  {
   "cell_type": "markdown",
   "metadata": {},
   "source": [
    "The main idea is that we chose \"important\" features incorrectly because we didn't take into account that our features can take values in the different ranges:"
   ]
  },
  {
   "cell_type": "code",
   "execution_count": 18,
   "metadata": {},
   "outputs": [
    {
     "name": "stdout",
     "output_type": "stream",
     "text": [
      "feature 6 range: from -0.0299753758194856 to -4.31163772009314e-05\n"
     ]
    }
   ],
   "source": [
    "print(\"feature 6 range: from {} to {}\".format(min(X_train.iloc[:, 6]), max(X_train.iloc[:, 6])))"
   ]
  },
  {
   "cell_type": "code",
   "execution_count": 19,
   "metadata": {},
   "outputs": [
    {
     "name": "stdout",
     "output_type": "stream",
     "text": [
      "feature 1 range: from 0.0017017731443047 to 19.99918435234576\n"
     ]
    }
   ],
   "source": [
    "print(\"feature 1 range: from {} to {}\".format(min(X_train.iloc[:, 1]), max(X_train.iloc[:, 1])))"
   ]
  },
  {
   "cell_type": "markdown",
   "metadata": {},
   "source": [
    "We can see that the range of values for the feature 1 is bigger than for the feature 6. Therefore, we have an influence to coefficients of linear regression, there is a tendency of underestatement of coefficients for features with wider range of values."
   ]
  },
  {
   "cell_type": "markdown",
   "metadata": {},
   "source": [
    "**Task 1.2 [1 point] Linear models on scaled data**\n",
    "\n",
    "It is time to fix this failure and scale the data - we should have done it earlier, since we decided to use linear models. Import the scaler and apply it to all of the data (`X`)"
   ]
  },
  {
   "cell_type": "code",
   "execution_count": 20,
   "metadata": {},
   "outputs": [],
   "source": [
    "from sklearn.preprocessing import StandardScaler"
   ]
  },
  {
   "cell_type": "code",
   "execution_count": 21,
   "metadata": {},
   "outputs": [],
   "source": [
    "st_scaler = StandardScaler()\n",
    "X_scaled = pd.DataFrame(st_scaler.fit_transform(X))"
   ]
  },
  {
   "cell_type": "markdown",
   "metadata": {},
   "source": [
    "Now we repeat all the steps:\n",
    "- split the data\n",
    "- train a model on all features\n",
    "- plot coefficients\n",
    "- choose 4 most-important features\n",
    "- train a model on a feature-subset\n",
    "- compare the scores\n",
    "- profit!"
   ]
  },
  {
   "cell_type": "code",
   "execution_count": 22,
   "metadata": {},
   "outputs": [],
   "source": [
    "X_sc_train, X_sc_test, Y_sc_train, Y_sc_test = train_test_split(X_scaled, Y, test_size=0.1, random_state=RANDOM_SEED)"
   ]
  },
  {
   "cell_type": "code",
   "execution_count": 23,
   "metadata": {},
   "outputs": [
    {
     "name": "stdout",
     "output_type": "stream",
     "text": [
      "Linear Regression on Scaled Data scores: train: 5.814, test: 6.916\n"
     ]
    }
   ],
   "source": [
    "model_lr_sc = LinearRegression()\n",
    "model_lr_sc.fit(X_sc_train, Y_sc_train)\n",
    "train_pred = model_lr_sc.predict(X_sc_train)\n",
    "test_pred = model_lr_sc.predict(X_sc_test)\n",
    "train_score = mean_squared_error(train_pred, Y_sc_train)\n",
    "test_score = mean_squared_error(test_pred, Y_sc_test)\n",
    "print(\"Linear Regression on Scaled Data scores: train: {:.3f}, test: {:3.3f}\".format(train_score, test_score))"
   ]
  },
  {
   "cell_type": "code",
   "execution_count": 24,
   "metadata": {},
   "outputs": [
    {
     "data": {
      "image/png": "[encoded data removed]",
      "text/plain": [
       "<Figure size 864x288 with 1 Axes>"
      ]
     },
     "metadata": {
      "needs_background": "light"
     },
     "output_type": "display_data"
    }
   ],
   "source": [
    "model_coefs = model_lr_sc.coef_\n",
    "\n",
    "ncoef = model_coefs.shape[0]\n",
    "default_x = np.arange(ncoef)\n",
    "\n",
    "plt.figure(figsize=(12,4))\n",
    "plt.bar(default_x, model_coefs, label='Linear Regression on Scaled Data', width=0.5, color = 'red')\n",
    "plt.xticks(default_x)\n",
    "plt.xlabel('Coefficient Index')\n",
    "plt.ylabel('Coefficient Magnitude')\n",
    "plt.legend(loc='upper right')\n",
    "plt.grid()\n",
    "plt.show()"
   ]
  },
  {
   "cell_type": "markdown",
   "metadata": {},
   "source": [
    "What are the most important features now? Let's do the sanity check and train on this subset:"
   ]
  },
  {
   "cell_type": "markdown",
   "metadata": {},
   "source": [
    "**Answer:** The most important features are 0, 1, 3, 4"
   ]
  },
  {
   "cell_type": "code",
   "execution_count": 25,
   "metadata": {},
   "outputs": [],
   "source": [
    "important_feature_idx = np.argsort(np.abs(model_coefs))[-4:]"
   ]
  },
  {
   "cell_type": "code",
   "execution_count": 26,
   "metadata": {},
   "outputs": [],
   "source": [
    "X_sc_train_smaller = X_sc_train[important_feature_idx]\n",
    "X_sc_test_smaller = X_sc_test[important_feature_idx]"
   ]
  },
  {
   "cell_type": "code",
   "execution_count": 27,
   "metadata": {},
   "outputs": [
    {
     "name": "stdout",
     "output_type": "stream",
     "text": [
      "Linear Regression on Scaled Data scores: train: 5.841, test: 6.856\n"
     ]
    }
   ],
   "source": [
    "model_lr_sc_smaller = LinearRegression()\n",
    "model_lr_sc_smaller.fit(X_sc_train_smaller, Y_sc_train)\n",
    "train_pred = model_lr_sc_smaller.predict(X_sc_train_smaller)\n",
    "test_pred = model_lr_sc_smaller.predict(X_sc_test_smaller)\n",
    "train_score = mean_squared_error(Y_sc_train, train_pred)\n",
    "test_score = mean_squared_error(Y_sc_test, test_pred)\n",
    "print(\"Linear Regression on Scaled Data scores: train: {:.3f}, test: {:3.3f}\".format(train_score, test_score))"
   ]
  },
  {
   "cell_type": "markdown",
   "metadata": {},
   "source": [
    "Has **MSE** changed? To what extent?"
   ]
  },
  {
   "cell_type": "markdown",
   "metadata": {},
   "source": [
    "**Your answer here**: Yes, MSE changed. With four the most important features it decreased from 6.916 to 6.856 on the test set (insignificantly)."
   ]
  },
  {
   "cell_type": "markdown",
   "metadata": {},
   "source": [
    "**Task 2 [2 points] Decision Tree**\n",
    "\n",
    "As you probably now, there are models that are not influence by the fact that data is not normalized: for example, Decision Tree or Random Forest.\n",
    "\n",
    "Since you already have all the sets prepared: `X_train` and `X_sc_train`, train a RF model and prove that scaling does not affect feature importances.\n",
    "\n",
    "Then compare durations of training loops for a set with 10 features and 4 features."
   ]
  },
  {
   "cell_type": "code",
   "execution_count": 45,
   "metadata": {},
   "outputs": [],
   "source": [
    "from sklearn.ensemble import RandomForestRegressor"
   ]
  },
  {
   "cell_type": "code",
   "execution_count": 46,
   "metadata": {},
   "outputs": [],
   "source": [
    "rf = RandomForestRegressor()\n",
    "rf_scaled = RandomForestRegressor()"
   ]
  },
  {
   "cell_type": "code",
   "execution_count": 30,
   "metadata": {},
   "outputs": [
    {
     "name": "stdout",
     "output_type": "stream",
     "text": [
      "RF test score 0.981\n",
      "RF scaled test score 0.981\n"
     ]
    }
   ],
   "source": [
    "rf.fit(X_train, Y_train)\n",
    "rf_scaled.fit(X_sc_train, Y_train)\n",
    "rf_test_score = rf.score(X_train, Y_train)\n",
    "rf_scaled_test_score = rf_scaled.score(X_sc_train, Y_train)\n",
    "print(\"RF test score {:.3f}\".format(rf_test_score))\n",
    "print(\"RF scaled test score {:.3f}\".format(rf_scaled_test_score))"
   ]
  },
  {
   "cell_type": "markdown",
   "metadata": {},
   "source": [
    "Look up an attribute for feature importances [here](https://scikit-learn.org/stable/modules/generated/sklearn.ensemble.RandomForestRegressor.html?highlight=random%20forest#sklearn.ensemble.RandomForestRegressor)"
   ]
  },
  {
   "cell_type": "code",
   "execution_count": 31,
   "metadata": {},
   "outputs": [
    {
     "data": {
      "image/png": "[encoded data removed]",
      "text/plain": [
       "<Figure size 864x288 with 1 Axes>"
      ]
     },
     "metadata": {
      "needs_background": "light"
     },
     "output_type": "display_data"
    }
   ],
   "source": [
    "rf_model_coefs = rf.feature_importances_\n",
    "rf_scaled_model_coefs = rf_scaled.feature_importances_\n",
    "ncoef = rf_model_coefs.shape[0]\n",
    "default_x = np.arange(ncoef)\n",
    "\n",
    "plt.figure(figsize=(12,4))\n",
    "plt.bar(default_x - 0.1, rf_model_coefs, label=\"RF\", width=0.1, color = 'red')\n",
    "plt.bar(default_x + 0.1, rf_scaled_model_coefs, label=\"RF Scaled\", width=0.1, color = 'blue')\n",
    "plt.xticks(default_x)\n",
    "plt.xlabel('Coefficient Index')\n",
    "plt.ylabel('Coefficient Magnitude')\n",
    "plt.legend(loc='upper right')\n",
    "plt.grid()\n",
    "plt.show()"
   ]
  },
  {
   "cell_type": "markdown",
   "metadata": {},
   "source": [
    "**Your Comment on the plot:**"
   ]
  },
  {
   "cell_type": "markdown",
   "metadata": {},
   "source": [
    "We can see that scaling doesn't affect on the feature importance in the case of the Random Forest. It's quite logical, because Random Forest сhoose a threshold to split each feature according to maximize some impurity metric therefore range of values doesn't affect."
   ]
  },
  {
   "cell_type": "markdown",
   "metadata": {},
   "source": [
    "Now examine how reduction of number of features impacts durations of training loops. You may use `time` module."
   ]
  },
  {
   "cell_type": "markdown",
   "metadata": {},
   "source": [
    "Here is an example:"
   ]
  },
  {
   "cell_type": "code",
   "execution_count": 32,
   "metadata": {},
   "outputs": [
    {
     "name": "stdout",
     "output_type": "stream",
     "text": [
      "1000 x 1000 matrix determinant took 0.273 seconds\n"
     ]
    },
    {
     "name": "stderr",
     "output_type": "stream",
     "text": [
      "/Users/anastasialavruhina/.virtualenvs/lib/python3.8/site-packages/numpy/linalg/linalg.py:2158: RuntimeWarning: overflow encountered in det\n",
      "  r = _umath_linalg.det(a, signature=signature)\n"
     ]
    }
   ],
   "source": [
    "from time import time\n",
    "\n",
    "n = 1000\n",
    "a = np.diag(np.ones(n)) + np.random.rand(n, n)\n",
    "\n",
    "start = time()\n",
    "det = np.linalg.det(a)\n",
    "end = time()\n",
    "print(\"{} x {} matrix determinant took {:.3f} seconds\".format(n, n, end - start))"
   ]
  },
  {
   "cell_type": "code",
   "execution_count": 33,
   "metadata": {},
   "outputs": [],
   "source": [
    "rf1 = RandomForestRegressor()\n",
    "rf2 = RandomForestRegressor()"
   ]
  },
  {
   "cell_type": "code",
   "execution_count": 34,
   "metadata": {},
   "outputs": [
    {
     "name": "stdout",
     "output_type": "stream",
     "text": [
      "Random forest on all features 0.348 seconds\n"
     ]
    }
   ],
   "source": [
    "start1 = time()\n",
    "rf1.fit(X_sc_train, Y_sc_train)\n",
    "end1 = time()\n",
    "print(\"Random forest on all features {:.3f} seconds\".format(end1 - start1))"
   ]
  },
  {
   "cell_type": "code",
   "execution_count": 35,
   "metadata": {},
   "outputs": [
    {
     "name": "stdout",
     "output_type": "stream",
     "text": [
      "Random forest on 4 most important features 0.275 seconds\n"
     ]
    }
   ],
   "source": [
    "X_sc_train_small = X_sc_train[np.argsort(rf_model_coefs)[-4:]]\n",
    "start2 = time()\n",
    "rf1.fit(X_sc_train_small, Y_sc_train)\n",
    "end2 = time()\n",
    "print(\"Random forest on 4 most important features {:.3f} seconds\".format(end2 - start2))"
   ]
  },
  {
   "cell_type": "markdown",
   "metadata": {},
   "source": [
    "**Your Comment on time consuption**: We can see that training on 4 most important features (~0.197 seconds) is faster than training on all features (~0.397). I think the reason of such result is that the less feature we have, the less features we consider while construstring the tree (or smaller random subset of features to construct each decision tree in the forest), therefore it's constructed faster -> less nodes in the tree."
   ]
  },
  {
   "cell_type": "markdown",
   "metadata": {},
   "source": [
    "## Part 2. GridSearch: hyperparameter tuning  [11 points]"
   ]
  },
  {
   "cell_type": "markdown",
   "metadata": {},
   "source": [
    "In this part we will try to solve a multiclass classification task on Richter's dataset ([source](https://www.kaggle.com/mullerismail/richters-predictor-modeling-earthquake-damage)). The aim is to predict damage rate (label from 1 to 3).\n",
    "\n",
    "We will experiment with following models:\n",
    "- kNN\n",
    "- LinearRegression\n",
    "- DecisionTree\n",
    "- RandomForest"
   ]
  },
  {
   "cell_type": "code",
   "execution_count": 29,
   "metadata": {},
   "outputs": [],
   "source": [
    "import numpy as np\n",
    "import pandas as pd\n",
    "import matplotlib.pyplot as plt\n",
    "%matplotlib inline"
   ]
  },
  {
   "cell_type": "markdown",
   "metadata": {},
   "source": [
    "Read the data, transform the table into arrays `X` and `y`, target column is called *damage_grade*. Note that objects are described with both numerical and categorical features. In the first part of this assignment we will use numerical features only (apply `_get_numeric_data()` to `pandas` dataframe).\n",
    "\n",
    "Split the data into `train`, `test` and `val` with ratio 4-to-2-to-1. Since we are going to use metric classifiers, don't forget to preprocess the data."
   ]
  },
  {
   "cell_type": "code",
   "execution_count": 30,
   "metadata": {},
   "outputs": [],
   "source": [
    "RANDOM_SEED = 42"
   ]
  },
  {
   "cell_type": "code",
   "execution_count": 31,
   "metadata": {},
   "outputs": [],
   "source": [
    "from sklearn.model_selection import train_test_split\n",
    "\n",
    "from sklearn.preprocessing import StandardScaler\n",
    "from sklearn.preprocessing import MinMaxScaler"
   ]
  },
  {
   "cell_type": "code",
   "execution_count": 32,
   "metadata": {},
   "outputs": [],
   "source": [
    "data = pd.read_csv(\"data/richters_sample.csv\")\n",
    "objects = data.drop(columns='damage_grade')\n",
    "labels = data['damage_grade']"
   ]
  },
  {
   "cell_type": "code",
   "execution_count": 33,
   "metadata": {},
   "outputs": [],
   "source": [
    "X = objects._get_numeric_data()\n",
    "y = labels\n",
    "\n",
    "assert X.shape == (35000, 31) and  y.shape == (35000,)"
   ]
  },
  {
   "cell_type": "code",
   "execution_count": 34,
   "metadata": {},
   "outputs": [],
   "source": [
    "scaler = StandardScaler()\n",
    "X = scaler.fit_transform(X)"
   ]
  },
  {
   "cell_type": "code",
   "execution_count": 35,
   "metadata": {},
   "outputs": [],
   "source": [
    "X_train, X_not_train, y_train, y_not_train = train_test_split(X, y, test_size=3/7, \n",
    "                                                    shuffle=True, stratify=y,\n",
    "                                                    random_state=RANDOM_SEED)\n",
    "\n",
    "X_test, X_val, y_test, y_val = train_test_split(X_not_train, y_not_train, test_size=1/3, \n",
    "                                                    shuffle=True, stratify=y_not_train,\n",
    "                                                    random_state=RANDOM_SEED)\n",
    "\n",
    "assert X_train.shape[0] == 20000 and X_test.shape[0] == 10000 and X_val.shape[0] == 5000"
   ]
  },
  {
   "cell_type": "markdown",
   "metadata": {},
   "source": [
    "Import the models:"
   ]
  },
  {
   "cell_type": "code",
   "execution_count": 38,
   "metadata": {},
   "outputs": [],
   "source": [
    "from sklearn.neighbors import KNeighborsClassifier\n",
    "from sklearn.linear_model import LogisticRegression\n",
    "from sklearn.tree import DecisionTreeClassifier\n",
    "from sklearn.ensemble import RandomForestClassifier"
   ]
  },
  {
   "cell_type": "markdown",
   "metadata": {},
   "source": [
    "Import classification quality metrics:"
   ]
  },
  {
   "cell_type": "code",
   "execution_count": 39,
   "metadata": {},
   "outputs": [],
   "source": [
    "from sklearn.metrics import accuracy_score, precision_score, recall_score"
   ]
  },
  {
   "cell_type": "markdown",
   "metadata": {},
   "source": [
    "**Task 2.1 [2 points]. Default-parameter models**\n",
    "\n",
    "Let's take 4 classifiers (1 of a kind) with **default** parameters and check how well they can perform."
   ]
  },
  {
   "cell_type": "code",
   "execution_count": 40,
   "metadata": {},
   "outputs": [],
   "source": [
    "clf1 = KNeighborsClassifier()\n",
    "clf2 = LogisticRegression()\n",
    "clf3 = DecisionTreeClassifier()\n",
    "clf4 = RandomForestClassifier()\n",
    "\n",
    "default_classifiers = [clf1, clf2, clf3, clf4]"
   ]
  },
  {
   "cell_type": "markdown",
   "metadata": {},
   "source": [
    "Fit each classifier on `X_train, y_train`, predict on `X_test`"
   ]
  },
  {
   "cell_type": "code",
   "execution_count": 46,
   "metadata": {},
   "outputs": [],
   "source": [
    "clf_predictions = []\n",
    "for clf in default_classifiers:\n",
    "    clf.fit(X_train, y_train)\n",
    "    pred = clf.predict(X_test)\n",
    "    clf_predictions.append(pred)"
   ]
  },
  {
   "cell_type": "markdown",
   "metadata": {},
   "source": [
    "Apply 5 metrics to each prediction:"
   ]
  },
  {
   "cell_type": "code",
   "execution_count": 47,
   "metadata": {},
   "outputs": [],
   "source": [
    "accuracies = [accuracy_score(y_test, pred) for pred in clf_predictions]\n",
    "micro_precisions = [precision_score(y_test, pred, average=\"micro\", zero_division=1) for pred in clf_predictions] \n",
    "micro_recalls = [recall_score(y_test, pred, average='micro') for pred in clf_predictions]\n",
    "macro_precisions = [precision_score(y_test, pred, average='macro') for pred in clf_predictions]\n",
    "macro_recalls = [recall_score(y_test, pred, average='macro') for pred in clf_predictions]\n",
    "\n",
    "scores = [accuracies, micro_precisions, micro_recalls, macro_precisions, macro_recalls]\n",
    "names = [\"Accuracies\", \"Micro-Precisions\", \"Micro-Recalls\",  \"Macro-Precisions\", \"Macro-Recalls\"]"
   ]
  },
  {
   "cell_type": "code",
   "execution_count": 48,
   "metadata": {},
   "outputs": [
    {
     "data": {
      "image/png": "[encoded data removed]",
      "text/plain": [
       "<Figure size 1440x360 with 5 Axes>"
      ]
     },
     "metadata": {
      "needs_background": "light"
     },
     "output_type": "display_data"
    }
   ],
   "source": [
    "fig, axs = plt.subplots(nrows=1, ncols=5, figsize=(20, 5), sharey=True)\n",
    "plt.setp(axs, ylim=(0, 1))\n",
    "\n",
    "xlabels = [\"knn\", \"linear\", \"dt\", \"rf\"]\n",
    "colors = [\"yellow\", \"red\", \"blue\", \"green\"]\n",
    "xticks = 1 + np.arange(len(xlabels))\n",
    "\n",
    "for ax, score, name in zip(axs, scores, names):\n",
    "    ax.bar(xticks, score, color=colors)\n",
    "    for i, v in enumerate(score):\n",
    "        ax.text(xticks[i] - 0.25, v + 0.01, \"{:.2f}\".format(v))\n",
    "    ax.set_xticks(xticks)\n",
    "    ax.set_xticklabels(xlabels)\n",
    "    ax.set_title(name)\n",
    "    ax.grid()\n",
    "\n",
    "plt.show()"
   ]
  },
  {
   "cell_type": "markdown",
   "metadata": {},
   "source": [
    "Choose the model with the biggest gap between micro-precision and macro-precision and plot its confusion matrix.\n",
    "For confusion matrix do `from sklearn.metrics import confusion_matrix` (don't forget to put valid labels on plots)."
   ]
  },
  {
   "cell_type": "code",
   "execution_count": 41,
   "metadata": {},
   "outputs": [],
   "source": [
    "from sklearn.metrics import confusion_matrix\n",
    "import seaborn as sns"
   ]
  },
  {
   "cell_type": "code",
   "execution_count": 50,
   "metadata": {},
   "outputs": [],
   "source": [
    "weakest_model_index = 2 #decision tree \n",
    "\n",
    "dt_preds = clf_predictions[weakest_model_index]\n",
    "conf_matrix = confusion_matrix(y_test, clf_predictions[weakest_model_index])"
   ]
  },
  {
   "cell_type": "code",
   "execution_count": 51,
   "metadata": {},
   "outputs": [
    {
     "data": {
      "image/png": "[encoded data removed]",
      "text/plain": [
       "<Figure size 432x288 with 2 Axes>"
      ]
     },
     "metadata": {
      "needs_background": "light"
     },
     "output_type": "display_data"
    }
   ],
   "source": [
    "sns.heatmap(conf_matrix, \n",
    "            cmap=\"Blues\",\n",
    "            xticklabels=sorted(y_test.unique()),\n",
    "            yticklabels=sorted(y_test.unique()),\n",
    "            linewidths=0.01, linecolor=\"black\", \n",
    "            annot = True, fmt='2g')\n",
    "\n",
    "plt.ylabel(\"GT\")\n",
    "plt.xlabel(\"Predictions\")\n",
    "plt.show()"
   ]
  },
  {
   "cell_type": "code",
   "execution_count": 52,
   "metadata": {},
   "outputs": [
    {
     "name": "stdout",
     "output_type": "stream",
     "text": [
      "1 class objects num: 964, 2 class objects num: 5681, 3 class objects num: 3355\n"
     ]
    }
   ],
   "source": [
    "print('1 class objects num: {}, 2 class objects num: {}, 3 class objects num: {}'.format(np.count_nonzero(y_test == 1),\n",
    "     np.count_nonzero(y_test == 2), np.count_nonzero(y_test == 3)))"
   ]
  },
  {
   "cell_type": "markdown",
   "metadata": {},
   "source": [
    "Going by confusion matrix, which class is the hardest to predict? How does it affect macro/micro-precision?\n",
    "\n",
    "**Your answer:** Classes are unbalanced in our data set: we have 964 objects of class 1, 5681 objects of the second one, and 3355 objects of class 3. From the confusion matrix we can see that the first class is quite hard to predict, from 964 elements we have only 371 true classifications and 593 misclassifications. Macro precision estimates the performance of the model in total: it computes the precision independently for each class and take the average, therefore it treats each class equally. For this reason misclassifications of class 1 affect on it strongly. Instead, micro-precision aggregate all true positive results and compute the average, therefore it treats the classes with the bigger number of elements better and misclassifications of class 1 affect it less."
   ]
  },
  {
   "cell_type": "markdown",
   "metadata": {},
   "source": [
    "**Task 2.2 [3 points]. 1-D Grid Search**\n",
    "\n",
    "No wonder that default models have scores far from perfect. Let's tweak those hyperparameters with GridSearch: we will iteratively look through all combinations of parameters in the grid and choose the best. At each iteraction use cross validation score with number of folds `k=5`.\n",
    "\n",
    "Firstly, build the grid for kNN. It will be a 1-D grid with the only parameter `n_neighbors`. Look through all values from 1 to 50.\n",
    "\n",
    "*Hint*: `np.arange`, `np.linspace` and `np.logspace` are very useful for grid constructions.\n",
    "\n",
    "**Attention** this part of assignment may need a lot of computational powers (as you probably remember, training of knn is quite expensive). \n",
    "\n",
    "To save some resources while doing grid search for knn you may use the trick from Part1: do feature-selection with DTree/RandomForest and select top-5 or top-10 features."
   ]
  },
  {
   "cell_type": "code",
   "execution_count": 47,
   "metadata": {},
   "outputs": [],
   "source": [
    "from sklearn.model_selection import cross_val_score\n",
    "from sklearn.model_selection import GridSearchCV"
   ]
  },
  {
   "cell_type": "markdown",
   "metadata": {},
   "source": [
    "Let's make top-10 feature-selection using RandomForest:"
   ]
  },
  {
   "cell_type": "code",
   "execution_count": 48,
   "metadata": {},
   "outputs": [],
   "source": [
    "rf = RandomForestRegressor()\n",
    "rf.fit(X_train, y_train)\n",
    "forest_coefs = rf.feature_importances_\n",
    "important_feature_idx = np.argsort(np.abs(forest_coefs))[-10:]"
   ]
  },
  {
   "cell_type": "code",
   "execution_count": 49,
   "metadata": {},
   "outputs": [],
   "source": [
    "X_train_selected = X_train[:, important_feature_idx]\n",
    "X_test_selected = X_test[:, important_feature_idx]\n",
    "X_val_selected = X_val[:, important_feature_idx]"
   ]
  },
  {
   "cell_type": "code",
   "execution_count": 50,
   "metadata": {},
   "outputs": [],
   "source": [
    "knn_clf = KNeighborsClassifier()\n",
    "knn_grid = {\n",
    "    \"n_neighbors\": np.arange(1, 51)\n",
    "}"
   ]
  },
  {
   "cell_type": "code",
   "execution_count": 52,
   "metadata": {},
   "outputs": [
    {
     "data": {
      "text/plain": [
       "GridSearchCV(cv=5, estimator=KNeighborsClassifier(),\n",
       "             param_grid={'n_neighbors': array([ 1,  2,  3,  4,  5,  6,  7,  8,  9, 10, 11, 12, 13, 14, 15, 16, 17,\n",
       "       18, 19, 20, 21, 22, 23, 24, 25, 26, 27, 28, 29, 30, 31, 32, 33, 34,\n",
       "       35, 36, 37, 38, 39, 40, 41, 42, 43, 44, 45, 46, 47, 48, 49, 50])},\n",
       "             return_train_score=True)"
      ]
     },
     "execution_count": 52,
     "metadata": {},
     "output_type": "execute_result"
    }
   ],
   "source": [
    "knn_grid_searcher = GridSearchCV(knn_clf, knn_grid, cv=5, return_train_score=True)\n",
    "knn_grid_searcher.fit(X_train_selected, y_train)"
   ]
  },
  {
   "cell_type": "markdown",
   "metadata": {},
   "source": [
    "Plot mean cross-validation score for each hyperparameter:\n",
    "- X-axis is hyperparameter values\n",
    "- Y-axis is mean CV-score\n",
    "\n",
    "To show variance of obtained estimatets add *mean + 3 stds* and *mean - 3 stds* to the plot. You may use `plt.fill_between` to make it more descriptive (it will look like a coridor around the mean).\n",
    "\n",
    "To get values we need to plot search in `knn_grid_searcher` parameters and attributes."
   ]
  },
  {
   "cell_type": "code",
   "execution_count": 53,
   "metadata": {},
   "outputs": [],
   "source": [
    "means_train = knn_grid_searcher.cv_results_['mean_train_score']\n",
    "stds_train = knn_grid_searcher.cv_results_['std_train_score']\n",
    "means_test = knn_grid_searcher.cv_results_['mean_test_score']\n",
    "stds_test = knn_grid_searcher.cv_results_['std_test_score']"
   ]
  },
  {
   "cell_type": "code",
   "execution_count": 61,
   "metadata": {},
   "outputs": [
    {
     "data": {
      "image/png": "[encoded data removed]",
      "text/plain": [
       "<Figure size 720x432 with 1 Axes>"
      ]
     },
     "metadata": {
      "needs_background": "light"
     },
     "output_type": "display_data"
    }
   ],
   "source": [
    "plt.figure(figsize=(10, 6))\n",
    "plt.plot(np.arange(1, 51), means_train, label='train score')\n",
    "plt.plot(np.arange(1, 51), means_test, label='test score')\n",
    "plt.fill_between(np.arange(1, 51), means_train + 3*stds_train, means_train - 3*stds_train, alpha=0.4, label='train variance')\n",
    "plt.fill_between(np.arange(1, 51), means_test + 3*stds_test, means_test - 3*stds_test, alpha=0.4, label='test variance')\n",
    "\n",
    "plt.xlabel('n neighbors')\n",
    "plt.ylabel('score')\n",
    "plt.legend()\n",
    "plt.title('KNeighborsClassifier n neighbors grid search')\n",
    "plt.grid(alpha=0.5)\n",
    "plt.show()"
   ]
  },
  {
   "cell_type": "markdown",
   "metadata": {},
   "source": [
    "Print the best estimator and its score:"
   ]
  },
  {
   "cell_type": "code",
   "execution_count": 60,
   "metadata": {},
   "outputs": [
    {
     "name": "stdout",
     "output_type": "stream",
     "text": [
      "Best estimator: {'n_neighbors': 45}\n",
      "Best score: 0.59840\n"
     ]
    }
   ],
   "source": [
    "print(\"Best estimator: {}\".format(knn_grid_searcher.best_params_))\n",
    "print(\"Best score: {:.5f}\".format(knn_grid_searcher.best_score_))"
   ]
  },
  {
   "cell_type": "markdown",
   "metadata": {},
   "source": [
    "Now do the same for 3 other models:\n",
    "- Decision Tree: grid search the `max_depth` parameter\n",
    "- LogisticRegression: `penalty`\n",
    "- RandomForest: `n_estimators`\n",
    "\n",
    "Some of the hyperparameters are not numeric, but categorical (like `penalty`) and you should choose some other way to plot cv-scores instead of `plt.plot`"
   ]
  },
  {
   "cell_type": "code",
   "execution_count": 62,
   "metadata": {},
   "outputs": [],
   "source": [
    "dt_clf = DecisionTreeClassifier(random_state=RANDOM_SEED)\n",
    "dt_grid = {\n",
    "    \"max_depth\": np.arange(1, 21)\n",
    "}"
   ]
  },
  {
   "cell_type": "code",
   "execution_count": 63,
   "metadata": {},
   "outputs": [
    {
     "data": {
      "text/plain": [
       "GridSearchCV(cv=5, estimator=DecisionTreeClassifier(random_state=42),\n",
       "             param_grid={'max_depth': array([ 1,  2,  3,  4,  5,  6,  7,  8,  9, 10, 11, 12, 13, 14, 15, 16, 17,\n",
       "       18, 19, 20])},\n",
       "             return_train_score=True)"
      ]
     },
     "execution_count": 63,
     "metadata": {},
     "output_type": "execute_result"
    }
   ],
   "source": [
    "dt_grid_searcher = GridSearchCV(dt_clf, dt_grid, cv=5, return_train_score=True)\n",
    "dt_grid_searcher.fit(X_train, y_train)"
   ]
  },
  {
   "cell_type": "code",
   "execution_count": 66,
   "metadata": {},
   "outputs": [],
   "source": [
    "means_train = dt_grid_searcher.cv_results_['mean_train_score']\n",
    "stds_train = dt_grid_searcher.cv_results_['std_train_score']\n",
    "means_test = dt_grid_searcher.cv_results_['mean_test_score']\n",
    "stds_test = dt_grid_searcher.cv_results_['std_test_score']"
   ]
  },
  {
   "cell_type": "code",
   "execution_count": 68,
   "metadata": {},
   "outputs": [
    {
     "data": {
      "image/png": "[encoded data removed]",
      "text/plain": [
       "<Figure size 720x432 with 1 Axes>"
      ]
     },
     "metadata": {
      "needs_background": "light"
     },
     "output_type": "display_data"
    }
   ],
   "source": [
    "plt.figure(figsize=(10, 6))\n",
    "plt.plot(np.arange(1, 21), means_train, label='train score')\n",
    "plt.plot(np.arange(1, 21), means_test, label='test score')\n",
    "plt.fill_between(np.arange(1, 21), means_train + 3*stds_train, means_train - 3*stds_train, alpha=0.4, label='train variance')\n",
    "plt.fill_between(np.arange(1, 21), means_test + 3*stds_test, means_test - 3*stds_test, alpha=0.4, label='test variance')\n",
    "\n",
    "plt.xlabel('max depth')\n",
    "plt.ylabel('score')\n",
    "plt.legend()\n",
    "plt.title('DecisionTreeClassifier max depth grid search')\n",
    "plt.grid(alpha=0.5)\n",
    "plt.show()"
   ]
  },
  {
   "cell_type": "code",
   "execution_count": 65,
   "metadata": {},
   "outputs": [
    {
     "name": "stdout",
     "output_type": "stream",
     "text": [
      "Best estimator: {'max_depth': 6}\n",
      "Best score: 0.65330\n"
     ]
    }
   ],
   "source": [
    "print(\"Best estimator: {}\".format(dt_grid_searcher.best_params_))\n",
    "print(\"Best score: {:.5f}\".format(dt_grid_searcher.best_score_))"
   ]
  },
  {
   "cell_type": "code",
   "execution_count": 69,
   "metadata": {},
   "outputs": [],
   "source": [
    "lr_clf = LogisticRegression(solver='saga', random_state=RANDOM_SEED)\n",
    "lr_grid = [\n",
    "    {'penalty': ['l1'], 'solver': ['liblinear']},\n",
    "    {'penalty': ['l2', 'none'], 'solver': ['lbfgs']},\n",
    "    {'penalty': ['elasticnet'], 'solver': ['saga']}\n",
    "    ]"
   ]
  },
  {
   "cell_type": "code",
   "execution_count": 70,
   "metadata": {},
   "outputs": [
    {
     "data": {
      "text/plain": [
       "GridSearchCV(cv=5, estimator=LogisticRegression(random_state=42, solver='saga'),\n",
       "             param_grid=[{'penalty': ['l1'], 'solver': ['liblinear']},\n",
       "                         {'penalty': ['l2', 'none'], 'solver': ['lbfgs']},\n",
       "                         {'penalty': ['elasticnet'], 'solver': ['saga']}],\n",
       "             return_train_score=True)"
      ]
     },
     "execution_count": 70,
     "metadata": {},
     "output_type": "execute_result"
    }
   ],
   "source": [
    "from warnings import simplefilter\n",
    "from sklearn.exceptions import ConvergenceWarning, FitFailedWarning\n",
    "\n",
    "simplefilter(\"ignore\", category=(ConvergenceWarning, UserWarning, FitFailedWarning))\n",
    "\n",
    "lr_grid_searcher = GridSearchCV(lr_clf, lr_grid, cv=5, return_train_score=True)\n",
    "lr_grid_searcher.fit(X_train, y_train)"
   ]
  },
  {
   "cell_type": "code",
   "execution_count": 74,
   "metadata": {},
   "outputs": [],
   "source": [
    "means_test = lr_grid_searcher.cv_results_['mean_test_score']\n",
    "stds_test = lr_grid_searcher.cv_results_['std_test_score']"
   ]
  },
  {
   "cell_type": "markdown",
   "metadata": {},
   "source": [
    "***COMMENT:*** elasticnet regularization doesn't converge"
   ]
  },
  {
   "cell_type": "code",
   "execution_count": 76,
   "metadata": {},
   "outputs": [
    {
     "data": {
      "image/png": "[encoded data removed]",
      "text/plain": [
       "<Figure size 720x432 with 1 Axes>"
      ]
     },
     "metadata": {
      "needs_background": "light"
     },
     "output_type": "display_data"
    }
   ],
   "source": [
    "plt.figure(figsize=(10, 6))\n",
    "\n",
    "plt.errorbar(np.arange(1, 4), means_test[:-1], yerr=3*stds_test[:-1], ecolor='lightblue', capsize=5, linestyle='None', fmt='o')\n",
    "plt.text(1, means_test[0]+0.001, \"{:.4f}\".format(means_test[0]))\n",
    "plt.text(2, means_test[1]+0.001, \"{:.4f}\".format(means_test[1]))\n",
    "plt.text(3, means_test[2]+0.001, \"{:.4f}\".format(means_test[2]))\n",
    "\n",
    "plt.xticks(np.arange(1, 4), ['l1', 'l2', 'none'])\n",
    "plt.title('LogisticRegression penalty grid search')\n",
    "plt.ylabel('score')\n",
    "plt.xlabel('penalty')\n",
    "plt.grid(alpha=0.25)\n",
    "plt.show()"
   ]
  },
  {
   "cell_type": "code",
   "execution_count": 70,
   "metadata": {},
   "outputs": [
    {
     "name": "stdout",
     "output_type": "stream",
     "text": [
      "Best estimator: {'penalty': 'l2', 'solver': 'lbfgs'}\n",
      "Best score: 0.57865\n"
     ]
    }
   ],
   "source": [
    "print(\"Best estimator: {}\".format(lr_grid_searcher.best_params_))\n",
    "print(\"Best score: {:.5f}\".format(lr_grid_searcher.best_score_))"
   ]
  },
  {
   "cell_type": "code",
   "execution_count": 77,
   "metadata": {},
   "outputs": [],
   "source": [
    "rf_clf = RandomForestClassifier(random_state=RANDOM_SEED)\n",
    "rf_grid = {\n",
    "    \"n_estimators\": np.arange(1, 51)\n",
    "}"
   ]
  },
  {
   "cell_type": "code",
   "execution_count": 78,
   "metadata": {},
   "outputs": [
    {
     "data": {
      "text/plain": [
       "GridSearchCV(cv=5, estimator=RandomForestClassifier(random_state=42),\n",
       "             param_grid={'n_estimators': array([ 1,  2,  3,  4,  5,  6,  7,  8,  9, 10, 11, 12, 13, 14, 15, 16, 17,\n",
       "       18, 19, 20, 21, 22, 23, 24, 25, 26, 27, 28, 29, 30, 31, 32, 33, 34,\n",
       "       35, 36, 37, 38, 39, 40, 41, 42, 43, 44, 45, 46, 47, 48, 49, 50])},\n",
       "             return_train_score=True)"
      ]
     },
     "execution_count": 78,
     "metadata": {},
     "output_type": "execute_result"
    }
   ],
   "source": [
    "rf_grid_searcher = GridSearchCV(rf_clf, rf_grid, cv=5, return_train_score=True)\n",
    "rf_grid_searcher.fit(X_train, y_train)"
   ]
  },
  {
   "cell_type": "code",
   "execution_count": 82,
   "metadata": {},
   "outputs": [],
   "source": [
    "means_train = rf_grid_searcher.cv_results_['mean_train_score']\n",
    "stds_train = rf_grid_searcher.cv_results_['std_train_score']\n",
    "means_test = rf_grid_searcher.cv_results_['mean_test_score']\n",
    "stds_test = rf_grid_searcher.cv_results_['std_test_score']"
   ]
  },
  {
   "cell_type": "code",
   "execution_count": 83,
   "metadata": {},
   "outputs": [
    {
     "data": {
      "image/png": "[encoded data removed]",
      "text/plain": [
       "<Figure size 720x432 with 1 Axes>"
      ]
     },
     "metadata": {
      "needs_background": "light"
     },
     "output_type": "display_data"
    }
   ],
   "source": [
    "plt.figure(figsize=(10, 6))\n",
    "\n",
    "plt.plot(np.arange(1, 51), means_train, label='train score')\n",
    "plt.plot(np.arange(1, 51), means_test, label='test score')\n",
    "plt.fill_between(np.arange(1, 51), means_train + 3*stds_train, means_train - 3*stds_train, alpha=0.4, label='train variance')\n",
    "plt.fill_between(np.arange(1, 51), means_test + 3*stds_test, means_test - 3*stds_test, alpha=0.4, label='test variance')\n",
    "\n",
    "plt.xlabel('n estimators')\n",
    "plt.ylabel('score')\n",
    "plt.legend()\n",
    "plt.title('RandomForestClassifier max depth grid search')\n",
    "plt.grid(alpha=0.5)\n",
    "plt.show()"
   ]
  },
  {
   "cell_type": "code",
   "execution_count": null,
   "metadata": {},
   "outputs": [
    {
     "name": "stdout",
     "output_type": "stream",
     "text": [
      "Best estimator: {'n_estimators': 48}\n",
      "Best score: 0.67220\n"
     ]
    }
   ],
   "source": [
    "print(\"Best estimator: {}\".format(rf_grid_searcher.best_params_))\n",
    "print(\"Best score: {:.5f}\".format(rf_grid_searcher.best_score_))"
   ]
  },
  {
   "cell_type": "markdown",
   "metadata": {},
   "source": [
    "**Task 2.3 [3 points] 2-D Grid Search**\n",
    "\n",
    "Now it's time to improve the models with a 2-D grid search. For each classifier we will look for an optimal **pair** of hyperparameters. However, going through the whole grid may be computationally expensive, so here are some ways to speed it up:\n",
    "\n",
    "1. Make sparse grids with fewer number of parameters\n",
    "2. Choose random subsample from grid points and look for the optimum there\n",
    "3. Reduce number of folds in cross-validation\n",
    "4. Make a greedy grid search (use two grid-searchers sequentially)\n",
    "\n",
    "You have 4 models, 4 methods how to make grid search faster, choose one method per model and try it out.\n",
    "Report whether you got boost in quality.\n",
    "\n",
    "Here are default 2-D grids:\n",
    "- kNN:\n",
    "    - n_neighbors from 1 to 50\n",
    "    - metric: `euclidean`, `manhattan` or `chebyshev`\n",
    "    \n",
    "- linear\n",
    "    - penalty `l1`, `l2`, `elasticnet`, `none`\n",
    "    - C from 0.001 to 1000\n",
    "    \n",
    "- dtree:\n",
    "    - max_depth from 1 to 50\n",
    "    - criterion `gini` or `entropy`\n",
    "\n",
    "- rf\n",
    "    - n_estimators from 1 to 200\n",
    "    - max_features from 1 to 30"
   ]
  },
  {
   "cell_type": "markdown",
   "metadata": {},
   "source": [
    "kNN Grid Search with sparse grid (n_neighbors from 1 to 50 with step 3)."
   ]
  },
  {
   "cell_type": "code",
   "execution_count": null,
   "metadata": {},
   "outputs": [
    {
     "data": {
      "text/plain": [
       "GridSearchCV(cv=5, estimator=KNeighborsClassifier(),\n",
       "             param_grid={'metric': ('euclidean', 'manhattan', 'chebyshev'),\n",
       "                         'n_neighbors': array([ 1,  4,  7, 10, 13, 16, 19, 22, 25, 28, 31, 34, 37, 40, 43, 46, 49])},\n",
       "             return_train_score=True)"
      ]
     },
     "execution_count": 247,
     "metadata": {},
     "output_type": "execute_result"
    }
   ],
   "source": [
    "knn_clf = KNeighborsClassifier()\n",
    "knn_grid = {\n",
    "    'n_neighbors': np.arange(1, 51, 3), 'metric': ('euclidean', 'manhattan', 'chebyshev')\n",
    "}\n",
    "\n",
    "knn_grid_searcher_2D = GridSearchCV(knn_clf, knn_grid, cv=5, return_train_score=True)\n",
    "knn_grid_searcher_2D.fit(X_train_selected, y_train)"
   ]
  },
  {
   "cell_type": "code",
   "execution_count": null,
   "metadata": {},
   "outputs": [
    {
     "name": "stdout",
     "output_type": "stream",
     "text": [
      "Best estimator: KNeighborsClassifier(metric='manhattan', n_neighbors=22)\n",
      "Best score: 0.61650\n"
     ]
    }
   ],
   "source": [
    "print(\"Best estimator: {}\".format(knn_grid_searcher_2D.best_estimator_))\n",
    "print(\"Best score: {:.5f}\".format(knn_grid_searcher_2D.best_score_))"
   ]
  },
  {
   "cell_type": "markdown",
   "metadata": {},
   "source": [
    "Logistic regression Grid Search with random subsample from grid points"
   ]
  },
  {
   "cell_type": "code",
   "execution_count": null,
   "metadata": {},
   "outputs": [],
   "source": [
    "from sklearn.model_selection import RandomizedSearchCV"
   ]
  },
  {
   "cell_type": "code",
   "execution_count": null,
   "metadata": {},
   "outputs": [
    {
     "data": {
      "text/plain": [
       "RandomizedSearchCV(cv=5,\n",
       "                   estimator=LogisticRegression(random_state=42, solver='saga'),\n",
       "                   n_iter=100,\n",
       "                   param_distributions=[{'C': array([1.00000000e-01, 1.20679264e-01, 1.45634848e-01, 1.75751062e-01,\n",
       "       2.12095089e-01, 2.55954792e-01, 3.08884360e-01, 3.72759372e-01,\n",
       "       4.49843267e-01, 5.42867544e-01, 6.55128557e-01, 7.90604321e-01,\n",
       "       9.54095476e-01, 1.15139540e+00, 1.38949549e+...\n",
       "       4.09491506e+01, 4.94171336e+01, 5.96362332e+01, 7.19685673e+01,\n",
       "       8.68511374e+01, 1.04811313e+02, 1.26485522e+02, 1.52641797e+02,\n",
       "       1.84206997e+02, 2.22299648e+02, 2.68269580e+02, 3.23745754e+02,\n",
       "       3.90693994e+02, 4.71486636e+02, 5.68986603e+02, 6.86648845e+02,\n",
       "       8.28642773e+02, 1.00000000e+03]),\n",
       "                                         'penalty': ['elasticnet'],\n",
       "                                         'solver': ['saga']}],\n",
       "                   random_state=42, return_train_score=True)"
      ]
     },
     "execution_count": 468,
     "metadata": {},
     "output_type": "execute_result"
    }
   ],
   "source": [
    "simplefilter(\"ignore\", category=(ConvergenceWarning, UserWarning, FitFailedWarning))\n",
    "\n",
    "lr_clf = LogisticRegression(solver='saga', random_state=RANDOM_SEED)\n",
    "lr_grid = [\n",
    "    {'penalty': ['l1'], 'solver': ['liblinear'], 'C': np.logspace(-1, 3)},\n",
    "    {'penalty': ['l2', 'none'], 'solver': ['lbfgs'], 'C': np.logspace(-1, 3)},\n",
    "    {'penalty': ['elasticnet'], 'solver': ['saga'], 'C': np.logspace(-1, 3)}\n",
    "]\n",
    "\n",
    "lr_grid_searcher_2D = RandomizedSearchCV(lr_clf, lr_grid, cv=5, return_train_score=True, n_iter = 100, random_state=RANDOM_SEED)\n",
    "lr_grid_searcher_2D.fit(X_train, y_train)"
   ]
  },
  {
   "cell_type": "code",
   "execution_count": null,
   "metadata": {},
   "outputs": [
    {
     "name": "stdout",
     "output_type": "stream",
     "text": [
      "Best estimator: {'solver': 'lbfgs', 'penalty': 'l2', 'C': 0.1757510624854792}\n",
      "Best score: 0.57885\n"
     ]
    }
   ],
   "source": [
    "print(\"Best estimator: {}\".format(lr_grid_searcher_2D.best_params_))\n",
    "print(\"Best score: {:.5f}\".format(lr_grid_searcher_2D.best_score_))"
   ]
  },
  {
   "cell_type": "markdown",
   "metadata": {},
   "source": [
    "Decision tree Grid Search with 3 folds (reduced number of folds)."
   ]
  },
  {
   "cell_type": "code",
   "execution_count": null,
   "metadata": {},
   "outputs": [
    {
     "data": {
      "text/plain": [
       "GridSearchCV(cv=3, estimator=DecisionTreeClassifier(random_state=42),\n",
       "             param_grid={'criterion': ('gini', 'entropy'),\n",
       "                         'max_depth': array([ 1,  2,  3,  4,  5,  6,  7,  8,  9, 10, 11, 12, 13, 14, 15, 16, 17,\n",
       "       18, 19, 20, 21, 22, 23, 24, 25, 26, 27, 28, 29, 30, 31, 32, 33, 34,\n",
       "       35, 36, 37, 38, 39, 40, 41, 42, 43, 44, 45, 46, 47, 48, 49])},\n",
       "             return_train_score=True)"
      ]
     },
     "execution_count": 252,
     "metadata": {},
     "output_type": "execute_result"
    }
   ],
   "source": [
    "dt_clf = DecisionTreeClassifier(random_state=RANDOM_SEED)\n",
    "dt_grid = {\n",
    "    'max_depth': np.arange(1, 50), 'criterion': ('gini', 'entropy')\n",
    "}\n",
    "dt_grid_searcher_2D = GridSearchCV(dt_clf, dt_grid, cv=3, return_train_score=True)\n",
    "dt_grid_searcher_2D.fit(X_train, y_train)"
   ]
  },
  {
   "cell_type": "code",
   "execution_count": null,
   "metadata": {},
   "outputs": [
    {
     "name": "stdout",
     "output_type": "stream",
     "text": [
      "Best estimator: {'criterion': 'gini', 'max_depth': 6}\n",
      "Best score: 0.65265\n"
     ]
    }
   ],
   "source": [
    "print(\"Best estimator: {}\".format(dt_grid_searcher_2D.best_params_))\n",
    "print(\"Best score: {:.5f}\".format(dt_grid_searcher_2D.best_score_))"
   ]
  },
  {
   "cell_type": "markdown",
   "metadata": {},
   "source": [
    "Random Forest with Greedy Grid search (two grid search sequentially)"
   ]
  },
  {
   "cell_type": "code",
   "execution_count": null,
   "metadata": {},
   "outputs": [
    {
     "data": {
      "text/plain": [
       "GridSearchCV(cv=5,\n",
       "             estimator=RandomForestClassifier(n_estimators=159,\n",
       "                                              random_state=42),\n",
       "             param_grid={'max_features': array([ 1,  2,  3,  4,  5,  6,  7,  8,  9, 10, 11, 12, 13, 14, 15, 16, 17,\n",
       "       18, 19, 20, 21, 22, 23, 24, 25, 26, 27, 28, 29, 30])},\n",
       "             return_train_score=True)"
      ]
     },
     "execution_count": 255,
     "metadata": {},
     "output_type": "execute_result"
    }
   ],
   "source": [
    "rf_clf = RandomForestClassifier(random_state=RANDOM_SEED)\n",
    "rf_grid_1 = {\n",
    "    'n_estimators': np.arange(1, 201)\n",
    "}\n",
    "rf_grid_searcher_2D_1 = GridSearchCV(rf_clf, rf_grid_1, cv=5, return_train_score=True)\n",
    "rf_grid_searcher_2D_1.fit(X_train, y_train)\n",
    "\n",
    "rf_clf_2 = rf_grid_searcher_2D_1.best_estimator_\n",
    "rf_grid_2 = {\n",
    "    'max_features': np.arange(1, 31)\n",
    "}\n",
    "rf_grid_searcher_2D_2 = GridSearchCV(rf_clf_2, rf_grid_2, cv=5, return_train_score=True)\n",
    "rf_grid_searcher_2D_2.fit(X_train, y_train)"
   ]
  },
  {
   "cell_type": "code",
   "execution_count": null,
   "metadata": {},
   "outputs": [
    {
     "name": "stdout",
     "output_type": "stream",
     "text": [
      "Best estimator: RandomForestClassifier(max_features=22, n_estimators=159, random_state=42)\n",
      "Best score: 0.68800\n"
     ]
    }
   ],
   "source": [
    "print(\"Best estimator: {}\".format(rf_grid_searcher_2D_2.best_estimator_))\n",
    "print(\"Best score: {:.5f}\".format(rf_grid_searcher_2D_2.best_score_))"
   ]
  },
  {
   "cell_type": "markdown",
   "metadata": {},
   "source": [
    "**REPORT:** \n",
    "- kNN: Boost 0.59795 -> 0.61650\n",
    "- Logistic Regression: Boost 0.57865 -> 0.57885\n",
    "- Decision Tree: Decline 0.65330 -> 0.65265\n",
    "- Random Forest: Boost 0.67220 -> 0.68800"
   ]
  },
  {
   "cell_type": "markdown",
   "metadata": {},
   "source": [
    "**Task 2.4 [1 point] Categorical features**\n",
    "\n",
    "Add categorical features and examine how the influence performance of each model. Preprocess the data before applying a model: we need to encode categorical features with one-hot encoding (`get_dummies` from `pandas` or `OneHotEncoder` from `sklearn`).\n",
    "\n",
    "Don't forget to repeat the train-test-val splits."
   ]
  },
  {
   "cell_type": "code",
   "execution_count": null,
   "metadata": {},
   "outputs": [],
   "source": [
    "objects_with_dummies = pd.get_dummies(objects)\n",
    "\n",
    "X = objects_with_dummies\n",
    "y = labels\n",
    "\n",
    "assert X.shape == (35000, 69) and  y.shape == (35000,)"
   ]
  },
  {
   "cell_type": "markdown",
   "metadata": {},
   "source": [
    "What was your best model before adding categorical features?\n",
    "\n",
    "**Answer:** My best model before adding categorical featrues was Random Forest with max_features=22, n_estimators=159.\n",
    "\n",
    "Use GridSearch + 5-fold CV on **train set** to define your new best model."
   ]
  },
  {
   "cell_type": "code",
   "execution_count": null,
   "metadata": {},
   "outputs": [],
   "source": [
    "X_train, X_not_train, y_train, y_not_train = train_test_split(X, y, test_size=3/7, \n",
    "                                                    shuffle=True, stratify=y,\n",
    "                                                    random_state=RANDOM_SEED)\n",
    "\n",
    "X_test, X_val, y_test, y_val = train_test_split(X_not_train, y_not_train, test_size=1/3, \n",
    "                                                    shuffle=True, stratify=y_not_train,\n",
    "                                                    random_state=RANDOM_SEED)\n",
    "\n",
    "assert X_train.shape[0] == 20000 and X_test.shape[0] == 10000 and X_val.shape[0] == 5000"
   ]
  },
  {
   "cell_type": "code",
   "execution_count": null,
   "metadata": {},
   "outputs": [],
   "source": [
    "rf = RandomForestRegressor()\n",
    "rf.fit(X_train, y_train)\n",
    "forest_coefs = rf.feature_importances_\n",
    "important_feature_idx = np.argsort(np.abs(forest_coefs))[-10:]\n",
    "\n",
    "X_train_selected = X_train.iloc[:, important_feature_idx]\n",
    "X_test_selected = X_test.iloc[:, important_feature_idx]\n",
    "X_val_selected = X_val.iloc[:, important_feature_idx]"
   ]
  },
  {
   "cell_type": "code",
   "execution_count": null,
   "metadata": {},
   "outputs": [
    {
     "data": {
      "text/plain": [
       "GridSearchCV(cv=5, estimator=KNeighborsClassifier(),\n",
       "             param_grid={'metric': ('euclidean', 'manhattan', 'chebyshev'),\n",
       "                         'n_neighbors': array([ 1,  4,  7, 10, 13, 16, 19, 22, 25, 28, 31, 34, 37, 40, 43, 46, 49])},\n",
       "             return_train_score=True)"
      ]
     },
     "execution_count": 260,
     "metadata": {},
     "output_type": "execute_result"
    }
   ],
   "source": [
    "knn_clf = KNeighborsClassifier()\n",
    "knn_grid = {\n",
    "    'n_neighbors': np.arange(1, 51, 3), 'metric': ('euclidean', 'manhattan', 'chebyshev')\n",
    "}\n",
    "\n",
    "knn_grid_searcher_dummy = GridSearchCV(knn_clf, knn_grid, cv=5, return_train_score=True)\n",
    "knn_grid_searcher_dummy.fit(X_train_selected, y_train)"
   ]
  },
  {
   "cell_type": "code",
   "execution_count": null,
   "metadata": {},
   "outputs": [
    {
     "name": "stdout",
     "output_type": "stream",
     "text": [
      "Best estimator: {'metric': 'euclidean', 'n_neighbors': 49}\n",
      "Best score: 0.56140\n"
     ]
    }
   ],
   "source": [
    "print(\"Best estimator: {}\".format(knn_grid_searcher_dummy.best_params_))\n",
    "print(\"Best score: {:.5f}\".format(knn_grid_searcher_dummy.best_score_))"
   ]
  },
  {
   "cell_type": "code",
   "execution_count": null,
   "metadata": {},
   "outputs": [
    {
     "data": {
      "text/plain": [
       "RandomizedSearchCV(cv=5,\n",
       "                   estimator=LogisticRegression(random_state=42, solver='saga'),\n",
       "                   n_iter=100,\n",
       "                   param_distributions=[{'C': array([1.00000000e-01, 1.20679264e-01, 1.45634848e-01, 1.75751062e-01,\n",
       "       2.12095089e-01, 2.55954792e-01, 3.08884360e-01, 3.72759372e-01,\n",
       "       4.49843267e-01, 5.42867544e-01, 6.55128557e-01, 7.90604321e-01,\n",
       "       9.54095476e-01, 1.15139540e+00, 1.38949549e+...\n",
       "       4.09491506e+01, 4.94171336e+01, 5.96362332e+01, 7.19685673e+01,\n",
       "       8.68511374e+01, 1.04811313e+02, 1.26485522e+02, 1.52641797e+02,\n",
       "       1.84206997e+02, 2.22299648e+02, 2.68269580e+02, 3.23745754e+02,\n",
       "       3.90693994e+02, 4.71486636e+02, 5.68986603e+02, 6.86648845e+02,\n",
       "       8.28642773e+02, 1.00000000e+03]),\n",
       "                                         'penalty': ['elasticnet'],\n",
       "                                         'solver': ['saga']}],\n",
       "                   random_state=42, return_train_score=True)"
      ]
     },
     "execution_count": 474,
     "metadata": {},
     "output_type": "execute_result"
    }
   ],
   "source": [
    "simplefilter(\"ignore\", category=(ConvergenceWarning, UserWarning, FitFailedWarning, FitFailedWarning))\n",
    "\n",
    "lr_clf = LogisticRegression(solver='saga', random_state=RANDOM_SEED)\n",
    "lr_grid = [{'penalty': ['l1'], 'solver': ['liblinear'], 'C': np.logspace(-1, 3)},\n",
    "    {'penalty': ['l2', 'none'], 'solver': ['lbfgs'], 'C': np.logspace(-1, 3)},\n",
    "    {'penalty': ['elasticnet'], 'solver': ['saga'], 'C': np.logspace(-1, 3)}\n",
    "]\n",
    "\n",
    "lr_grid_searcher_dummy = RandomizedSearchCV(lr_clf, lr_grid, cv=5, return_train_score=True, n_iter = 100, random_state=RANDOM_SEED)\n",
    "lr_grid_searcher_dummy.fit(X_train, y_train)"
   ]
  },
  {
   "cell_type": "code",
   "execution_count": null,
   "metadata": {},
   "outputs": [
    {
     "name": "stdout",
     "output_type": "stream",
     "text": [
      "Best estimator: {'solver': 'liblinear', 'penalty': 'l1', 'C': 0.7906043210907697}\n",
      "Best score: 0.59045\n"
     ]
    }
   ],
   "source": [
    "print(\"Best estimator: {}\".format(lr_grid_searcher_dummy.best_params_))\n",
    "print(\"Best score: {:.5f}\".format(lr_grid_searcher_dummy.best_score_))"
   ]
  },
  {
   "cell_type": "code",
   "execution_count": null,
   "metadata": {},
   "outputs": [
    {
     "data": {
      "text/plain": [
       "GridSearchCV(cv=3, estimator=DecisionTreeClassifier(random_state=42),\n",
       "             param_grid={'criterion': ('gini', 'entropy'),\n",
       "                         'max_depth': array([ 1,  2,  3,  4,  5,  6,  7,  8,  9, 10, 11, 12, 13, 14, 15, 16, 17,\n",
       "       18, 19, 20, 21, 22, 23, 24, 25, 26, 27, 28, 29, 30, 31, 32, 33, 34,\n",
       "       35, 36, 37, 38, 39, 40, 41, 42, 43, 44, 45, 46, 47, 48, 49])},\n",
       "             return_train_score=True)"
      ]
     },
     "execution_count": 264,
     "metadata": {},
     "output_type": "execute_result"
    }
   ],
   "source": [
    "dt_clf = DecisionTreeClassifier(random_state=RANDOM_SEED)\n",
    "dt_grid = {\n",
    "    'max_depth': np.arange(1, 50), 'criterion': ('gini', 'entropy')\n",
    "}\n",
    "dt_grid_searcher_dummy = GridSearchCV(dt_clf, dt_grid, cv=3, return_train_score=True)\n",
    "dt_grid_searcher_dummy.fit(X_train, y_train)"
   ]
  },
  {
   "cell_type": "code",
   "execution_count": null,
   "metadata": {},
   "outputs": [
    {
     "name": "stdout",
     "output_type": "stream",
     "text": [
      "Best estimator: {'criterion': 'entropy', 'max_depth': 8}\n",
      "Best score: 0.65485\n"
     ]
    }
   ],
   "source": [
    "print(\"Best estimator: {}\".format(dt_grid_searcher_dummy.best_params_))\n",
    "print(\"Best score: {:.5f}\".format(dt_grid_searcher_dummy.best_score_))"
   ]
  },
  {
   "cell_type": "code",
   "execution_count": null,
   "metadata": {},
   "outputs": [
    {
     "data": {
      "text/plain": [
       "GridSearchCV(cv=5,\n",
       "             estimator=RandomForestClassifier(n_estimators=197,\n",
       "                                              random_state=42),\n",
       "             param_grid={'max_features': array([ 1,  2,  3,  4,  5,  6,  7,  8,  9, 10, 11, 12, 13, 14, 15, 16, 17,\n",
       "       18, 19, 20, 21, 22, 23, 24, 25, 26, 27, 28, 29, 30])},\n",
       "             return_train_score=True)"
      ]
     },
     "execution_count": 267,
     "metadata": {},
     "output_type": "execute_result"
    }
   ],
   "source": [
    "rf_clf = RandomForestClassifier(random_state=RANDOM_SEED)\n",
    "rf_grid_1 = {\n",
    "    'n_estimators': np.arange(1, 201)\n",
    "}\n",
    "rf_grid_searcher_dummy_1 = GridSearchCV(rf_clf, rf_grid_1, cv=5, return_train_score=True)\n",
    "rf_grid_searcher_dummy_1.fit(X_train, y_train)\n",
    "\n",
    "rf_clf_2 = rf_grid_searcher_dummy_1.best_estimator_\n",
    "rf_grid_2 = {\n",
    "    'max_features': np.arange(1, 31)\n",
    "}\n",
    "rf_grid_searcher_dummy_2 = GridSearchCV(rf_clf_2, rf_grid_2, cv=5, return_train_score=True)\n",
    "rf_grid_searcher_dummy_2.fit(X_train, y_train)"
   ]
  },
  {
   "cell_type": "code",
   "execution_count": null,
   "metadata": {},
   "outputs": [
    {
     "name": "stdout",
     "output_type": "stream",
     "text": [
      "Best estimator: RandomForestClassifier(max_features=28, n_estimators=197, random_state=42)\n",
      "Best score: 0.68935\n"
     ]
    }
   ],
   "source": [
    "print(\"Best estimator: {}\".format(rf_grid_searcher_dummy_2.best_estimator_))\n",
    "print(\"Best score: {:.5f}\".format(rf_grid_searcher_dummy_2.best_score_))"
   ]
  },
  {
   "cell_type": "markdown",
   "metadata": {},
   "source": [
    "Performance of which model increased the most? Why?\n",
    "\n",
    "**Your answer here**:\n",
    "- kNN: Decline 0.61650 -> 0.56140\n",
    "- Logistic Regression: Decline 0.57855 -> 0.59045\n",
    "- Decision Tree: Boost 0.65265 -> 0.65485\n",
    "- Random Forest: Boost 0.68800 -> 0.68935\n",
    "\n",
    "We can see that performance has boosted on three models - Decision Tree, Random Forest and Logistic Regression and has declined on kNN. I think the main reason is that One Hot Encoding augments the dimension and it's very critical for distance-based algorithms (as kNN) because of the curse of dimensionality. Tree algorithms also suffer from the curse of dimensionality and for this reason, we can see that the performance of a decision tree improved insignificantly, while random forest boosted more because it takes only a random subset of features to build a decision tree each time -> dimension is limited for a tree. Logistic regression boosted a lot because of L1-regularization which can take away features and reduce dimension in such way."
   ]
  },
  {
   "cell_type": "markdown",
   "metadata": {},
   "source": [
    "**Task 2.5 [2 point] Blending**\n",
    "\n",
    "Since you have already trained and tuned a lot of models, it might be useful to **blend** two best classifiers to get one even better.\n",
    "\n",
    "Pick two best models, say, `clf_a` and `clf_b`, train them on the `train_set`.\n",
    "\n",
    "Then use `Voting classifier` to build \n",
    "$$\n",
    "clf_c(\\alpha) = \\alpha \\cdot clf_a + (1 - \\alpha) \\cdot clf_b\n",
    "$$\n",
    "You will have to tune $\\alpha$ using grid search on `test_set` and then make final quality assessment on `val_set`."
   ]
  },
  {
   "cell_type": "markdown",
   "metadata": {},
   "source": [
    "Two my best models are Random Forest and Decision Tree, let's blend it (althought blending a forest and a tree is quite weird, because forest is a composition of decision trees?)"
   ]
  },
  {
   "cell_type": "code",
   "execution_count": null,
   "metadata": {},
   "outputs": [
    {
     "data": {
      "text/plain": [
       "RandomizedSearchCV(cv=5,\n",
       "                   estimator=VotingClassifier(estimators=[('rf',\n",
       "                                                           RandomForestClassifier(max_features=28,\n",
       "                                                                                  n_estimators=197,\n",
       "                                                                                  random_state=42)),\n",
       "                                                          ('dt',\n",
       "                                                           DecisionTreeClassifier(criterion='entropy',\n",
       "                                                                                  max_depth=8,\n",
       "                                                                                  random_state=42))],\n",
       "                                              voting='soft'),\n",
       "                   n_iter=75,\n",
       "                   param_distributions={'weights': [(0.01, 0.99),\n",
       "                                                    (0.0198989898989899,\n",
       "                                                     0.9801010101010101),\n",
       "                                                    (0.029797979797979...\n",
       "                                                    (0.22777777777777777,\n",
       "                                                     0.7722222222222223),\n",
       "                                                    (0.23767676767676768,\n",
       "                                                     0.7623232323232323),\n",
       "                                                    (0.24757575757575756,\n",
       "                                                     0.7524242424242424),\n",
       "                                                    (0.25747474747474747,\n",
       "                                                     0.7425252525252526),\n",
       "                                                    (0.2673737373737374,\n",
       "                                                     0.7326262626262626),\n",
       "                                                    (0.2772727272727273,\n",
       "                                                     0.7227272727272727),\n",
       "                                                    (0.2871717171717172,\n",
       "                                                     0.7128282828282828),\n",
       "                                                    (0.29707070707070704,\n",
       "                                                     0.702929292929293), ...]},\n",
       "                   random_state=42, return_train_score=True)"
      ]
     },
     "execution_count": 318,
     "metadata": {},
     "output_type": "execute_result"
    }
   ],
   "source": [
    "from sklearn.ensemble import VotingClassifier\n",
    "\n",
    "blended_cls = VotingClassifier(estimators=[('rf', rf_grid_searcher_dummy_2.best_estimator_), ('dt', dt_grid_searcher_dummy.best_estimator_)], voting='soft')\n",
    "grid_blend = {\n",
    "    'weights': [x for x in zip(np.linspace(0.01, 0.99, 100), 1 - np.linspace(0.01, 0.99, 100))]\n",
    "}\n",
    "blended_grid_searcher = RandomizedSearchCV(blended_cls, grid_blend, cv=5, return_train_score=True, n_iter=75, random_state=RANDOM_SEED)\n",
    "blended_grid_searcher.fit(X_test, y_test)"
   ]
  },
  {
   "cell_type": "code",
   "execution_count": null,
   "metadata": {},
   "outputs": [
    {
     "data": {
      "text/plain": [
       "VotingClassifier(estimators=[('rf',\n",
       "                              RandomForestClassifier(max_features=28,\n",
       "                                                     n_estimators=197,\n",
       "                                                     random_state=42)),\n",
       "                             ('dt',\n",
       "                              DecisionTreeClassifier(criterion='entropy',\n",
       "                                                     max_depth=8,\n",
       "                                                     random_state=42))],\n",
       "                 voting='soft',\n",
       "                 weights=(0.9306060606060605, 0.06939393939393945))"
      ]
     },
     "execution_count": 319,
     "metadata": {},
     "output_type": "execute_result"
    }
   ],
   "source": [
    "best_blended_est = blended_grid_searcher.best_estimator_\n",
    "best_blended_est.fit(X_test, y_test)"
   ]
  },
  {
   "cell_type": "code",
   "execution_count": null,
   "metadata": {},
   "outputs": [
    {
     "name": "stdout",
     "output_type": "stream",
     "text": [
      "Blended model val score: 0.6816\n"
     ]
    }
   ],
   "source": [
    "print('Blended model val score: {}'.format(accuracy_score(y_val, best_blended_est.predict(X_val))))"
   ]
  },
  {
   "cell_type": "code",
   "execution_count": null,
   "metadata": {},
   "outputs": [
    {
     "name": "stdout",
     "output_type": "stream",
     "text": [
      "Random Forest val score: 0.6978, Decision Tree val score: 0.6544\n"
     ]
    }
   ],
   "source": [
    "rf_best = rf_grid_searcher_dummy_2.best_estimator_\n",
    "rf_best.fit(X_train, y_train)\n",
    "rf_val_score = accuracy_score(y_val, rf_best.predict(X_val))\n",
    "\n",
    "dt_best = dt_grid_searcher_dummy.best_estimator_\n",
    "dt_best.fit(X_train, y_train)\n",
    "dt_val_score = accuracy_score(y_val, dt_best.predict(X_val))\n",
    "\n",
    "print('Random Forest val score: {}, Decision Tree val score: {}'.format(rf_val_score, dt_val_score))"
   ]
  },
  {
   "cell_type": "markdown",
   "metadata": {},
   "source": [
    "What was the best pair of models to blend? Did blending help to increase quality of each classifier?\n",
    "**Your answer here**:"
   ]
  },
  {
   "cell_type": "markdown",
   "metadata": {},
   "source": [
    "Best pair of models is Random Forest(max_features=28, n_estimators=197) and Decision Tree (criterion='entropy', max_depth=8) with weights 0.93 and 0.07 and 'soft' voting. This model shows 0.6816 accuracy score on a validation set. Random forest shows 0.6978 validation accuracy and decision tree shows 0.6544, therefore blending helps to increase the quality of decision tree, but not the random forest."
   ]
  }
 ],
 "metadata": {
  "interpreter": {
   "hash": "29dfd458196deedd02a7479cd29c2faaa19779d8bdac9cc64d9a2fbdd6dc2d56"
  },
  "kernelspec": {
   "display_name": "Python 3.8.2 64-bit ('.virtualenvs': virtualenv)",
   "name": "python3"
  },
  "language_info": {
   "codemirror_mode": {
    "name": "ipython",
    "version": 3
   },
   "file_extension": ".py",
   "mimetype": "text/x-python",
   "name": "python",
   "nbconvert_exporter": "python",
   "pygments_lexer": "ipython3",
   "version": "3.8.2"
  }
 },
 "nbformat": 4,
 "nbformat_minor": 4
}
