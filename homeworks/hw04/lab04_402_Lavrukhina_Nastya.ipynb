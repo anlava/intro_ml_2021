{
 "cells": [
  {
   "cell_type": "markdown",
   "metadata": {},
   "source": [
    "# Lab 04. Text Classification\n",
    "\n",
    "\n",
    "This lab is devoted to text classification tasks.\n",
    "- **Part 1 [8 points]** is about very common NLP problem - sentiment analysis.\n",
    "- **Part 2 [7 points]** include tasks on POS tagging and WordEmbeddings.\n",
    "\n",
    "\n",
    "#### Evaluation\n",
    "\n",
    "Each task has its value, **15 points** in total. If you use some open-source code please make sure to include the url.\n",
    "\n",
    "#### How to submit\n",
    "\n",
    "- Name your file according to this convention: `lab04_GroupNo_Surname_Name.ipynb`. If you don't have group number, put `nan` instead.\n",
    "- Attach it to an **email** with **topic** `lab04_GroupNo_Surname_Name.ipynb`\n",
    "- Send it to `cosmic.research.ml@yandex.ru`\n",
    "\n",
    "\n",
    "Data can be dowloaded from: https://disk.yandex.ru/d/ixeu6m2KBG80ig\n",
    "\n",
    "The deadline is **2021-11-17 23:00:00 +03:00**"
   ]
  },
  {
   "cell_type": "markdown",
   "metadata": {},
   "source": [
    "## Part 1. Bag of Words vs. Bag of Popcorn [8 points]"
   ]
  },
  {
   "cell_type": "markdown",
   "metadata": {},
   "source": [
    "This task is based on [Bag of Words Meets Bags of Popcorn](https://www.kaggle.com/c/word2vec-nlp-tutorial/data) competition. The goal is to label film reviews as positive or negative. \n",
    "\n",
    "Reviews may look like this:\n",
    "\n",
    "```\n",
    "I dont know why people think this is such a bad movie. Its got a pretty good plot, some good action, and the change of location for Harry does not hurt either. Sure some of its offensive and gratuitous but this is not the only movie like that. Eastwood is in good form as Dirty Harry, and I liked Pat Hingle in this movie as the small town cop. If you liked DIRTY HARRY, then you should see this one, its a lot better than THE DEAD POOL. 4/5\n",
    "```"
   ]
  },
  {
   "cell_type": "code",
   "execution_count": 2,
   "metadata": {},
   "outputs": [],
   "source": [
    "import pandas as pd\n",
    "import numpy as np\n",
    "import matplotlib.pyplot as plt\n",
    "import nltk"
   ]
  },
  {
   "cell_type": "code",
   "execution_count": 3,
   "metadata": {},
   "outputs": [
    {
     "data": {
      "text/html": [
       "<div>\n",
       "<style scoped>\n",
       "    .dataframe tbody tr th:only-of-type {\n",
       "        vertical-align: middle;\n",
       "    }\n",
       "\n",
       "    .dataframe tbody tr th {\n",
       "        vertical-align: top;\n",
       "    }\n",
       "\n",
       "    .dataframe thead th {\n",
       "        text-align: right;\n",
       "    }\n",
       "</style>\n",
       "<table border=\"1\" class=\"dataframe\">\n",
       "  <thead>\n",
       "    <tr style=\"text-align: right;\">\n",
       "      <th></th>\n",
       "      <th>id</th>\n",
       "      <th>sentiment</th>\n",
       "      <th>review</th>\n",
       "    </tr>\n",
       "  </thead>\n",
       "  <tbody>\n",
       "    <tr>\n",
       "      <th>0</th>\n",
       "      <td>5814_8</td>\n",
       "      <td>1</td>\n",
       "      <td>With all this stuff going down at the moment w...</td>\n",
       "    </tr>\n",
       "    <tr>\n",
       "      <th>1</th>\n",
       "      <td>2381_9</td>\n",
       "      <td>1</td>\n",
       "      <td>\\The Classic War of the Worlds\\\" by Timothy Hi...</td>\n",
       "    </tr>\n",
       "    <tr>\n",
       "      <th>2</th>\n",
       "      <td>7759_3</td>\n",
       "      <td>0</td>\n",
       "      <td>The film starts with a manager (Nicholas Bell)...</td>\n",
       "    </tr>\n",
       "  </tbody>\n",
       "</table>\n",
       "</div>"
      ],
      "text/plain": [
       "       id  sentiment                                             review\n",
       "0  5814_8          1  With all this stuff going down at the moment w...\n",
       "1  2381_9          1  \\The Classic War of the Worlds\\\" by Timothy Hi...\n",
       "2  7759_3          0  The film starts with a manager (Nicholas Bell)..."
      ]
     },
     "execution_count": 3,
     "metadata": {},
     "output_type": "execute_result"
    }
   ],
   "source": [
    "reviews = pd.read_csv(\"reviews.tsv\", sep=\"\\t\")\n",
    "reviews.head(3)"
   ]
  },
  {
   "cell_type": "code",
   "execution_count": 4,
   "metadata": {},
   "outputs": [],
   "source": [
    "X = reviews[\"review\"]\n",
    "y = reviews[\"sentiment\"]"
   ]
  },
  {
   "cell_type": "code",
   "execution_count": 5,
   "metadata": {},
   "outputs": [],
   "source": [
    "from sklearn.model_selection import train_test_split"
   ]
  },
  {
   "cell_type": "code",
   "execution_count": 6,
   "metadata": {},
   "outputs": [],
   "source": [
    "X_train, X_test, y_train, y_test = train_test_split(X, y, test_size=5000, random_state=42, stratify=y)"
   ]
  },
  {
   "cell_type": "markdown",
   "metadata": {},
   "source": [
    "### Time to extract features\n",
    "\n",
    "In this part of the assignment we will apply several methods of feature extraction and comapre them."
   ]
  },
  {
   "cell_type": "markdown",
   "metadata": {},
   "source": [
    "**Task 1.1 [0.5 point] - Simple BOW** \n",
    "\n",
    "In this task we will build a simple bow representation - without any preprocessing. \n",
    "\n",
    "For this purpose we will use [*CountVectorizer*](https://scikit-learn.org/stable/modules/generated/sklearn.feature_extraction.text.CountVectorizer.html#sklearn.feature_extraction.text.CountVectorizer) - a method that transforms text dataset into a [sparse matrix](https://docs.scipy.org/doc/scipy/reference/sparse.html)."
   ]
  },
  {
   "cell_type": "markdown",
   "metadata": {},
   "source": [
    "Import CountVectorizer:"
   ]
  },
  {
   "cell_type": "code",
   "execution_count": 7,
   "metadata": {},
   "outputs": [],
   "source": [
    "from sklearn.feature_extraction.text import CountVectorizer"
   ]
  },
  {
   "cell_type": "markdown",
   "metadata": {},
   "source": [
    "Now try each of these approaches:\n",
    "- fit vectorizer on X_train, apply to X_train, X_test\n",
    "- fit vectorizer on X_train, apply to X_train; fit on X_test, apply to X_test\n",
    "- fit vectorizer on X, apply to X_train, X_test\n",
    "\n",
    "Report output matrix sizes in each case. \n",
    "- What is the difference? \n",
    "- Which of these approaches is the most fair and correct?\n",
    "\n",
    "Use the most fair and correct one to get `X_train_0` and `X_test_0` - they will be needed for further tasks."
   ]
  },
  {
   "cell_type": "code",
   "execution_count": 8,
   "metadata": {},
   "outputs": [
    {
     "name": "stdout",
     "output_type": "stream",
     "text": [
      "(20000, 68482) (5000, 68482)\n"
     ]
    }
   ],
   "source": [
    "count_vectorizer = CountVectorizer()\n",
    "\n",
    "count_vectorizer.fit(X_train)\n",
    "X_train_0 = count_vectorizer.transform(X_train)\n",
    "X_test_0 = count_vectorizer.transform(X_test)\n",
    "\n",
    "print(X_train_0.shape, X_test_0.shape)"
   ]
  },
  {
   "cell_type": "code",
   "execution_count": 9,
   "metadata": {},
   "outputs": [
    {
     "name": "stdout",
     "output_type": "stream",
     "text": [
      "(20000, 68482) (5000, 38591)\n"
     ]
    }
   ],
   "source": [
    "count_vectorizer = CountVectorizer()\n",
    "\n",
    "count_vectorizer.fit(X_train)\n",
    "X_train_0 = count_vectorizer.transform(X_train)\n",
    "count_vectorizer.fit(X_test)\n",
    "X_test_0 = count_vectorizer.transform(X_test)\n",
    "\n",
    "print(X_train_0.shape, X_test_0.shape)"
   ]
  },
  {
   "cell_type": "code",
   "execution_count": 10,
   "metadata": {},
   "outputs": [
    {
     "name": "stdout",
     "output_type": "stream",
     "text": [
      "(20000, 74849) (5000, 74849)\n"
     ]
    }
   ],
   "source": [
    "count_vectorizer = CountVectorizer()\n",
    "\n",
    "count_vectorizer.fit(X)\n",
    "X_train_0 = count_vectorizer.transform(X_train)\n",
    "X_test_0 = count_vectorizer.transform(X_test)\n",
    "\n",
    "print(X_train_0.shape, X_test_0.shape)"
   ]
  },
  {
   "cell_type": "markdown",
   "metadata": {},
   "source": [
    "**Answer:** The most fair and correct approach is the third - we should fit our CountVecrotizer() on all data X. If we train only on the train data set we won't take into account words from test which are not in train set, and if we train separetely X_train and X_test we'll have different feature spaces (but for Linear regression and Random forest we need to have equal sizes of feature spaces)."
   ]
  },
  {
   "cell_type": "markdown",
   "metadata": {},
   "source": [
    "**Task 1.2 [0.5 point] - S___se matrices**\n",
    "\n",
    "What is the data type of `X_train_0` and `X_test_0`? What are those?\n",
    "\n",
    "What differs them from usual np.arrays? Name several types how those special matrices are stored and what they are good for."
   ]
  },
  {
   "cell_type": "code",
   "execution_count": 11,
   "metadata": {},
   "outputs": [
    {
     "name": "stdout",
     "output_type": "stream",
     "text": [
      "<class 'scipy.sparse.csr.csr_matrix'> <class 'scipy.sparse.csr.csr_matrix'>\n"
     ]
    }
   ],
   "source": [
    "print(type(X_train_0), type(X_test_0))"
   ]
  },
  {
   "cell_type": "markdown",
   "metadata": {},
   "source": [
    "**Answer:** the type is a Compressed Sparse Row sparse matrix. A sparse matrix is a matrix that is comprised of mostly zero values. Types of storing (link to the information resource: https://rushter.com/blog/scipy-sparse-matrices/):\n",
    "- *Dictionary of keys (DOK)* Main idea to use a dictionary, where key represents indices. It's good for storing sparse data sets, but has slow arithmetics and slicing.\n",
    "- *List of list (LIL)* It uses two numpy arrays with regular Python lists inside them. The rows array stores information about occupied cells, whereas the data array stores corresponding values. It also has slow arithmetics and memory greedy.\n",
    "- *Compressed sparse row (CSR)* CSR is based on three numpy arrays: **data** is an array which contains all non-zero entries in the row-major order, **indptr** points to row starts (i.e., tells where each row begins), **indices** is array of column indices (i.e., tells us which cells have non-zero values). This type is good for fast arithmetics.\n",
    "\n"
   ]
  },
  {
   "cell_type": "markdown",
   "metadata": {},
   "source": [
    "**Task 1.3 [1 points] - Training**\n",
    "\n",
    "Train LogisticRegression and Random forest on this data representations.\n",
    "- Compare training time \n",
    "- Compare Accuracy, precision, recall \n",
    "- Plot ROC Curve and calculate ROC AUC (don't forget to predict_proba) \n",
    "- Plot Precision-Recall curve and calculate f1-score (for example, with `plt.subplots(nrows=1, ncols=2)`)\n",
    "- Print the trickiest missclassified objects. Why they were hard to classify? \n"
   ]
  },
  {
   "cell_type": "code",
   "execution_count": 12,
   "metadata": {},
   "outputs": [],
   "source": [
    "from sklearn.ensemble import RandomForestClassifier\n",
    "from sklearn.linear_model import LogisticRegression\n",
    "import time as tm"
   ]
  },
  {
   "cell_type": "code",
   "execution_count": 13,
   "metadata": {},
   "outputs": [],
   "source": [
    "from sklearn.metrics import accuracy_score, precision_score, recall_score\n",
    "from sklearn.metrics import f1_score, precision_recall_curve, roc_curve, roc_auc_score"
   ]
  },
  {
   "cell_type": "code",
   "execution_count": 14,
   "metadata": {},
   "outputs": [],
   "source": [
    "rf_model = RandomForestClassifier(n_estimators=500, n_jobs=4)\n",
    "lr_model = LogisticRegression(max_iter=1e5)"
   ]
  },
  {
   "cell_type": "code",
   "execution_count": 15,
   "metadata": {},
   "outputs": [
    {
     "name": "stdout",
     "output_type": "stream",
     "text": [
      "8.808287143707275\n"
     ]
    }
   ],
   "source": [
    "t = tm.time()\n",
    "lr_model.fit(X_train_0, y_train)\n",
    "lr_time = tm.time() - t\n",
    "\n",
    "print(lr_time)"
   ]
  },
  {
   "cell_type": "code",
   "execution_count": 16,
   "metadata": {},
   "outputs": [
    {
     "name": "stdout",
     "output_type": "stream",
     "text": [
      "52.24323892593384\n"
     ]
    }
   ],
   "source": [
    "t = tm.time()\n",
    "rf_model.fit(X_train_0, y_train)\n",
    "rf_time = tm.time() - t\n",
    "\n",
    "print(rf_time)"
   ]
  },
  {
   "cell_type": "code",
   "execution_count": 17,
   "metadata": {},
   "outputs": [
    {
     "name": "stdout",
     "output_type": "stream",
     "text": [
      "LR accuracy: 0.8818, precision: 0.89 and recall: 0.8756395120031484\n",
      "RF accuracy: 0.8598, precision: 0.8752 and recall: 0.8490492821109817\n"
     ]
    }
   ],
   "source": [
    "print(\"LR accuracy: {}, precision: {} and recall: {}\".format(accuracy_score(lr_model.predict(X_test_0), y_test), \n",
    "                                                             precision_score(lr_model.predict(X_test_0), y_test),\n",
    "                                                             recall_score(lr_model.predict(X_test_0), y_test)))\n",
    "\n",
    "print(\"RF accuracy: {}, precision: {} and recall: {}\".format(accuracy_score(rf_model.predict(X_test_0), y_test), \n",
    "                                                             precision_score(rf_model.predict(X_test_0), y_test),\n",
    "                                                             recall_score(rf_model.predict(X_test_0), y_test)))"
   ]
  },
  {
   "cell_type": "code",
   "execution_count": 18,
   "metadata": {},
   "outputs": [
    {
     "data": {
      "image/png": "[encoded data removed]",
      "text/plain": [
       "<Figure size 432x288 with 1 Axes>"
      ]
     },
     "metadata": {
      "needs_background": "light"
     },
     "output_type": "display_data"
    }
   ],
   "source": [
    "fpr_lr, tpr_lr, _ = roc_curve(y_test, lr_model.predict_proba(X_test_0)[:, 1])\n",
    "fpr_rf, tpr_rf, t_ = roc_curve(y_test, rf_model.predict_proba(X_test_0)[:, 1])\n",
    "\n",
    "plt.title('Receiver Operating Characteristic')\n",
    "plt.plot(fpr_lr, tpr_lr, 'b', label = 'lr')\n",
    "plt.plot(fpr_rf, tpr_rf, 'g', label = 'rf')\n",
    "plt.legend(loc = 'lower right')\n",
    "plt.plot([0, 1], [0, 1],'r--')\n",
    "plt.xlim([0, 1])\n",
    "plt.ylim([0, 1])\n",
    "plt.ylabel('True Positive Rate')\n",
    "plt.xlabel('False Positive Rate')\n",
    "plt.show()"
   ]
  },
  {
   "cell_type": "code",
   "execution_count": 19,
   "metadata": {},
   "outputs": [
    {
     "name": "stdout",
     "output_type": "stream",
     "text": [
      "ROC AUC score for Logistic Regression: 0.94512688\n",
      "ROC AUC score for Random Forest: 0.93558576\n"
     ]
    }
   ],
   "source": [
    "print(\"ROC AUC score for Logistic Regression: {}\".format(roc_auc_score(y_test, lr_model.predict_proba(X_test_0)[:, 1])))\n",
    "print(\"ROC AUC score for Random Forest: {}\".format(roc_auc_score(y_test, rf_model.predict_proba(X_test_0)[:, 1])))"
   ]
  },
  {
   "cell_type": "code",
   "execution_count": 20,
   "metadata": {},
   "outputs": [
    {
     "data": {
      "image/png": "[encoded data removed]",
      "text/plain": [
       "<Figure size 432x288 with 1 Axes>"
      ]
     },
     "metadata": {
      "needs_background": "light"
     },
     "output_type": "display_data"
    }
   ],
   "source": [
    "fpr_lr, tpr_lr, _ = precision_recall_curve(y_test, lr_model.predict_proba(X_test_0)[:, 1])\n",
    "fpr_rf, tpr_rf, _ = precision_recall_curve(y_test,rf_model.predict_proba(X_test_0)[:, 1])\n",
    "\n",
    "plt.title('Precision recall curve')\n",
    "plt.plot(tpr_lr, fpr_lr, 'b', label = 'lr')\n",
    "plt.plot(tpr_rf, fpr_rf, 'g', label = 'rf')\n",
    "plt.plot([1, 0], [0, 1],'r--')\n",
    "plt.legend(loc = 'lower left')\n",
    "plt.ylabel('Precision')\n",
    "plt.xlabel('Recall')\n",
    "plt.show()"
   ]
  },
  {
   "cell_type": "code",
   "execution_count": 21,
   "metadata": {},
   "outputs": [
    {
     "name": "stdout",
     "output_type": "stream",
     "text": [
      "Precision/recall score for Logistic Regression: 0.8827613568736361\n",
      "Precision/recall score for Random Forest: 0.861926334449478\n"
     ]
    }
   ],
   "source": [
    "print(\"Precision/recall score for Logistic Regression: {}\".format(f1_score(y_test, lr_model.predict(X_test_0))))\n",
    "print(\"Precision/recall score for Random Forest: {}\".format(f1_score(y_test, rf_model.predict(X_test_0))))"
   ]
  },
  {
   "cell_type": "markdown",
   "metadata": {},
   "source": [
    "**examples of trickiest missclassified object**"
   ]
  },
  {
   "cell_type": "markdown",
   "metadata": {},
   "source": [
    "*False positive*:"
   ]
  },
  {
   "cell_type": "code",
   "execution_count": 22,
   "metadata": {},
   "outputs": [
    {
     "data": {
      "text/plain": [
       "'I saw this when it was in the theater, it started out so strong I mean back in 1980 this was a bold movie and the special effects were excellent AT THE time. Now you would have to of been at least 30 or so in 1980 to really understand this point because studying film historically misses the mind set at the time the expectations, and other related psychological factors. Now as I said the movie was engaging suspenseful and very entertaining. It builds to an excellent climax then.... IT ends I mean the person that described it as having a water balloon break in your hand before throwing it, besides being a very poetic description. In my experience, it was just not strong enough. My wife and I were well... how can I say this? We were upset, I mean we paid money, invested the time to watch the movie which was excellent. \\\\We both felt we were robbed with an ending that convinced us both the production company must of run out of money and could not raise enough to finish it correctly. In fact my wife said it best, it did not end, IT JUST STOPPED!\"'"
      ]
     },
     "execution_count": 22,
     "metadata": {},
     "output_type": "execute_result"
    }
   ],
   "source": [
    "X_test[(y_test != lr_model.predict(X_test_0)) & (lr_model.predict_proba(X_test_0)[:, 1] >= 0.9)][4617]"
   ]
  },
  {
   "cell_type": "markdown",
   "metadata": {},
   "source": [
    "*False negative*:"
   ]
  },
  {
   "cell_type": "code",
   "execution_count": 23,
   "metadata": {},
   "outputs": [
    {
     "data": {
      "text/plain": [
       "\"Who ever came up with story is one sick person. I rented it for our slumber party sleepover and all six of us got freaked out cause we're all in an acting class together, and we know a couple of the actors from class. Besides everybody screaming the whole freaky night, I had freaky nightmares. I kept thinking oh my God, if I get up to go to the bathroom to pee I'm going to be stabbed in the middle of wiping or something. I couldn't even go to the bathroom because we watched this gruesome horror movie. I also thought why are all the girls topless in this movie but we don't any of the boys units? You should make a horror film where the killer is a girl and chopping off units. I would watch that over and over. Call it hard or soft or something stupid like that. I'm only giving this movie a 9 because you FREAKED ME OUT FREAKS.\""
      ]
     },
     "execution_count": 23,
     "metadata": {},
     "output_type": "execute_result"
    }
   ],
   "source": [
    "X_test[(y_test != lr_model.predict(X_test_0)) & (lr_model.predict_proba(X_test_0)[:, 1] <= 0.001)][8052]"
   ]
  },
  {
   "cell_type": "markdown",
   "metadata": {},
   "source": [
    "I think the main reason of missclassifications is the unique \"style\" of these reviews. We can see that in false negative missclassification there are such expressions as \"gruesome\", \"freaky\", \"stupid\", \"freaked me out\" and in the context of horror movie it has a positive meaning, but for сlassifier is can be a kind of negative. And in false positive we can see a lot of \"positive\" words, such as \"excellent\", \"entertaining\", \"excellent\", but in the review we can see a controversial opinion and truly negative words only in the last sentence about the end of the film."
   ]
  },
  {
   "cell_type": "markdown",
   "metadata": {},
   "source": [
    "Which model gives higher scores? Any ideas why? Please suggest 1-2 reasons.\n",
    "\n",
    "**Answer:** Best score was given by Logistic regression. Reasons: \n",
    "- Tree algorithms suffer from the curse of dimensionality (we have one-hot-encoding for words and therefore the dimension is increased a lot).\n"
   ]
  },
  {
   "cell_type": "markdown",
   "metadata": {},
   "source": [
    "### More sophisticated feature prerocessing\n",
    "\n",
    "As we have seen, simple BOW can give us some result - it's time to improve it.\n",
    "\n",
    "**Task 1.4 [1 point] - Frequencies calculation**\n",
    "\n",
    "- Calculate top-20 words in train set and test set. *Are they meaningful?*\n",
    "- Import `stopwords` and print some of them. What are those?\n",
    "- Recalculate top-20 words in each set, but exclude stop words.\n",
    "- Does now top-20 include more useful words?"
   ]
  },
  {
   "cell_type": "code",
   "execution_count": 24,
   "metadata": {},
   "outputs": [],
   "source": [
    "from collections import Counter\n",
    "from nltk.tokenize import WhitespaceTokenizer, WordPunctTokenizer, TreebankWordTokenizer\n",
    "from nltk.corpus import stopwords"
   ]
  },
  {
   "cell_type": "code",
   "execution_count": 25,
   "metadata": {},
   "outputs": [],
   "source": [
    "tkz = WhitespaceTokenizer()"
   ]
  },
  {
   "cell_type": "code",
   "execution_count": 26,
   "metadata": {},
   "outputs": [],
   "source": [
    "counts_train = Counter()\n",
    "for sentence in X_train:\n",
    "    counts_train.update(tkz.tokenize(sentence))\n",
    "    \n",
    "counts_test = Counter()\n",
    "for sentence in X_test:\n",
    "    counts_test.update(tkz.tokenize(sentence))\n",
    "    \n",
    "del counts_train['/><br']\n",
    "del counts_test['/><br']"
   ]
  },
  {
   "cell_type": "code",
   "execution_count": 27,
   "metadata": {},
   "outputs": [
    {
     "name": "stdout",
     "output_type": "stream",
     "text": [
      "Top-20 words in train set: [('the', 230191), ('a', 124236), ('and', 122525), ('of', 114632), ('to', 106231), ('is', 82852), ('in', 68303), ('I', 52896), ('that', 51864), ('this', 45937), ('it', 43691), ('was', 37452), ('as', 33868), ('with', 33567), ('for', 32891), ('The', 27102), ('but', 27011), ('on', 24827), ('movie', 24625), ('are', 22817)]\n",
      "Top-20 words in test set: [('the', 56841), ('a', 30860), ('and', 30139), ('of', 28340), ('to', 26337), ('is', 20376), ('in', 17277), ('I', 13077), ('that', 12696), ('this', 11259), ('it', 10738), ('was', 9246), ('as', 8642), ('for', 8179), ('with', 8154), ('but', 6779), ('The', 6660), ('on', 5939), ('movie', 5875), ('are', 5682)]\n"
     ]
    }
   ],
   "source": [
    "print(\"Top-20 words in train set:\", counts_train.most_common(20))\n",
    "print(\"Top-20 words in test set:\", counts_test.most_common(20))"
   ]
  },
  {
   "cell_type": "code",
   "execution_count": 28,
   "metadata": {},
   "outputs": [
    {
     "name": "stdout",
     "output_type": "stream",
     "text": [
      "['i', 'me', 'my', 'myself', 'we', 'our', 'ours', 'ourselves', 'you', \"you're\", \"you've\", \"you'll\", \"you'd\", 'your', 'yours', 'yourself', 'yourselves', 'he', 'him', 'his', 'himself', 'she', \"she's\", 'her', 'hers', 'herself', 'it', \"it's\", 'its', 'itself', 'they', 'them', 'their', 'theirs', 'themselves', 'what', 'which', 'who', 'whom', 'this', 'that', \"that'll\", 'these', 'those', 'am', 'is', 'are', 'was', 'were', 'be', 'been', 'being', 'have', 'has', 'had', 'having', 'do', 'does', 'did', 'doing', 'a', 'an', 'the', 'and', 'but', 'if', 'or', 'because', 'as', 'until', 'while', 'of', 'at', 'by', 'for', 'with', 'about', 'against', 'between', 'into', 'through', 'during', 'before', 'after', 'above', 'below', 'to', 'from', 'up', 'down', 'in', 'out', 'on', 'off', 'over', 'under', 'again', 'further', 'then', 'once', 'here', 'there', 'when', 'where', 'why', 'how', 'all', 'any', 'both', 'each', 'few', 'more', 'most', 'other', 'some', 'such', 'no', 'nor', 'not', 'only', 'own', 'same', 'so', 'than', 'too', 'very', 's', 't', 'can', 'will', 'just', 'don', \"don't\", 'should', \"should've\", 'now', 'd', 'll', 'm', 'o', 're', 've', 'y', 'ain', 'aren', \"aren't\", 'couldn', \"couldn't\", 'didn', \"didn't\", 'doesn', \"doesn't\", 'hadn', \"hadn't\", 'hasn', \"hasn't\", 'haven', \"haven't\", 'isn', \"isn't\", 'ma', 'mightn', \"mightn't\", 'mustn', \"mustn't\", 'needn', \"needn't\", 'shan', \"shan't\", 'shouldn', \"shouldn't\", 'wasn', \"wasn't\", 'weren', \"weren't\", 'won', \"won't\", 'wouldn', \"wouldn't\"]\n"
     ]
    }
   ],
   "source": [
    "print(stopwords.words('english'))"
   ]
  },
  {
   "cell_type": "code",
   "execution_count": 29,
   "metadata": {},
   "outputs": [],
   "source": [
    "for word in stopwords.words('english'):\n",
    "    if word in counts_train:\n",
    "        del counts_train[word]\n",
    "        \n",
    "for word in stopwords.words('english'):\n",
    "    if word in counts_test:\n",
    "        del counts_test[word]\n",
    "        \n",
    "del counts_train['/><br']\n",
    "del counts_test['/><br']\n",
    "del counts_test['-']\n",
    "del counts_test['-']"
   ]
  },
  {
   "cell_type": "code",
   "execution_count": 30,
   "metadata": {},
   "outputs": [
    {
     "name": "stdout",
     "output_type": "stream",
     "text": [
      "Top-20 words in train set:\n",
      " [('I', 52896), ('The', 27102), ('movie', 24625), ('film', 22030), ('one', 16664), ('like', 14536), ('This', 9886), ('would', 9528), ('good', 9043), ('It', 8759), ('really', 8691), ('even', 8569), ('see', 8190), ('-', 7494), ('get', 6977), ('much', 6888), ('story', 6838), ('time', 6236), ('make', 5987), ('also', 5983)]\n",
      "Top-20 words in test set:\n",
      " [('I', 13077), ('The', 6660), ('movie', 5875), ('film', 5367), ('one', 4024), ('like', 3597), ('would', 2394), ('This', 2393), ('good', 2392), ('It', 2193), ('really', 2124), ('even', 2038), ('see', 1965), ('get', 1800), ('story', 1688), ('much', 1619), ('time', 1528), ('could', 1514), ('make', 1498), ('/>The', 1496)]\n"
     ]
    }
   ],
   "source": [
    "print(\"Top-20 words in train set:\\n\", counts_train.most_common(20))\n",
    "print(\"Top-20 words in test set:\\n\", counts_test.most_common(20))"
   ]
  },
  {
   "cell_type": "markdown",
   "metadata": {},
   "source": [
    "**Task 1.5 [1 point] - Word Freqs by class**\n",
    "\n",
    "How do you think, will top100 tokens for positive and negative classes be different? Use data to prove your point."
   ]
  },
  {
   "cell_type": "code",
   "execution_count": 31,
   "metadata": {},
   "outputs": [],
   "source": [
    "pos_train = X_train[y_train == 1]\n",
    "neg_train = X_train[y_train == 0]\n",
    "\n",
    "pos_test = X_test[y_test == 1]\n",
    "neg_test = X_test[y_test == 0]"
   ]
  },
  {
   "cell_type": "code",
   "execution_count": 32,
   "metadata": {},
   "outputs": [],
   "source": [
    "import string\n",
    "\n",
    "def top_n_tokens(X, n_tokens):\n",
    "    cnt = Counter()\n",
    "    tkz =  TreebankWordTokenizer()\n",
    "    \n",
    "    for sentence in X:\n",
    "        tokens = tkz.tokenize(sentence)\n",
    "        tokens = [t.lower() for t in tokens]\n",
    "        cnt.update(tokens)\n",
    "        \n",
    "    for word in stopwords.words('english'):\n",
    "        if word in cnt:\n",
    "            del cnt[word]\n",
    "            \n",
    "    for sym in string.punctuation:\n",
    "        if sym in cnt:\n",
    "            del cnt[sym]\n",
    "            \n",
    "    del_sym = ['/><br', '-', 'br', '--', \"''\", '...', \"'s\"]\n",
    "    for sym in del_sym:\n",
    "        del cnt[sym]\n",
    "    \n",
    "    labels, values = zip(*cnt.most_common(10))\n",
    "    indSort = np.argsort(values)[::-1]\n",
    "    \n",
    "    labels = np.array(labels)[indSort]\n",
    "    values = np.array(values)[indSort]\n",
    "\n",
    "    indexes = np.arange(len(labels))\n",
    "\n",
    "    bar_width = 0.35\n",
    "    plt.bar(indexes, values)\n",
    "    plt.xticks(indexes + bar_width, labels)\n",
    "    plt.show()\n",
    "            \n",
    "    return cnt.most_common(n_tokens)"
   ]
  },
  {
   "cell_type": "code",
   "execution_count": 33,
   "metadata": {},
   "outputs": [
    {
     "data": {
      "image/png": "[encoded data removed]",
      "text/plain": [
       "<Figure size 432x288 with 1 Axes>"
      ]
     },
     "metadata": {
      "needs_background": "light"
     },
     "output_type": "display_data"
    },
    {
     "name": "stdout",
     "output_type": "stream",
     "text": [
      "Top-100 words in positive train set:\n",
      " [('film', 14616), ('movie', 13249), (\"n't\", 10611), ('one', 10359), ('like', 7043), ('good', 5421), ('great', 4849), ('story', 4796), ('see', 4614), ('would', 4558), ('also', 4386), ('really', 4327), ('time', 4071), ('well', 4001), ('even', 3984), ('much', 3636), ('first', 3607), ('get', 3356), ('people', 3318), ('best', 3243), ('love', 3191), ('many', 2995), ('could', 2917), ('think', 2885), ('two', 2839), ('way', 2812), ('made', 2770), ('films', 2748), ('little', 2633), ('still', 2620), ('never', 2589), ('characters', 2555), ('make', 2553), ('movies', 2539), ('life', 2536), ('character', 2532), ('watch', 2465), ('seen', 2451), ('man', 2398), ('show', 2313), ('know', 2210), ('it.', 2210), ('ever', 2011), ('film.', 1965), ('makes', 1904), ('movie.', 1901), ('years', 1889), ('scene', 1881), ('new', 1873), ('young', 1867), ('say', 1858), ('though', 1855), ('go', 1854), ('back', 1844), (\"'ve\", 1819), ('real', 1812), ('find', 1803), ('end', 1786), ('acting', 1784), ('plot', 1750), ('better', 1746), ('scenes', 1687), ('us', 1664), ('quite', 1646), ('lot', 1642), ('something', 1639), ('always', 1632), ('old', 1626), ('world', 1620), ('may', 1606), ('another', 1588), ('every', 1568), ('work', 1555), ('cast', 1551), ('part', 1535), ('look', 1493), (\"'m\", 1482), ('director', 1468), ('watching', 1464), ('actors', 1453), ('actually', 1433), ('however', 1402), ('series', 1395), ('family', 1394), ('big', 1392), ('things', 1389), ('bad', 1383), ('bit', 1374), ('going', 1363), ('take', 1357), ('funny', 1354), ('performance', 1340), ('fact', 1339), ('without', 1336), ('got', 1329), ('saw', 1319), ('role', 1318), ('must', 1269), ('music', 1253), ('give', 1252)]\n"
     ]
    }
   ],
   "source": [
    "print(\"Top-100 words in positive train set:\\n\", top_n_tokens(pos_train, 100))"
   ]
  },
  {
   "cell_type": "code",
   "execution_count": 34,
   "metadata": {},
   "outputs": [
    {
     "data": {
      "image/png": "[encoded data removed]",
      "text/plain": [
       "<Figure size 432x288 with 1 Axes>"
      ]
     },
     "metadata": {
      "needs_background": "light"
     },
     "output_type": "display_data"
    },
    {
     "name": "stdout",
     "output_type": "stream",
     "text": [
      "Top-100 words in negative train set:\n",
      " [('movie', 16952), (\"n't\", 15660), ('film', 13135), ('one', 9679), ('like', 8694), ('even', 6155), ('would', 6106), ('good', 5280), ('bad', 5070), ('really', 4950), ('could', 4514), ('see', 4284), ('time', 3985), ('get', 3897), ('much', 3833), ('people', 3644), ('make', 3590), ('story', 3574), ('first', 3365), ('made', 3298), ('plot', 2924), ('acting', 2919), ('also', 2857), ('think', 2854), ('movies', 2815), ('well', 2754), ('way', 2748), ('movie.', 2622), ('never', 2617), ('character', 2594), ('know', 2564), ('characters', 2554), ('watch', 2537), ('it.', 2439), ('ever', 2408), ('little', 2376), ('two', 2353), ('say', 2347), ('better', 2336), ('many', 2329), (\"'m\", 2308), (\"'ve\", 2299), ('seen', 2263), ('nothing', 2233), ('something', 2181), ('films', 2163), ('go', 2090), ('scene', 2059), ('thing', 2046), ('show', 1995), ('watching', 1986), ('scenes', 1971), ('end', 1959), ('great', 1951), ('film.', 1934), ('actually', 1909), ('worst', 1869), ('still', 1814), (\"'re\", 1782), ('going', 1759), ('another', 1748), ('back', 1735), ('look', 1721), ('actors', 1705), ('man', 1688), ('want', 1680), ('director', 1672), ('pretty', 1651), ('every', 1633), ('ca', 1618), ('seems', 1600), ('real', 1590), ('got', 1576), ('least', 1551), ('love', 1543), ('best', 1518), ('old', 1506), ('though', 1502), ('find', 1477), ('horror', 1470), ('original', 1458), ('fact', 1457), ('enough', 1454), ('part', 1450), ('guy', 1447), ('give', 1446), ('makes', 1440), ('life', 1438), ('minutes', 1436), ('take', 1436), ('script', 1435), ('funny', 1430), ('lot', 1427), ('new', 1423), ('around', 1417), ('things', 1388), ('whole', 1382), ('anything', 1367), ('gets', 1347), ('however', 1340)]\n"
     ]
    }
   ],
   "source": [
    "print(\"Top-100 words in negative train set:\\n\", top_n_tokens(neg_train, 100))"
   ]
  },
  {
   "cell_type": "code",
   "execution_count": 35,
   "metadata": {},
   "outputs": [
    {
     "data": {
      "image/png": "[encoded data removed]",
      "text/plain": [
       "<Figure size 432x288 with 1 Axes>"
      ]
     },
     "metadata": {
      "needs_background": "light"
     },
     "output_type": "display_data"
    },
    {
     "name": "stdout",
     "output_type": "stream",
     "text": [
      "Top-100 words in positive test set:\n",
      " [('film', 3535), ('movie', 3119), (\"n't\", 2659), ('one', 2469), ('like', 1649), ('good', 1439), ('great', 1183), ('story', 1166), ('would', 1136), ('see', 1112), ('really', 1090), ('also', 1071), ('time', 1042), ('well', 951), ('even', 948), ('first', 935), ('get', 830), ('much', 829), ('people', 824), ('best', 797), ('love', 741), ('many', 740), ('could', 737), ('way', 721), ('made', 694), ('two', 691), ('think', 680), ('still', 680), ('show', 678), ('life', 662), ('character', 643), ('little', 625), ('seen', 624), ('make', 617), ('films', 615), ('never', 604), ('characters', 596), ('watch', 591), ('movies', 548), ('it.', 527), ('man', 520), ('know', 513), ('new', 512), ('back', 509), ('years', 489), ('quite', 486), (\"'ve\", 483), ('say', 476), ('though', 475), ('makes', 471), ('ever', 471), ('real', 466), ('film.', 457), ('movie.', 453), ('scenes', 451), ('acting', 429), ('find', 429), ('scene', 427), ('go', 424), ('young', 423), ('end', 419), ('series', 409), ('always', 402), (\"'m\", 396), ('another', 396), ('something', 396), ('part', 395), ('work', 395), ('plot', 389), ('every', 376), ('better', 373), ('old', 372), ('actors', 368), ('may', 367), ('world', 364), ('watching', 364), ('however', 358), ('lot', 357), ('us', 355), ('going', 343), ('saw', 343), ('cast', 341), ('role', 341), ('got', 340), ('family', 339), ('things', 336), ('last', 335), ('actually', 334), ('performance', 333), ('especially', 329), ('bad', 323), ('gets', 320), ('without', 319), ('big', 318), ('must', 318), ('want', 318), ('bit', 317), ('action', 316), ('pretty', 313), ('director', 311)]\n"
     ]
    }
   ],
   "source": [
    "print(\"Top-100 words in positive test set:\\n\", top_n_tokens(pos_test, 100))"
   ]
  },
  {
   "cell_type": "code",
   "execution_count": 36,
   "metadata": {},
   "outputs": [
    {
     "data": {
      "image/png": "[encoded data removed]",
      "text/plain": [
       "<Figure size 432x288 with 1 Axes>"
      ]
     },
     "metadata": {
      "needs_background": "light"
     },
     "output_type": "display_data"
    },
    {
     "name": "stdout",
     "output_type": "stream",
     "text": [
      "Top-100 words in negative test set:\n",
      " [('movie', 4124), (\"n't\", 3998), ('film', 3182), ('one', 2324), ('like', 2213), ('would', 1535), ('even', 1493), ('good', 1351), ('bad', 1284), ('really', 1182), ('could', 1139), ('get', 1049), ('time', 1018), ('see', 1017), ('much', 953), ('make', 925), ('story', 899), ('people', 832), ('first', 788), ('made', 778), ('acting', 755), ('think', 734), ('plot', 726), ('way', 712), ('well', 709), ('also', 696), ('watch', 684), ('characters', 672), ('little', 644), ('movies', 637), ('movie.', 635), ('two', 627), ('character', 619), ('never', 609), ('ever', 602), ('know', 597), ('it.', 597), ('better', 582), ('nothing', 571), (\"'m\", 569), ('many', 559), ('something', 537), ('watching', 533), ('thing', 532), ('say', 524), (\"'ve\", 519), ('films', 518), ('seen', 514), ('actually', 512), ('great', 507), ('show', 506), ('scenes', 491), ('end', 485), ('film.', 480), ('worst', 479), ('going', 473), ('scene', 472), ('go', 471), ('actors', 459), ('ca', 449), ('still', 444), ('pretty', 437), (\"'re\", 436), ('want', 434), ('look', 431), ('got', 425), ('back', 420), ('seems', 414), ('man', 412), ('director', 409), ('another', 400), ('old', 398), ('least', 394), ('real', 394), ('love', 393), ('enough', 392), ('though', 391), ('minutes', 388), ('around', 387), ('horror', 381), ('life', 379), ('every', 377), ('lot', 377), ('best', 373), ('give', 371), ('thought', 366), ('find', 360), ('script', 360), ('makes', 360), ('point', 359), ('whole', 356), ('funny', 353), ('however', 347), ('might', 344), ('big', 344), ('anything', 339), ('new', 338), ('gets', 335), ('take', 334), ('guy', 333)]\n"
     ]
    }
   ],
   "source": [
    "print(\"Top-100 words in negative test set:\\n\", top_n_tokens(neg_test, 100))"
   ]
  },
  {
   "cell_type": "markdown",
   "metadata": {},
   "source": [
    "*Answer:* We can see that top100 tokens for positive and negative classes are different. In negative cases, we can see such words as \"bad\", \"worst\" and etc. (negative adjectives) and in positive cases such words as \"good\", \"great\" (positive)."
   ]
  },
  {
   "cell_type": "markdown",
   "metadata": {},
   "source": [
    "**Task 1.6 [2 points] - Reducing dimensionality**\n",
    "\n",
    "The goal is to reduce number of features to 15000.\n",
    "\n",
    "Implement the following methods of dimensinality reduction:\n",
    "1. Use CountVectorizer, but leave only 15k most frequent tokens\n",
    "2. Use HashingVectorizer with 15k features\n",
    "3. Use 15k most important features from perspective of previously trained RandomForest\n",
    "\n",
    "*Hints:*\n",
    "- in 1 and 2 you don't have to apply nltk.corpus.stopwords, vectorizers have `stopwords` parameter\n",
    "- in 1 look for `vocabulary` parameter\n",
    "- in 3... remember `lab02`? You may use `X_train_0` and `X_test_0` as input matrices\n",
    "\n",
    "Train LogisticRegression and RandomForest on each dataset and compare ROC AUC scores of the classifiers."
   ]
  },
  {
   "cell_type": "code",
   "execution_count": 37,
   "metadata": {},
   "outputs": [
    {
     "name": "stdout",
     "output_type": "stream",
     "text": [
      "ROC AUC score for Logistic Regression: 0.93073568\n",
      "ROC AUC score for Random Forest: 0.928096\n",
      "LR accuracy: 0.8646\n",
      "RF accuracy: 0.853\n"
     ]
    }
   ],
   "source": [
    "from sklearn.feature_extraction.text import CountVectorizer, HashingVectorizer\n",
    "\n",
    "counts_train = Counter()\n",
    "for sentence in X_train:\n",
    "    counts_train.update(tkz.tokenize(sentence))\n",
    "    \n",
    "for word in stopwords.words('english'):\n",
    "    if word in counts_train:\n",
    "        del counts_train[word]\n",
    "        \n",
    "        \n",
    "train_most_common, _ = zip(*counts_train.most_common(15000))\n",
    "\n",
    "cnt_vect_train = CountVectorizer(stop_words='english', vocabulary=train_most_common, max_features=15000, lowercase=False)\n",
    "X_train_vect = cnt_vect_train.fit_transform(X_train)\n",
    "X_test_vect = cnt_vect_train.transform(X_test)\n",
    "\n",
    "rf_model = RandomForestClassifier(n_estimators=500, n_jobs=4)\n",
    "lr_model = LogisticRegression(max_iter=1e5)\n",
    "\n",
    "rf_model.fit(X_train_vect, y_train)\n",
    "lr_model.fit(X_train_vect, y_train)\n",
    "\n",
    "print(\"ROC AUC score for Logistic Regression: {}\".format(roc_auc_score(y_test, lr_model.predict_proba(X_test_vect)[:, 1])))\n",
    "print(\"ROC AUC score for Random Forest: {}\".format(roc_auc_score(y_test, rf_model.predict_proba(X_test_vect)[:, 1])))\n",
    "\n",
    "print(\"LR accuracy: {}\".format(accuracy_score(lr_model.predict(X_test_vect), y_test)))\n",
    "print(\"RF accuracy: {}\".format(accuracy_score(rf_model.predict(X_test_vect), y_test)))"
   ]
  },
  {
   "cell_type": "code",
   "execution_count": 38,
   "metadata": {},
   "outputs": [
    {
     "name": "stdout",
     "output_type": "stream",
     "text": [
      "ROC AUC score for Logistic Regression: 0.9414723199999999\n",
      "ROC AUC score for Random Forest: 0.9295921600000001\n",
      "LR accuracy: 0.8648\n",
      "RF accuracy: 0.8532\n"
     ]
    }
   ],
   "source": [
    "cnt_vect = HashingVectorizer(stop_words='english', n_features=15000)\n",
    "X_train_vect = cnt_vect.fit_transform(X_train)\n",
    "X_test_vect = cnt_vect.transform(X_test)\n",
    "\n",
    "rf_model = RandomForestClassifier(n_estimators=500, n_jobs=4)\n",
    "lr_model = LogisticRegression(max_iter=1e5)\n",
    "\n",
    "rf_model.fit(X_train_vect, y_train)\n",
    "lr_model.fit(X_train_vect, y_train)\n",
    "\n",
    "print(\"ROC AUC score for Logistic Regression: {}\".format(roc_auc_score(y_test, lr_model.predict_proba(X_test_vect)[:, 1])))\n",
    "print(\"ROC AUC score for Random Forest: {}\".format(roc_auc_score(y_test, rf_model.predict_proba(X_test_vect)[:, 1])))\n",
    "\n",
    "print(\"LR accuracy: {}\".format(accuracy_score(lr_model.predict(X_test_vect), y_test)))\n",
    "print(\"RF accuracy: {}\".format(accuracy_score(rf_model.predict(X_test_vect), y_test)))"
   ]
  },
  {
   "cell_type": "code",
   "execution_count": 39,
   "metadata": {},
   "outputs": [
    {
     "data": {
      "text/plain": [
       "RandomForestClassifier(n_estimators=500, n_jobs=4)"
      ]
     },
     "execution_count": 39,
     "metadata": {},
     "output_type": "execute_result"
    }
   ],
   "source": [
    "rf_model = RandomForestClassifier(n_estimators=500, n_jobs=4)\n",
    "rf_model.fit(X_train_vect, y_train)"
   ]
  },
  {
   "cell_type": "code",
   "execution_count": 40,
   "metadata": {},
   "outputs": [],
   "source": [
    "forest_coefs = rf_model.feature_importances_\n",
    "important_feature_idx = np.argsort(np.abs(forest_coefs))[-15000:]\n",
    "X_train_selected = X_train_vect[:, important_feature_idx]\n",
    "X_test_selected = X_test_vect[:, important_feature_idx]"
   ]
  },
  {
   "cell_type": "code",
   "execution_count": 41,
   "metadata": {},
   "outputs": [
    {
     "name": "stdout",
     "output_type": "stream",
     "text": [
      "ROC AUC score for Logistic Regression: 0.94147168\n",
      "ROC AUC score for Random Forest: 0.92981488\n",
      "LR accuracy: 0.8648\n",
      "RF accuracy: 0.8506\n"
     ]
    }
   ],
   "source": [
    "rf_model = RandomForestClassifier(n_estimators=500, n_jobs=4)\n",
    "lr_model = LogisticRegression(max_iter=1e5)\n",
    "\n",
    "rf_model.fit(X_train_selected, y_train)\n",
    "lr_model.fit(X_train_selected, y_train)\n",
    "\n",
    "print(\"ROC AUC score for Logistic Regression: {}\".format(roc_auc_score(y_test, lr_model.predict_proba(X_test_selected)[:, 1])))\n",
    "print(\"ROC AUC score for Random Forest: {}\".format(roc_auc_score(y_test, rf_model.predict_proba(X_test_selected)[:, 1])))\n",
    "\n",
    "print(\"LR accuracy: {}\".format(accuracy_score(lr_model.predict(X_test_selected), y_test)))\n",
    "print(\"RF accuracy: {}\".format(accuracy_score(rf_model.predict(X_test_selected), y_test)))"
   ]
  },
  {
   "cell_type": "markdown",
   "metadata": {},
   "source": [
    "**Task 1.7 [2 points] - Token Normalization**\n",
    "\n",
    "Choose the best working method from previous task. Try improve it by applying a token normalization technique.\n",
    "\n",
    "You may use one of normalizers imported below, but feel free to experiment.\n",
    "\n",
    "Do the following:\n",
    "- Apply normalizer to X_train, X_test\n",
    "- Build BOW with CountVectorizer + stopwords. What are the shapes of train and test matrices now?\n",
    "- Reduce dimensionality with the best method from Task 2.6. You may try all of them\n",
    "- Train LR/RF to examine whether ROC AUC or Accuracy was improved."
   ]
  },
  {
   "cell_type": "markdown",
   "metadata": {},
   "source": [
    "**WordNetLemmatize**"
   ]
  },
  {
   "cell_type": "code",
   "execution_count": 42,
   "metadata": {},
   "outputs": [
    {
     "name": "stdout",
     "output_type": "stream",
     "text": [
      "(20000, 85030) (5000, 85030)\n"
     ]
    }
   ],
   "source": [
    "from nltk.stem import WordNetLemmatizer, PorterStemmer\n",
    "\n",
    "wrdnet = WordNetLemmatizer()\n",
    "X_train_normalized = pd.Series([wrdnet.lemmatize(x) for x in X_train])\n",
    "X_test_normalized = pd.Series([wrdnet.lemmatize(x) for x in X_test])\n",
    "\n",
    "cnt = CountVectorizer(stop_words='english', lowercase=False)\n",
    "X_train_vect = cnt.fit_transform(X_train_normalized)\n",
    "X_test_vect = cnt.transform(X_test_normalized)\n",
    "\n",
    "print(X_train_vect.shape, X_test_vect.shape)"
   ]
  },
  {
   "cell_type": "code",
   "execution_count": 43,
   "metadata": {},
   "outputs": [
    {
     "name": "stdout",
     "output_type": "stream",
     "text": [
      "ROC AUC score for Logistic Regression: 0.9414723199999999\n",
      "ROC AUC score for Random Forest: 0.92848744\n",
      "LR accuracy: 0.8648\n",
      "RF accuracy: 0.8494\n"
     ]
    }
   ],
   "source": [
    "cnt_vect = HashingVectorizer(stop_words='english', n_features=15000)\n",
    "X_train_vect = cnt_vect.fit_transform(X_train_normalized)\n",
    "X_test_vect = cnt_vect.transform(X_test_normalized)\n",
    "\n",
    "rf_model = RandomForestClassifier(n_estimators=500, n_jobs=4)\n",
    "lr_model = LogisticRegression(max_iter=1e5)\n",
    "\n",
    "rf_model.fit(X_train_vect, y_train)\n",
    "lr_model.fit(X_train_vect, y_train)\n",
    "\n",
    "print(\"ROC AUC score for Logistic Regression: {}\".format(roc_auc_score(y_test, lr_model.predict_proba(X_test_vect)[:, 1])))\n",
    "print(\"ROC AUC score for Random Forest: {}\".format(roc_auc_score(y_test, rf_model.predict_proba(X_test_vect)[:, 1])))\n",
    "\n",
    "print(\"LR accuracy: {}\".format(accuracy_score(lr_model.predict(X_test_vect), y_test)))\n",
    "print(\"RF accuracy: {}\".format(accuracy_score(rf_model.predict(X_test_vect), y_test)))"
   ]
  },
  {
   "cell_type": "markdown",
   "metadata": {},
   "source": [
    "**PorterStemmer**"
   ]
  },
  {
   "cell_type": "code",
   "execution_count": 44,
   "metadata": {},
   "outputs": [
    {
     "name": "stdout",
     "output_type": "stream",
     "text": [
      "(20000, 68257) (5000, 68257)\n"
     ]
    }
   ],
   "source": [
    "prt = PorterStemmer()\n",
    "X_train_normalized = pd.Series([prt.stem(x) for x in X_train])\n",
    "X_test_normalized = pd.Series([prt.stem(x) for x in X_test])\n",
    "\n",
    "cnt = CountVectorizer(stop_words='english', lowercase=False)\n",
    "X_train_vect = cnt.fit_transform(X_train_normalized)\n",
    "X_test_vect = cnt.transform(X_test_normalized)\n",
    "\n",
    "print(X_train_vect.shape, X_test_vect.shape)"
   ]
  },
  {
   "cell_type": "code",
   "execution_count": 45,
   "metadata": {},
   "outputs": [
    {
     "name": "stdout",
     "output_type": "stream",
     "text": [
      "ROC AUC score for Logistic Regression: 0.9414497600000002\n",
      "ROC AUC score for Random Forest: 0.9297744\n",
      "LR accuracy: 0.8646\n",
      "RF accuracy: 0.8522\n"
     ]
    }
   ],
   "source": [
    "cnt_vect = HashingVectorizer(stop_words='english', n_features=15000)\n",
    "X_train_vect = cnt_vect.fit_transform(X_train_normalized)\n",
    "X_test_vect = cnt_vect.transform(X_test_normalized)\n",
    "\n",
    "rf_model = RandomForestClassifier(n_estimators=500, n_jobs=4)\n",
    "lr_model = LogisticRegression(max_iter=1e5)\n",
    "\n",
    "rf_model.fit(X_train_vect, y_train)\n",
    "lr_model.fit(X_train_vect, y_train)\n",
    "\n",
    "print(\"ROC AUC score for Logistic Regression: {}\".format(roc_auc_score(y_test, lr_model.predict_proba(X_test_vect)[:, 1])))\n",
    "print(\"ROC AUC score for Random Forest: {}\".format(roc_auc_score(y_test, rf_model.predict_proba(X_test_vect)[:, 1])))\n",
    "\n",
    "print(\"LR accuracy: {}\".format(accuracy_score(lr_model.predict(X_test_vect), y_test)))\n",
    "print(\"RF accuracy: {}\".format(accuracy_score(rf_model.predict(X_test_vect), y_test)))"
   ]
  },
  {
   "cell_type": "markdown",
   "metadata": {},
   "source": [
    "## Part 2. Word Embeddings [7 points]"
   ]
  },
  {
   "cell_type": "code",
   "execution_count": 46,
   "metadata": {},
   "outputs": [],
   "source": [
    "import gensim.downloader\n",
    "from gensim.utils import tokenize"
   ]
  },
  {
   "cell_type": "markdown",
   "metadata": {},
   "source": [
    "Here is the list of pretrained word embedding models. We suggest using `glove-wiki-gigaword-100`."
   ]
  },
  {
   "cell_type": "code",
   "execution_count": 47,
   "metadata": {},
   "outputs": [
    {
     "data": {
      "text/plain": [
       "['fasttext-wiki-news-subwords-300',\n",
       " 'conceptnet-numberbatch-17-06-300',\n",
       " 'word2vec-ruscorpora-300',\n",
       " 'word2vec-google-news-300',\n",
       " 'glove-wiki-gigaword-50',\n",
       " 'glove-wiki-gigaword-100',\n",
       " 'glove-wiki-gigaword-200',\n",
       " 'glove-wiki-gigaword-300',\n",
       " 'glove-twitter-25',\n",
       " 'glove-twitter-50',\n",
       " 'glove-twitter-100',\n",
       " 'glove-twitter-200',\n",
       " '__testing_word2vec-matrix-synopsis']"
      ]
     },
     "execution_count": 47,
     "metadata": {},
     "output_type": "execute_result"
    }
   ],
   "source": [
    "list(gensim.downloader.info()['models'].keys())"
   ]
  },
  {
   "cell_type": "code",
   "execution_count": 48,
   "metadata": {},
   "outputs": [],
   "source": [
    "word_embeddings = gensim.downloader.load(\"glove-wiki-gigaword-100\")"
   ]
  },
  {
   "cell_type": "markdown",
   "metadata": {},
   "source": [
    "**Task 2.1 [2 point] - WordEmbeddings Geometry**\n",
    "\n",
    "As you probably know, vector space of word embeddings has non-trivial geometry: some word relations (like country-capital or single-plural) cab be represented by vectors, like: **(king - man) + woman = queen**\n",
    "\n",
    "<img src=\"https://linkme.ufanet.ru/images/5687a2011b49eb2413912f1c7d0fb0bd.png\" width=600px>\n",
    "\n",
    "Check this statement on words from the above picture with `word_embeddings.most_similar` function. Pay attention to `positive` and `negative` params.\n",
    "\n",
    "Provide **several** examples, make sure to present different relations: some for nouns, some for verbs."
   ]
  },
  {
   "cell_type": "code",
   "execution_count": 49,
   "metadata": {},
   "outputs": [
    {
     "data": {
      "text/plain": [
       "('queen', 0.7698541283607483)"
      ]
     },
     "execution_count": 49,
     "metadata": {},
     "output_type": "execute_result"
    }
   ],
   "source": [
    "word_embeddings.most_similar(positive=['woman', 'king'], negative=['man'])[0]"
   ]
  },
  {
   "cell_type": "code",
   "execution_count": 50,
   "metadata": {},
   "outputs": [
    {
     "data": {
      "text/plain": [
       "('dogs', 0.8747849464416504)"
      ]
     },
     "execution_count": 50,
     "metadata": {},
     "output_type": "execute_result"
    }
   ],
   "source": [
    "word_embeddings.most_similar(positive=['cats', 'dog'], negative=['cat'])[0]"
   ]
  },
  {
   "cell_type": "code",
   "execution_count": 51,
   "metadata": {},
   "outputs": [
    {
     "data": {
      "text/plain": [
       "('faster', 0.7201759815216064)"
      ]
     },
     "execution_count": 51,
     "metadata": {},
     "output_type": "execute_result"
    }
   ],
   "source": [
    "word_embeddings.most_similar(positive=['slower', 'fast'], negative=['slowest'])[0]"
   ]
  },
  {
   "cell_type": "code",
   "execution_count": 52,
   "metadata": {},
   "outputs": [
    {
     "data": {
      "text/plain": [
       "('long', 0.7793698906898499)"
      ]
     },
     "execution_count": 52,
     "metadata": {},
     "output_type": "execute_result"
    }
   ],
   "source": [
    "word_embeddings.most_similar(positive=['fast', 'longer'], negative=['faster'])[0]"
   ]
  },
  {
   "cell_type": "code",
   "execution_count": 53,
   "metadata": {},
   "outputs": [
    {
     "data": {
      "text/plain": [
       "('boy', 0.8989257216453552)"
      ]
     },
     "execution_count": 53,
     "metadata": {},
     "output_type": "execute_result"
    }
   ],
   "source": [
    "word_embeddings.most_similar(positive=['father', 'girl'], negative=['mother'])[0]"
   ]
  },
  {
   "cell_type": "markdown",
   "metadata": {},
   "source": [
    "**Task 2.2 [2 point] - POS analysis**\n",
    "\n",
    "Use POS tagger to calculate most common POS in the dataset. \n",
    "Here you may read about nltk-taggers: [link](https://www.inf.ed.ac.uk/teaching/courses/icl/nltk/tagging.pdf)\n",
    "\n",
    "- If you were to design POS-related weights, how would you do it? \n",
    "- What POS would get the higher weight? "
   ]
  },
  {
   "cell_type": "code",
   "execution_count": 54,
   "metadata": {},
   "outputs": [],
   "source": [
    "from nltk.tag import DefaultTagger"
   ]
  },
  {
   "cell_type": "code",
   "execution_count": 55,
   "metadata": {},
   "outputs": [],
   "source": [
    "from nltk import tokenize\n",
    "from nltk import tag"
   ]
  },
  {
   "cell_type": "code",
   "execution_count": 56,
   "metadata": {},
   "outputs": [],
   "source": [
    "X_tokenized = [tokenize.word_tokenize(x) for x in X]"
   ]
  },
  {
   "cell_type": "code",
   "execution_count": 57,
   "metadata": {},
   "outputs": [],
   "source": [
    "X_taggeg = [tag.pos_tag(sent) for sent in X_tokenized]"
   ]
  },
  {
   "cell_type": "code",
   "execution_count": 58,
   "metadata": {},
   "outputs": [],
   "source": [
    "tags = [word[1] for sentence in X_taggeg for word in sentence]\n",
    "tag_count = Counter(tags)"
   ]
  },
  {
   "cell_type": "code",
   "execution_count": 59,
   "metadata": {},
   "outputs": [
    {
     "data": {
      "text/plain": [
       "[('NN', 991980),\n",
       " ('NNP', 699468),\n",
       " ('DT', 680835),\n",
       " ('IN', 665110),\n",
       " ('JJ', 494948)]"
      ]
     },
     "execution_count": 59,
     "metadata": {},
     "output_type": "execute_result"
    }
   ],
   "source": [
    "tag_count.most_common(5)"
   ]
  },
  {
   "cell_type": "markdown",
   "metadata": {},
   "source": [
    "We can see that the most common POS is Nouns, Determiner, Preposition or subordinating conjunction and Adjectives. In my opinion,  it's important to take into account adjectives (\"good\", \"bad\", \"interesting\") in the film reviews, for this reason, weight for adjective should be bigger than for other words. The determinant does not carry a lot of meaning and does not color the text emotionally (although there are many of them in the texts), therefore there is no need to take it into account and we can put a small weight on it."
   ]
  },
  {
   "cell_type": "markdown",
   "metadata": {},
   "source": [
    "**Task 2.3 [3 points] - WordEmbeddings**\n",
    "\n",
    "Use dense vector representations to construct vector-representation of each review, then train a model (LR or RF).\n",
    "\n",
    "Compare results of the new model to results of the models above.\n",
    "**Important**\n",
    "- If you just sum embeddings of each token to get an embedding of the whole review, the cost of the task is **[2 points]**\n",
    "- For **[3 points]** you have to use either TF-IDF weight or weights that you designed from POS tags."
   ]
  },
  {
   "cell_type": "markdown",
   "metadata": {},
   "source": [
    "***THIS TASK DIDN'T COMPLETED =(***"
   ]
  },
  {
   "cell_type": "code",
   "execution_count": 60,
   "metadata": {},
   "outputs": [],
   "source": [
    "from gensim.models import Word2Vec\n",
    "from sklearn.feature_extraction.text import TfidfVectorizer"
   ]
  },
  {
   "cell_type": "code",
   "execution_count": 61,
   "metadata": {},
   "outputs": [
    {
     "name": "stderr",
     "output_type": "stream",
     "text": [
      "/Users/anastasialavruhina/.virtualenvs/lib/python3.8/site-packages/sklearn/utils/deprecation.py:87: FutureWarning: Function get_feature_names is deprecated; get_feature_names is deprecated in 1.0 and will be removed in 1.2. Please use get_feature_names_out instead.\n",
      "  warnings.warn(msg, category=FutureWarning)\n"
     ]
    }
   ],
   "source": [
    "# TfIdf weights counting\n",
    "\n",
    "vectorizer_tf = TfidfVectorizer(tokenizer=tkz.tokenize)\n",
    "\n",
    "vectors = vectorizer_tf.fit_transform(X_train)\n",
    "feature_names = vectorizer_tf.get_feature_names()\n",
    "dense = vectors.todense()\n",
    "weights = pd.DataFrame(dense, columns=feature_names)"
   ]
  },
  {
   "cell_type": "code",
   "execution_count": 63,
   "metadata": {},
   "outputs": [
    {
     "name": "stderr",
     "output_type": "stream",
     "text": [
      "/Users/anastasialavruhina/.virtualenvs/lib/python3.8/site-packages/sklearn/utils/deprecation.py:87: FutureWarning: Function get_feature_names is deprecated; get_feature_names is deprecated in 1.0 and will be removed in 1.2. Please use get_feature_names_out instead.\n",
      "  warnings.warn(msg, category=FutureWarning)\n"
     ]
    }
   ],
   "source": [
    "vectors_test = vectorizer_tf.transform(X_test)\n",
    "feature_names_test = vectorizer_tf.get_feature_names()\n",
    "dense_test = vectors_test.todense()\n"
   ]
  },
  {
   "cell_type": "code",
   "execution_count": 65,
   "metadata": {},
   "outputs": [],
   "source": [
    "weights_test = pd.DataFrame(dense_test, columns=feature_names)"
   ]
  },
  {
   "cell_type": "code",
   "execution_count": 79,
   "metadata": {},
   "outputs": [],
   "source": [
    "def sent2vector(sentence, sentence_id):\n",
    "    cur_vec = np.array([0 for x in range(100)])\n",
    "    tokened = tkz.tokenize(sentence)\n",
    "    \n",
    "    words = filter(lambda x: x in word_embeddings.index_to_key, tokened)\n",
    "    words = filter(lambda x: x in feature_names_test, words)\n",
    "    for word in words:\n",
    "        cur_vec = cur_vec + weights[word][sentence_id]*np.array(word_embeddings[word.lower()])\n",
    "        \n",
    "    return cur_vec\n",
    "    \n",
    "vect_sent2vector = np.frompyfunc(sent2vector, 1, 1)"
   ]
  },
  {
   "cell_type": "code",
   "execution_count": 73,
   "metadata": {},
   "outputs": [],
   "source": [
    "X_train_vectored = [sent2vector(snt, id) for id, snt in enumerate(X_train.to_numpy())]"
   ]
  },
  {
   "cell_type": "code",
   "execution_count": 80,
   "metadata": {},
   "outputs": [],
   "source": [
    "X_test_vectored = [sent2vector(snt, id) for id, snt in enumerate(X_test.to_numpy())]"
   ]
  },
  {
   "cell_type": "code",
   "execution_count": null,
   "metadata": {},
   "outputs": [],
   "source": [
    "lr_model = LogisticRegression(max_iter=1e5)\n",
    "lr_model.fit(X_train_vectored, y_train)\n",
    "\n",
    "print(\"ROC AUC score for Logistic Regression: {}\".format(roc_auc_score(y_test, lr_model.predict_proba(X_test_vectored)[:, 1])))\n",
    "print(\"LR accuracy: {}\".format(accuracy_score(lr_model.predict(X_test_vectored), y_test)))"
   ]
  },
  {
   "cell_type": "markdown",
   "metadata": {},
   "source": []
  }
 ],
 "metadata": {
  "interpreter": {
   "hash": "29dfd458196deedd02a7479cd29c2faaa19779d8bdac9cc64d9a2fbdd6dc2d56"
  },
  "kernelspec": {
   "display_name": "Python 3.8.2 64-bit ('.virtualenvs': virtualenv)",
   "name": "python3"
  },
  "language_info": {
   "codemirror_mode": {
    "name": "ipython",
    "version": 3
   },
   "file_extension": ".py",
   "mimetype": "text/x-python",
   "name": "python",
   "nbconvert_exporter": "python",
   "pygments_lexer": "ipython3",
   "version": "3.8.2"
  }
 },
 "nbformat": 4,
 "nbformat_minor": 4
}
